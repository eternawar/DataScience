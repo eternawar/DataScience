{
  "nbformat": 4,
  "nbformat_minor": 0,
  "metadata": {
    "colab": {
      "name": "Analisando os dados sobre o Coronavirus.ipynb",
      "provenance": [],
      "collapsed_sections": [],
      "authorship_tag": "ABX9TyMbtRYaXkQ4iO4TTgPMaTx8",
      "include_colab_link": true
    },
    "kernelspec": {
      "name": "python3",
      "display_name": "Python 3"
    }
  },
  "cells": [
    {
      "cell_type": "markdown",
      "metadata": {
        "id": "view-in-github",
        "colab_type": "text"
      },
      "source": [
        "<a href=\"https://colab.research.google.com/github/mathdeoliveira/Portfolio_DataScience/blob/master/Analisando_os_dados_sobre_o_Coronavirus.ipynb\" target=\"_parent\"><img src=\"https://colab.research.google.com/assets/colab-badge.svg\" alt=\"Open In Colab\"/></a>"
      ]
    },
    {
      "cell_type": "markdown",
      "metadata": {
        "id": "3i9uq-FWNjSk",
        "colab_type": "text"
      },
      "source": [
        "# Introdução\n",
        "\n",
        "<center><img alt=\"Barcelona, Spain (Photo: Getty) GETTY\" width=\"50%\" src=\"https://pict.sindonews.net/dyn/620/content/2020/01/28/207/1509334/pakar-ungkap-struktur-kristal-virus-corona-CLx.jpg\"></center>\n",
        "\n",
        "Neste **notebook** vamos estudar sobre o 2019 Novel Coronavirus (2019-nCoV), identificado os casos confirmados, as mortes e os casos de recuperação. Qual local foi cada tipo dos casos e a evolução da doença ao longo do tempo."
      ]
    },
    {
      "cell_type": "markdown",
      "metadata": {
        "id": "jrpSczriJ_AM",
        "colab_type": "text"
      },
      "source": [
        "## Sobre o coronavírus\n",
        "\n",
        "De acordo com o site do [Ministério da Saúde](https://www.saude.gov.br/saude-de-a-z/coronavirus), coronavírus já é um vírus existente e conhecido que causa infecções respiratórias, esse vírus é bastante mutável, assim, ao decorrer do tempo o vírus sofre mutação, criado assim o **nCoV-2019**.\n",
        "\n",
        "O **nCoV-2019** teve registro no fim de dezembro de 2019, na China, e após isso, o vírus se espalhou para mais de 18 países. Esse vírus se iniciou em um mercado de animais na cidade de Wuhan, China. Por ser rápido e fácil a sua transmissão, organismos internacionais e a comunidade científica está na busca por respostas sobre prevenção, transmissão e tratamento desse novo tipo de coronavírus."
      ]
    },
    {
      "cell_type": "markdown",
      "metadata": {
        "id": "05QCtSYtJ-oT",
        "colab_type": "text"
      },
      "source": [
        "# Obtenção dos dados\n",
        "\n",
        "Os dados dessa análise foi retirado do site [Kaggle](https://www.kaggle.com/sudalairajkumar/novel-corona-virus-2019-dataset), mas quem fez todo o processo foi a [Johns Hopkins University](https://github.com/CSSEGISandData/COVID-19), créditos totais para eles."
      ]
    },
    {
      "cell_type": "markdown",
      "metadata": {
        "id": "AjQPq3TQJ9yE",
        "colab_type": "text"
      },
      "source": [
        "## Informações sobre os atributos\n",
        "\n",
        "* `Sno` - Número serial\n",
        "* `Date` - Data e hora da observação no formato MM/DD/YYYY HH:MM:SS\n",
        "* `Province / State` - Província ou Estado da observação\n",
        "* `Country` - País da observação\n",
        "* `Last Update` - Hora no UTC em que a linha é atualizada para a província ou país em questão.\n",
        "* `Confirmed` - Número de casos confirmados\n",
        "* `Deaths` - Número de mortes\n",
        "* `Recovered` - Números de casos recuperados"
      ]
    },
    {
      "cell_type": "markdown",
      "metadata": {
        "id": "SQ6QQHc3UrXF",
        "colab_type": "text"
      },
      "source": [
        "# Importação dos dados\n",
        "\n",
        "Etapa onde vamos importar os pacotes para Python necessários e o nosso conjunto de dados mencionado acima."
      ]
    },
    {
      "cell_type": "code",
      "metadata": {
        "id": "hNfhP2YIJ_aa",
        "colab_type": "code",
        "colab": {}
      },
      "source": [
        "# import de bibliotecas necessárias\n",
        "import pandas as pd\n",
        "import matplotlib.pyplot as plt\n",
        "import seaborn as sns\n",
        "import matplotlib.dates as mdates\n",
        "import plotly.graph_objects as go"
      ],
      "execution_count": 0,
      "outputs": []
    },
    {
      "cell_type": "code",
      "metadata": {
        "id": "ZhmphryDKBCc",
        "colab_type": "code",
        "outputId": "f12e66bb-b4c9-4d3a-c501-6ea3f4aefb29",
        "colab": {
          "base_uri": "https://localhost:8080/",
          "height": 204
        }
      },
      "source": [
        "# leitura dos nossos dados e mostrar primeiras linhas\n",
        "df = pd.read_csv('https://raw.githubusercontent.com/mathdeoliveira/files/master/2019_nCoV_data.csv')\n",
        "df.head()"
      ],
      "execution_count": 3,
      "outputs": [
        {
          "output_type": "execute_result",
          "data": {
            "text/html": [
              "<div>\n",
              "<style scoped>\n",
              "    .dataframe tbody tr th:only-of-type {\n",
              "        vertical-align: middle;\n",
              "    }\n",
              "\n",
              "    .dataframe tbody tr th {\n",
              "        vertical-align: top;\n",
              "    }\n",
              "\n",
              "    .dataframe thead th {\n",
              "        text-align: right;\n",
              "    }\n",
              "</style>\n",
              "<table border=\"1\" class=\"dataframe\">\n",
              "  <thead>\n",
              "    <tr style=\"text-align: right;\">\n",
              "      <th></th>\n",
              "      <th>Sno</th>\n",
              "      <th>Date</th>\n",
              "      <th>Province/State</th>\n",
              "      <th>Country</th>\n",
              "      <th>Last Update</th>\n",
              "      <th>Confirmed</th>\n",
              "      <th>Deaths</th>\n",
              "      <th>Recovered</th>\n",
              "    </tr>\n",
              "  </thead>\n",
              "  <tbody>\n",
              "    <tr>\n",
              "      <th>0</th>\n",
              "      <td>1</td>\n",
              "      <td>01/22/2020 12:00:00</td>\n",
              "      <td>Anhui</td>\n",
              "      <td>China</td>\n",
              "      <td>01/22/2020 12:00:00</td>\n",
              "      <td>1.0</td>\n",
              "      <td>0.0</td>\n",
              "      <td>0.0</td>\n",
              "    </tr>\n",
              "    <tr>\n",
              "      <th>1</th>\n",
              "      <td>2</td>\n",
              "      <td>01/22/2020 12:00:00</td>\n",
              "      <td>Beijing</td>\n",
              "      <td>China</td>\n",
              "      <td>01/22/2020 12:00:00</td>\n",
              "      <td>14.0</td>\n",
              "      <td>0.0</td>\n",
              "      <td>0.0</td>\n",
              "    </tr>\n",
              "    <tr>\n",
              "      <th>2</th>\n",
              "      <td>3</td>\n",
              "      <td>01/22/2020 12:00:00</td>\n",
              "      <td>Chongqing</td>\n",
              "      <td>China</td>\n",
              "      <td>01/22/2020 12:00:00</td>\n",
              "      <td>6.0</td>\n",
              "      <td>0.0</td>\n",
              "      <td>0.0</td>\n",
              "    </tr>\n",
              "    <tr>\n",
              "      <th>3</th>\n",
              "      <td>4</td>\n",
              "      <td>01/22/2020 12:00:00</td>\n",
              "      <td>Fujian</td>\n",
              "      <td>China</td>\n",
              "      <td>01/22/2020 12:00:00</td>\n",
              "      <td>1.0</td>\n",
              "      <td>0.0</td>\n",
              "      <td>0.0</td>\n",
              "    </tr>\n",
              "    <tr>\n",
              "      <th>4</th>\n",
              "      <td>5</td>\n",
              "      <td>01/22/2020 12:00:00</td>\n",
              "      <td>Gansu</td>\n",
              "      <td>China</td>\n",
              "      <td>01/22/2020 12:00:00</td>\n",
              "      <td>0.0</td>\n",
              "      <td>0.0</td>\n",
              "      <td>0.0</td>\n",
              "    </tr>\n",
              "  </tbody>\n",
              "</table>\n",
              "</div>"
            ],
            "text/plain": [
              "   Sno                 Date Province/State  ... Confirmed Deaths  Recovered\n",
              "0    1  01/22/2020 12:00:00          Anhui  ...       1.0    0.0        0.0\n",
              "1    2  01/22/2020 12:00:00        Beijing  ...      14.0    0.0        0.0\n",
              "2    3  01/22/2020 12:00:00      Chongqing  ...       6.0    0.0        0.0\n",
              "3    4  01/22/2020 12:00:00         Fujian  ...       1.0    0.0        0.0\n",
              "4    5  01/22/2020 12:00:00          Gansu  ...       0.0    0.0        0.0\n",
              "\n",
              "[5 rows x 8 columns]"
            ]
          },
          "metadata": {
            "tags": []
          },
          "execution_count": 3
        }
      ]
    },
    {
      "cell_type": "markdown",
      "metadata": {
        "id": "vveW13uLWObU",
        "colab_type": "text"
      },
      "source": [
        "# Análise Inicial dos Dados\n",
        "\n",
        "Etapa inicial de análise dos dados, verificar qual o tamanho do nosso dataset, a qualidade dos dados e tipos das colunas."
      ]
    },
    {
      "cell_type": "markdown",
      "metadata": {
        "id": "iN2vOzIdXt-m",
        "colab_type": "text"
      },
      "source": [
        "#### Qual o tamanho do nosso dataset?"
      ]
    },
    {
      "cell_type": "code",
      "metadata": {
        "id": "bc5zyZNNKFoD",
        "colab_type": "code",
        "outputId": "21313e61-5a14-477b-cd37-070a34d0d990",
        "colab": {
          "base_uri": "https://localhost:8080/",
          "height": 51
        }
      },
      "source": [
        "# mostrar a quantidade de dados e variáveis do nosso dataset\n",
        "print('Quantidade de entradas:', df.shape[0])\n",
        "print('Quantidade de atributos:', df.shape[1])"
      ],
      "execution_count": 0,
      "outputs": [
        {
          "output_type": "stream",
          "text": [
            "Quantidade de entradas: 1199\n",
            "Quantidade de atributos: 8\n"
          ],
          "name": "stdout"
        }
      ]
    },
    {
      "cell_type": "markdown",
      "metadata": {
        "id": "RwqoVvXLXPHh",
        "colab_type": "text"
      },
      "source": [
        "#### Existem valores ausente no dataset?"
      ]
    },
    {
      "cell_type": "code",
      "metadata": {
        "id": "wZk_hslhWd_5",
        "colab_type": "code",
        "outputId": "9db9e012-ba6c-4cf9-fe81-c1968f85ca66",
        "colab": {
          "base_uri": "https://localhost:8080/",
          "height": 170
        }
      },
      "source": [
        "# somar a quantidade de dados ausentes para cada atributo\n",
        "df.isnull().sum()"
      ],
      "execution_count": 0,
      "outputs": [
        {
          "output_type": "execute_result",
          "data": {
            "text/plain": [
              "Sno                 0\n",
              "Date                0\n",
              "Province/State    311\n",
              "Country             0\n",
              "Last Update         0\n",
              "Confirmed           0\n",
              "Deaths              0\n",
              "Recovered           0\n",
              "dtype: int64"
            ]
          },
          "metadata": {
            "tags": []
          },
          "execution_count": 14
        }
      ]
    },
    {
      "cell_type": "markdown",
      "metadata": {
        "id": "SPUxCpW0XX5I",
        "colab_type": "text"
      },
      "source": [
        "Foi encontrado dados ausentes no atributo de Province/State, de acordo com a documentação dos dados, caso viessem nulos é por que a informação foi perdida."
      ]
    },
    {
      "cell_type": "markdown",
      "metadata": {
        "id": "jo75euHTXxNP",
        "colab_type": "text"
      },
      "source": [
        "#### Quais são os tipos de cada atributo?"
      ]
    },
    {
      "cell_type": "code",
      "metadata": {
        "id": "q4wJbn79XUBn",
        "colab_type": "code",
        "outputId": "73316372-1c61-4510-a6bd-31d75f3a3400",
        "colab": {
          "base_uri": "https://localhost:8080/",
          "height": 170
        }
      },
      "source": [
        "# mostrar os tipos de cada atributo\n",
        "df.dtypes"
      ],
      "execution_count": 0,
      "outputs": [
        {
          "output_type": "execute_result",
          "data": {
            "text/plain": [
              "Sno                 int64\n",
              "Date               object\n",
              "Province/State     object\n",
              "Country            object\n",
              "Last Update        object\n",
              "Confirmed         float64\n",
              "Deaths            float64\n",
              "Recovered         float64\n",
              "dtype: object"
            ]
          },
          "metadata": {
            "tags": []
          },
          "execution_count": 15
        }
      ]
    },
    {
      "cell_type": "markdown",
      "metadata": {
        "id": "rs2xBG2fY_yL",
        "colab_type": "text"
      },
      "source": [
        "# Análise Exploratória dos Dados\n",
        "\n",
        "\n",
        "Fase de exploração dos dados, vamos entender o impacto desse novo vírus em todo o mundo, visualizar de forma gráfica os dados. Vou seguir duas proposta para explorar e ao decorrer vou inserir novas formas:\n",
        "* Alterações no número de casos afetados ao longo do tempo\n",
        "* Mudança de casos ao longo do tempo no nível do país"
      ]
    },
    {
      "cell_type": "code",
      "metadata": {
        "id": "W3uM5O95X6_2",
        "colab_type": "code",
        "colab": {}
      },
      "source": [
        "# removendo duas colunas que não são úteis, Sno e Last Update\n",
        "df.drop(['Sno', 'Last Update'], axis=1, inplace=True)\n",
        "\n",
        "# transformando o campo Date para datetime\n",
        "df['Date'] = df['Date'].apply(pd.to_datetime)"
      ],
      "execution_count": 0,
      "outputs": []
    },
    {
      "cell_type": "markdown",
      "metadata": {
        "id": "hzP2wNXTbMtf",
        "colab_type": "text"
      },
      "source": [
        "#### Resumo estatístico"
      ]
    },
    {
      "cell_type": "code",
      "metadata": {
        "id": "tTqZ85TMaHXo",
        "colab_type": "code",
        "outputId": "02c26935-685d-43d1-eb54-d7dc11a57f62",
        "colab": {
          "base_uri": "https://localhost:8080/",
          "height": 297
        }
      },
      "source": [
        "df.describe()"
      ],
      "execution_count": 0,
      "outputs": [
        {
          "output_type": "execute_result",
          "data": {
            "text/html": [
              "<div>\n",
              "<style scoped>\n",
              "    .dataframe tbody tr th:only-of-type {\n",
              "        vertical-align: middle;\n",
              "    }\n",
              "\n",
              "    .dataframe tbody tr th {\n",
              "        vertical-align: top;\n",
              "    }\n",
              "\n",
              "    .dataframe thead th {\n",
              "        text-align: right;\n",
              "    }\n",
              "</style>\n",
              "<table border=\"1\" class=\"dataframe\">\n",
              "  <thead>\n",
              "    <tr style=\"text-align: right;\">\n",
              "      <th></th>\n",
              "      <th>Confirmed</th>\n",
              "      <th>Deaths</th>\n",
              "      <th>Recovered</th>\n",
              "    </tr>\n",
              "  </thead>\n",
              "  <tbody>\n",
              "    <tr>\n",
              "      <th>count</th>\n",
              "      <td>1199.000000</td>\n",
              "      <td>1199.000000</td>\n",
              "      <td>1199.000000</td>\n",
              "    </tr>\n",
              "    <tr>\n",
              "      <th>mean</th>\n",
              "      <td>276.213511</td>\n",
              "      <td>5.961635</td>\n",
              "      <td>14.617181</td>\n",
              "    </tr>\n",
              "    <tr>\n",
              "      <th>std</th>\n",
              "      <td>1966.264622</td>\n",
              "      <td>58.082724</td>\n",
              "      <td>103.959136</td>\n",
              "    </tr>\n",
              "    <tr>\n",
              "      <th>min</th>\n",
              "      <td>0.000000</td>\n",
              "      <td>0.000000</td>\n",
              "      <td>0.000000</td>\n",
              "    </tr>\n",
              "    <tr>\n",
              "      <th>25%</th>\n",
              "      <td>2.000000</td>\n",
              "      <td>0.000000</td>\n",
              "      <td>0.000000</td>\n",
              "    </tr>\n",
              "    <tr>\n",
              "      <th>50%</th>\n",
              "      <td>10.000000</td>\n",
              "      <td>0.000000</td>\n",
              "      <td>0.000000</td>\n",
              "    </tr>\n",
              "    <tr>\n",
              "      <th>75%</th>\n",
              "      <td>82.000000</td>\n",
              "      <td>0.000000</td>\n",
              "      <td>2.000000</td>\n",
              "    </tr>\n",
              "    <tr>\n",
              "      <th>max</th>\n",
              "      <td>31728.000000</td>\n",
              "      <td>974.000000</td>\n",
              "      <td>2222.000000</td>\n",
              "    </tr>\n",
              "  </tbody>\n",
              "</table>\n",
              "</div>"
            ],
            "text/plain": [
              "          Confirmed       Deaths    Recovered\n",
              "count   1199.000000  1199.000000  1199.000000\n",
              "mean     276.213511     5.961635    14.617181\n",
              "std     1966.264622    58.082724   103.959136\n",
              "min        0.000000     0.000000     0.000000\n",
              "25%        2.000000     0.000000     0.000000\n",
              "50%       10.000000     0.000000     0.000000\n",
              "75%       82.000000     0.000000     2.000000\n",
              "max    31728.000000   974.000000  2222.000000"
            ]
          },
          "metadata": {
            "tags": []
          },
          "execution_count": 19
        }
      ]
    },
    {
      "cell_type": "markdown",
      "metadata": {
        "id": "Eh_xVlEXf1ZH",
        "colab_type": "text"
      },
      "source": [
        "#### Qual o nosso range de datas?\n",
        "\n"
      ]
    },
    {
      "cell_type": "code",
      "metadata": {
        "id": "aySL9OwcdhuB",
        "colab_type": "code",
        "outputId": "edf0695f-097f-459b-f039-57fd5878be75",
        "colab": {
          "base_uri": "https://localhost:8080/",
          "height": 51
        }
      },
      "source": [
        "# mostrar inicio e fim da data dos registros\n",
        "print('O início dos registros são de', df.Date.min())\n",
        "print('O fim dos registros são de', df.Date.max())"
      ],
      "execution_count": 0,
      "outputs": [
        {
          "output_type": "stream",
          "text": [
            "O início dos registros são de 2020-01-22 12:00:00\n",
            "O fim dos registros são de 2020-02-10 19:30:00\n"
          ],
          "name": "stdout"
        }
      ]
    },
    {
      "cell_type": "markdown",
      "metadata": {
        "id": "S0AZ6wTrgnof",
        "colab_type": "text"
      },
      "source": [
        "Com o resultado acima conseguimos que os dados começam no dia 22 de Janeiro de 2020 e se encerra no dia de 10 de Fevereiro de 2020."
      ]
    },
    {
      "cell_type": "markdown",
      "metadata": {
        "id": "dcGAly99h-8j",
        "colab_type": "text"
      },
      "source": [
        "#### Quais são os países afetados pelo novo vírus?"
      ]
    },
    {
      "cell_type": "code",
      "metadata": {
        "id": "U1ESGRvmh7TM",
        "colab_type": "code",
        "outputId": "75179729-0d8e-46dc-82e1-7bfae4e4d8f6",
        "colab": {
          "base_uri": "https://localhost:8080/",
          "height": 102
        }
      },
      "source": [
        "# Existe China duas vezes no dataset, uma com Mainland China e a outra China, vamos transformar tudo para somente China\n",
        "df['Country'].replace({'Mainland China':'China'},inplace=True)\n",
        "# mostra os países afetados e o número total\n",
        "print(f'Os países afetados pelo novo vírus são: {df.Country.unique()} um total de {len(df.Country.unique())} países.')"
      ],
      "execution_count": 38,
      "outputs": [
        {
          "output_type": "stream",
          "text": [
            "Os países afetados pelo novo vírus são: ['China' 'US' 'Japan' 'Thailand' 'South Korea' 'Hong Kong' 'Macau'\n",
            " 'Taiwan' 'Singapore' 'Philippines' 'Malaysia' 'Vietnam' 'Australia'\n",
            " 'Mexico' 'Brazil' 'France' 'Nepal' 'Canada' 'Cambodia' 'Sri Lanka'\n",
            " 'Ivory Coast' 'Germany' 'Finland' 'United Arab Emirates' 'India' 'Italy'\n",
            " 'Sweden' 'Russia' 'Spain' 'UK' 'Belgium' 'Others'] um total de 32 países.\n"
          ],
          "name": "stdout"
        }
      ]
    },
    {
      "cell_type": "markdown",
      "metadata": {
        "id": "GGOZqcPWjcdq",
        "colab_type": "text"
      },
      "source": [
        "#### Qual é a quantidade de pessoas afetadas pelo vírus?"
      ]
    },
    {
      "cell_type": "code",
      "metadata": {
        "id": "eaN0_8VMhxf1",
        "colab_type": "code",
        "outputId": "e0ac02e5-c41b-4c0c-9fd7-3ad6a13fc6de",
        "colab": {
          "base_uri": "https://localhost:8080/",
          "height": 297
        }
      },
      "source": [
        "# temos que pessoas afetadas são os casos confirmados, mortes e casos recuperados\n",
        "fig, ax= plt.subplots()\n",
        "\n",
        "df[['Confirmed','Deaths', 'Recovered']].max().plot(kind='bar', ax=ax)\n",
        "ax.set_title(\"Quantidade de pessoas afetadas pelo vírus\")\n",
        "ax.set_ylabel(\"Quantidade de Casos\")\n",
        "ax.set_xlabel(\"Tipo do caso\")\n",
        "plt.tight_layout()"
      ],
      "execution_count": 0,
      "outputs": [
        {
          "output_type": "display_data",
          "data": {
            "image/png": "[encoded data removed]",
            "text/plain": [
              "<Figure size 432x288 with 1 Axes>"
            ]
          },
          "metadata": {
            "tags": []
          }
        }
      ]
    },
    {
      "cell_type": "markdown",
      "metadata": {
        "id": "j_8edEYMqDVE",
        "colab_type": "text"
      },
      "source": [
        "#### Qual o número de casos por países?"
      ]
    },
    {
      "cell_type": "code",
      "metadata": {
        "id": "83_P3xkYyD1R",
        "colab_type": "code",
        "outputId": "28306f06-79fa-4cf8-cb23-590e1584dddb",
        "colab": {
          "base_uri": "https://localhost:8080/",
          "height": 441
        }
      },
      "source": [
        "# criar um novo dataframe onde recebera os paises e totais dos seus casos\n",
        "# plotar o gráfico\n",
        "\n",
        "casos = pd.DataFrame(df.groupby('Country')['Confirmed','Deaths','Recovered'].max().sort_values(by=['Confirmed','Deaths','Recovered'], ascending = False))\n",
        "casos['Country'] =casos.index\n",
        "casos.drop('Country', axis=1, inplace=True)\n",
        "\n",
        "fig, ax = plt.subplots(figsize=(12,6))\n",
        "\n",
        "casos.plot(kind='bar', ax=ax)\n",
        "ax.set_title('Quantidade de casos')\n",
        "ax.set_ylabel('Quantidade de casos')\n",
        "ax.set_xlabel('Nome do país')\n",
        "plt.tight_layout()"
      ],
      "execution_count": 0,
      "outputs": [
        {
          "output_type": "display_data",
          "data": {
            "image/png": "[encoded data removed]",
            "text/plain": [
              "<Figure size 864x432 with 1 Axes>"
            ]
          },
          "metadata": {
            "tags": []
          }
        }
      ]
    },
    {
      "cell_type": "markdown",
      "metadata": {
        "id": "tqoyMg-A01KV",
        "colab_type": "text"
      },
      "source": [
        "Com o gráfico acima podemos confirmar que a China é o país que está mais sendo afetado pelo novo vírus."
      ]
    },
    {
      "cell_type": "markdown",
      "metadata": {
        "id": "cP7W6Tn51WkC",
        "colab_type": "text"
      },
      "source": [
        "#### Qual foi a alteração de números de pessoas afetadas ao longo do tempo?"
      ]
    },
    {
      "cell_type": "code",
      "metadata": {
        "id": "L00_6vem1V3J",
        "colab_type": "code",
        "outputId": "77f10d19-4c7c-4d35-91fc-8ad9f94bd89b",
        "colab": {
          "base_uri": "https://localhost:8080/",
          "height": 369
        }
      },
      "source": [
        "# criar novo dataframe com as datas e os totais de cada caso\n",
        "# plotar gráfico\n",
        "\n",
        "casos_tempo = df.groupby('Date')['Confirmed','Deaths','Recovered'].max()\n",
        "casos_tempo['Date']=casos_tempo.index\n",
        "casos_tempo.drop('Date', axis=1, inplace=True)\n",
        "\n",
        "fig, ax = plt.subplots(figsize = (14,5))\n",
        "\n",
        "casos_tempo.plot(kind='line', marker='o', ax=ax)\n",
        "ax.set_title('Evolução de casos do coronavírus')\n",
        "ax.set_xlabel('Data')\n",
        "ax.set_ylabel('Quantidade de casos')\n",
        "ax.grid()\n",
        "plt.tight_layout()"
      ],
      "execution_count": 0,
      "outputs": [
        {
          "output_type": "display_data",
          "data": {
            "image/png": "[encoded data removed]",
            "text/plain": [
              "<Figure size 1008x360 with 1 Axes>"
            ]
          },
          "metadata": {
            "tags": []
          }
        }
      ]
    },
    {
      "cell_type": "markdown",
      "metadata": {
        "id": "Ab2Cbwhd42RW",
        "colab_type": "text"
      },
      "source": [
        "É nítido que o número de casos confirmados está em crescimento, mas vemos que os casos de recuperação estão maiores que os casos de mortes. Mais para frente vamos identificar qual é a taxa de mortalidade para esse vírus."
      ]
    },
    {
      "cell_type": "markdown",
      "metadata": {
        "id": "aPKkdu5z5QZH",
        "colab_type": "text"
      },
      "source": [
        "### Análise mais aprofundada dos casos da China"
      ]
    },
    {
      "cell_type": "markdown",
      "metadata": {
        "id": "4HBNT81e5XgS",
        "colab_type": "text"
      },
      "source": [
        "Vimos que a China é o país mais afetado, vamos olhar somente para os dados registrados nesse país."
      ]
    },
    {
      "cell_type": "code",
      "metadata": {
        "id": "lDNYvyDK2Tr6",
        "colab_type": "code",
        "outputId": "fc57022f-5dcd-44c8-8b63-17d02df0715c",
        "colab": {
          "base_uri": "https://localhost:8080/",
          "height": 204
        }
      },
      "source": [
        "# criar um novo dataframe cópia do original filtrando somente registros do país China\n",
        "\n",
        "df_china = df.loc[df['Country'] == 'China'].copy()\n",
        "#df_china.drop(['Sno', 'Last Update'], axis=1, inplace=True)\n",
        "df_china.head()"
      ],
      "execution_count": 7,
      "outputs": [
        {
          "output_type": "execute_result",
          "data": {
            "text/html": [
              "<div>\n",
              "<style scoped>\n",
              "    .dataframe tbody tr th:only-of-type {\n",
              "        vertical-align: middle;\n",
              "    }\n",
              "\n",
              "    .dataframe tbody tr th {\n",
              "        vertical-align: top;\n",
              "    }\n",
              "\n",
              "    .dataframe thead th {\n",
              "        text-align: right;\n",
              "    }\n",
              "</style>\n",
              "<table border=\"1\" class=\"dataframe\">\n",
              "  <thead>\n",
              "    <tr style=\"text-align: right;\">\n",
              "      <th></th>\n",
              "      <th>Date</th>\n",
              "      <th>Province/State</th>\n",
              "      <th>Country</th>\n",
              "      <th>Confirmed</th>\n",
              "      <th>Deaths</th>\n",
              "      <th>Recovered</th>\n",
              "    </tr>\n",
              "  </thead>\n",
              "  <tbody>\n",
              "    <tr>\n",
              "      <th>0</th>\n",
              "      <td>2020-01-22 12:00:00</td>\n",
              "      <td>Anhui</td>\n",
              "      <td>China</td>\n",
              "      <td>1.0</td>\n",
              "      <td>0.0</td>\n",
              "      <td>0.0</td>\n",
              "    </tr>\n",
              "    <tr>\n",
              "      <th>1</th>\n",
              "      <td>2020-01-22 12:00:00</td>\n",
              "      <td>Beijing</td>\n",
              "      <td>China</td>\n",
              "      <td>14.0</td>\n",
              "      <td>0.0</td>\n",
              "      <td>0.0</td>\n",
              "    </tr>\n",
              "    <tr>\n",
              "      <th>2</th>\n",
              "      <td>2020-01-22 12:00:00</td>\n",
              "      <td>Chongqing</td>\n",
              "      <td>China</td>\n",
              "      <td>6.0</td>\n",
              "      <td>0.0</td>\n",
              "      <td>0.0</td>\n",
              "    </tr>\n",
              "    <tr>\n",
              "      <th>3</th>\n",
              "      <td>2020-01-22 12:00:00</td>\n",
              "      <td>Fujian</td>\n",
              "      <td>China</td>\n",
              "      <td>1.0</td>\n",
              "      <td>0.0</td>\n",
              "      <td>0.0</td>\n",
              "    </tr>\n",
              "    <tr>\n",
              "      <th>4</th>\n",
              "      <td>2020-01-22 12:00:00</td>\n",
              "      <td>Gansu</td>\n",
              "      <td>China</td>\n",
              "      <td>0.0</td>\n",
              "      <td>0.0</td>\n",
              "      <td>0.0</td>\n",
              "    </tr>\n",
              "  </tbody>\n",
              "</table>\n",
              "</div>"
            ],
            "text/plain": [
              "                 Date Province/State Country  Confirmed  Deaths  Recovered\n",
              "0 2020-01-22 12:00:00          Anhui   China        1.0     0.0        0.0\n",
              "1 2020-01-22 12:00:00        Beijing   China       14.0     0.0        0.0\n",
              "2 2020-01-22 12:00:00      Chongqing   China        6.0     0.0        0.0\n",
              "3 2020-01-22 12:00:00         Fujian   China        1.0     0.0        0.0\n",
              "4 2020-01-22 12:00:00          Gansu   China        0.0     0.0        0.0"
            ]
          },
          "metadata": {
            "tags": []
          },
          "execution_count": 7
        }
      ]
    },
    {
      "cell_type": "markdown",
      "metadata": {
        "id": "o0ii0ux17npE",
        "colab_type": "text"
      },
      "source": [
        "#### Qual é a porcentagem de mortos sobre os casos confirmados?"
      ]
    },
    {
      "cell_type": "code",
      "metadata": {
        "id": "i2pGG5Yo7nUf",
        "colab_type": "code",
        "outputId": "d40d46d2-72fb-47d4-8147-825e8862fa43",
        "colab": {
          "base_uri": "https://localhost:8080/",
          "height": 34
        }
      },
      "source": [
        "# calcular porcentagem\n",
        "(df_china['Deaths'].max() / df_china['Confirmed'].max())*100"
      ],
      "execution_count": 8,
      "outputs": [
        {
          "output_type": "execute_result",
          "data": {
            "text/plain": [
              "3.069843671205245"
            ]
          },
          "metadata": {
            "tags": []
          },
          "execution_count": 8
        }
      ]
    },
    {
      "cell_type": "markdown",
      "metadata": {
        "id": "cLapHfwt8ott",
        "colab_type": "text"
      },
      "source": [
        "Temos que 3% dos casos totais confirmados foram mortes registradas. Sendo assim a taxa de morte do vírus não é alta, em comparação com outros casos, por exemplo o SARS."
      ]
    },
    {
      "cell_type": "markdown",
      "metadata": {
        "id": "_C0VCSRy-LQX",
        "colab_type": "text"
      },
      "source": [
        "#### Qual foi o avanço do virus por dia?"
      ]
    },
    {
      "cell_type": "code",
      "metadata": {
        "id": "XaZVO9qQ-eNp",
        "colab_type": "code",
        "outputId": "130e5e7b-0d8f-4abd-ab4e-911385f83a95",
        "colab": {
          "base_uri": "https://localhost:8080/",
          "height": 441
        }
      },
      "source": [
        "# transformar a coluna Date em data do pandas para formatar da maneira DD/MM\n",
        "# plotar o gráfico\n",
        "df_china['Date'] = pd.to_datetime(df_china['Date'])\n",
        "\n",
        "fig, ax = plt.subplots(figsize=(12,6))\n",
        "\n",
        "df_china.groupby('Date').Confirmed.max().plot(kind='line', marker='o', ax=ax)\n",
        "ax.set_title('Avanço do vírus por dia')\n",
        "ax.set_xlabel('Data no formato DD/MM')\n",
        "ax.set_ylabel('Quantidade de Casos')\n",
        "ax.xaxis.set_major_formatter(mdates.DateFormatter('%d-%b'))\n",
        "\n",
        "plt.tight_layout()"
      ],
      "execution_count": 14,
      "outputs": [
        {
          "output_type": "display_data",
          "data": {
            "image/png": "[encoded data removed]",
            "text/plain": [
              "<Figure size 864x432 with 1 Axes>"
            ]
          },
          "metadata": {
            "tags": []
          }
        }
      ]
    },
    {
      "cell_type": "markdown",
      "metadata": {
        "id": "BEkPcyyDCACp",
        "colab_type": "text"
      },
      "source": [
        "Ao decorrer dos dias do mês de Janeiro e Fevereiro, o vírus se espalhou, aumentando exponencialmente as vítimas do vírus ao longo dos dias. Lembrando que esse arquivo deve ser atualizado diariamente, podendo assim que os valores continuem a aumentar ou começam a diminuir, caso cura seja criada."
      ]
    },
    {
      "cell_type": "markdown",
      "metadata": {
        "id": "uGKZ3VcQSlCF",
        "colab_type": "text"
      },
      "source": [
        "#### Qual província/estado foi a mais afetada?"
      ]
    },
    {
      "cell_type": "code",
      "metadata": {
        "id": "mVZB-mIu-qzf",
        "colab_type": "code",
        "colab": {
          "base_uri": "https://localhost:8080/",
          "height": 441
        },
        "outputId": "8aee0fd8-dce8-4bff-a07a-9f5a1995fb15"
      },
      "source": [
        "fig, ax = plt.subplots(figsize=(12,6))\n",
        "\n",
        "df_china.groupby('Province/State')['Confirmed','Deaths','Recovered'].max().sort_values(by='Confirmed', ascending = False).plot(kind='bar', ax=ax)\n",
        "ax.set_title('Quantidade de casos por província/estado')\n",
        "ax.set_xlabel('Província/estado')\n",
        "ax.set_ylabel('Quantidade de Casos')\n",
        "\n",
        "plt.tight_layout()"
      ],
      "execution_count": 18,
      "outputs": [
        {
          "output_type": "display_data",
          "data": {
            "image/png": "[encoded data removed]",
            "text/plain": [
              "<Figure size 864x432 with 1 Axes>"
            ]
          },
          "metadata": {
            "tags": []
          }
        }
      ]
    },
    {
      "cell_type": "markdown",
      "metadata": {
        "id": "C5cmJrxpfODn",
        "colab_type": "text"
      },
      "source": [
        "A província/estado mais afetada foi a de Hubei, China. Podemos identificar a quantidade de pessoas afetadas pelo vírus nessa província em comparação com outras províncias da China."
      ]
    },
    {
      "cell_type": "markdown",
      "metadata": {
        "id": "tZ-vXMLLftLZ",
        "colab_type": "text"
      },
      "source": [
        "Foram mostrados alguns insights sobre o vírus na China, como já visto, no país se concentra a maior parte dos casos e na província de Hubei temos concentração dos casos, para uma análise futura, podemos detalhar melhor o avanço do vírus para essa província."
      ]
    },
    {
      "cell_type": "markdown",
      "metadata": {
        "id": "jB-v7_lYk6XN",
        "colab_type": "text"
      },
      "source": [
        "# Conclusão\n",
        "\n",
        "A China foi o onde se teve o início desse novo vírus, assim com a análise feita vimos que o país mais afetado com esse novo vírus, e aliado com o poder de transmissão desse vírus identificamos avanço do vírus em diferentes países, incluindo a China, já que seu território é gigante, com isso transformando esse novo víru em um problema de saúde global. \n",
        "\n",
        "Os casos ainda não pararam de crescer, indicando que os números de casos tendem aumentar ainda mais, a população ainda espera a vacina para barrar o avanço do vírus e curar os pacientes que estão em hospitais em tratamento.\n",
        "\n",
        "A taxa de mortalidade desse novo coronavírus não é tão alta quanto o coronavírus SARS, que se espalhou pela Ásia em 2002 e 2003, matou 774 pessoas, 9,6% do total de infectados. Já o MERS, que predominou no Oriente Médio em 2012, teve uma taxa de mortalidade de 34,4%, matando 858 infectados.\n",
        "\n",
        "Abaixo é o indicador de mortes até então pelo nCoV-2019 globalmente.\n"
      ]
    },
    {
      "cell_type": "code",
      "metadata": {
        "id": "PQYhl_7Qk2IA",
        "colab_type": "code",
        "colab": {
          "base_uri": "https://localhost:8080/",
          "height": 542
        },
        "cellView": "form",
        "outputId": "eb1a1cbb-b13d-4f07-8223-e7238e402fd3"
      },
      "source": [
        "#@title\n",
        "fig = go.Figure()\n",
        "\n",
        "fig.add_trace(go.Indicator(\n",
        "    mode = \"number\",\n",
        "    value = df.Deaths.max()\n",
        "    ))\n",
        "\n",
        "fig.update_layout(\n",
        "    grid = {'rows': 1, 'columns': 1, 'pattern': \"independent\"},\n",
        "    template = {'data' : {'indicator': [{\n",
        "        'title': {'text': \"Mortes pelo nCoV-2019\"},\n",
        "        'delta' : {'reference': 90}}]\n",
        "                         }})"
      ],
      "execution_count": 59,
      "outputs": [
        {
          "output_type": "display_data",
          "data": {
            "text/html": [
              "<html>\n",
              "<head><meta charset=\"utf-8\" /></head>\n",
              "<body>\n",
              "    <div>\n",
              "            <script src=\"https://cdnjs.cloudflare.com/ajax/libs/mathjax/2.7.5/MathJax.js?config=TeX-AMS-MML_SVG\"></script><script type=\"text/javascript\">if (window.MathJax) {MathJax.Hub.Config({SVG: {font: \"STIX-Web\"}});}</script>\n",
              "                <script type=\"text/javascript\">window.PlotlyConfig = {MathJaxConfig: 'local'};</script>\n",
              "        <script src=\"https://cdn.plot.ly/plotly-latest.min.js\"></script>    \n",
              "            <div id=\"f676805f-bce7-4ebd-a5a5-ec552e538a00\" class=\"plotly-graph-div\" style=\"height:525px; width:100%;\"></div>\n",
              "            <script type=\"text/javascript\">\n",
              "                \n",
              "                    window.PLOTLYENV=window.PLOTLYENV || {};\n",
              "                    \n",
              "                if (document.getElementById(\"f676805f-bce7-4ebd-a5a5-ec552e538a00\")) {\n",
              "                    Plotly.newPlot(\n",
              "                        'f676805f-bce7-4ebd-a5a5-ec552e538a00',\n",
              "                        [{\"mode\": \"number\", \"type\": \"indicator\", \"value\": 974.0}],\n",
              "                        {\"grid\": {\"columns\": 1, \"pattern\": \"independent\", \"rows\": 1}, \"template\": {\"data\": {\"bar\": [{\"error_x\": {\"color\": \"#2a3f5f\"}, \"error_y\": {\"color\": \"#2a3f5f\"}, \"marker\": {\"line\": {\"color\": \"#E5ECF6\", \"width\": 0.5}}, \"type\": \"bar\"}], \"barpolar\": [{\"marker\": {\"line\": {\"color\": \"#E5ECF6\", \"width\": 0.5}}, \"type\": \"barpolar\"}], \"carpet\": [{\"aaxis\": {\"endlinecolor\": \"#2a3f5f\", \"gridcolor\": \"white\", \"linecolor\": \"white\", \"minorgridcolor\": \"white\", \"startlinecolor\": \"#2a3f5f\"}, \"baxis\": {\"endlinecolor\": \"#2a3f5f\", \"gridcolor\": \"white\", \"linecolor\": \"white\", \"minorgridcolor\": \"white\", \"startlinecolor\": \"#2a3f5f\"}, \"type\": \"carpet\"}], \"choropleth\": [{\"colorbar\": {\"outlinewidth\": 0, \"ticks\": \"\"}, \"type\": \"choropleth\"}], \"contour\": [{\"colorbar\": {\"outlinewidth\": 0, \"ticks\": \"\"}, \"colorscale\": [[0.0, \"#0d0887\"], [0.1111111111111111, \"#46039f\"], [0.2222222222222222, \"#7201a8\"], [0.3333333333333333, \"#9c179e\"], [0.4444444444444444, \"#bd3786\"], [0.5555555555555556, \"#d8576b\"], [0.6666666666666666, \"#ed7953\"], [0.7777777777777778, \"#fb9f3a\"], [0.8888888888888888, \"#fdca26\"], [1.0, \"#f0f921\"]], \"type\": \"contour\"}], \"contourcarpet\": [{\"colorbar\": {\"outlinewidth\": 0, \"ticks\": \"\"}, \"type\": \"contourcarpet\"}], \"heatmap\": [{\"colorbar\": {\"outlinewidth\": 0, \"ticks\": \"\"}, \"colorscale\": [[0.0, \"#0d0887\"], [0.1111111111111111, \"#46039f\"], [0.2222222222222222, \"#7201a8\"], [0.3333333333333333, \"#9c179e\"], [0.4444444444444444, \"#bd3786\"], [0.5555555555555556, \"#d8576b\"], [0.6666666666666666, \"#ed7953\"], [0.7777777777777778, \"#fb9f3a\"], [0.8888888888888888, \"#fdca26\"], [1.0, \"#f0f921\"]], \"type\": \"heatmap\"}], \"heatmapgl\": [{\"colorbar\": {\"outlinewidth\": 0, \"ticks\": \"\"}, \"colorscale\": [[0.0, \"#0d0887\"], [0.1111111111111111, \"#46039f\"], [0.2222222222222222, \"#7201a8\"], [0.3333333333333333, \"#9c179e\"], [0.4444444444444444, \"#bd3786\"], [0.5555555555555556, \"#d8576b\"], [0.6666666666666666, \"#ed7953\"], [0.7777777777777778, \"#fb9f3a\"], [0.8888888888888888, \"#fdca26\"], [1.0, \"#f0f921\"]], \"type\": \"heatmapgl\"}], \"histogram\": [{\"marker\": {\"colorbar\": {\"outlinewidth\": 0, \"ticks\": \"\"}}, \"type\": \"histogram\"}], \"histogram2d\": [{\"colorbar\": {\"outlinewidth\": 0, \"ticks\": \"\"}, \"colorscale\": [[0.0, \"#0d0887\"], [0.1111111111111111, \"#46039f\"], [0.2222222222222222, \"#7201a8\"], [0.3333333333333333, \"#9c179e\"], [0.4444444444444444, \"#bd3786\"], [0.5555555555555556, \"#d8576b\"], [0.6666666666666666, \"#ed7953\"], [0.7777777777777778, \"#fb9f3a\"], [0.8888888888888888, \"#fdca26\"], [1.0, \"#f0f921\"]], \"type\": \"histogram2d\"}], \"histogram2dcontour\": [{\"colorbar\": {\"outlinewidth\": 0, \"ticks\": \"\"}, \"colorscale\": [[0.0, \"#0d0887\"], [0.1111111111111111, \"#46039f\"], [0.2222222222222222, \"#7201a8\"], [0.3333333333333333, \"#9c179e\"], [0.4444444444444444, \"#bd3786\"], [0.5555555555555556, \"#d8576b\"], [0.6666666666666666, \"#ed7953\"], [0.7777777777777778, \"#fb9f3a\"], [0.8888888888888888, \"#fdca26\"], [1.0, \"#f0f921\"]], \"type\": \"histogram2dcontour\"}], \"indicator\": [{\"delta\": {\"reference\": 90}, \"title\": {\"text\": \"Mortes pelo nCoV-2019\"}, \"type\": \"indicator\"}], \"mesh3d\": [{\"colorbar\": {\"outlinewidth\": 0, \"ticks\": \"\"}, \"type\": \"mesh3d\"}], \"parcoords\": [{\"line\": {\"colorbar\": {\"outlinewidth\": 0, \"ticks\": \"\"}}, \"type\": \"parcoords\"}], \"pie\": [{\"automargin\": true, \"type\": \"pie\"}], \"scatter\": [{\"marker\": {\"colorbar\": {\"outlinewidth\": 0, \"ticks\": \"\"}}, \"type\": \"scatter\"}], \"scatter3d\": [{\"line\": {\"colorbar\": {\"outlinewidth\": 0, \"ticks\": \"\"}}, \"marker\": {\"colorbar\": {\"outlinewidth\": 0, \"ticks\": \"\"}}, \"type\": \"scatter3d\"}], \"scattercarpet\": [{\"marker\": {\"colorbar\": {\"outlinewidth\": 0, \"ticks\": \"\"}}, \"type\": \"scattercarpet\"}], \"scattergeo\": [{\"marker\": {\"colorbar\": {\"outlinewidth\": 0, \"ticks\": \"\"}}, \"type\": \"scattergeo\"}], \"scattergl\": [{\"marker\": {\"colorbar\": {\"outlinewidth\": 0, \"ticks\": \"\"}}, \"type\": \"scattergl\"}], \"scattermapbox\": [{\"marker\": {\"colorbar\": {\"outlinewidth\": 0, \"ticks\": \"\"}}, \"type\": \"scattermapbox\"}], \"scatterpolar\": [{\"marker\": {\"colorbar\": {\"outlinewidth\": 0, \"ticks\": \"\"}}, \"type\": \"scatterpolar\"}], \"scatterpolargl\": [{\"marker\": {\"colorbar\": {\"outlinewidth\": 0, \"ticks\": \"\"}}, \"type\": \"scatterpolargl\"}], \"scatterternary\": [{\"marker\": {\"colorbar\": {\"outlinewidth\": 0, \"ticks\": \"\"}}, \"type\": \"scatterternary\"}], \"surface\": [{\"colorbar\": {\"outlinewidth\": 0, \"ticks\": \"\"}, \"colorscale\": [[0.0, \"#0d0887\"], [0.1111111111111111, \"#46039f\"], [0.2222222222222222, \"#7201a8\"], [0.3333333333333333, \"#9c179e\"], [0.4444444444444444, \"#bd3786\"], [0.5555555555555556, \"#d8576b\"], [0.6666666666666666, \"#ed7953\"], [0.7777777777777778, \"#fb9f3a\"], [0.8888888888888888, \"#fdca26\"], [1.0, \"#f0f921\"]], \"type\": \"surface\"}], \"table\": [{\"cells\": {\"fill\": {\"color\": \"#EBF0F8\"}, \"line\": {\"color\": \"white\"}}, \"header\": {\"fill\": {\"color\": \"#C8D4E3\"}, \"line\": {\"color\": \"white\"}}, \"type\": \"table\"}]}, \"layout\": {\"annotationdefaults\": {\"arrowcolor\": \"#2a3f5f\", \"arrowhead\": 0, \"arrowwidth\": 1}, \"coloraxis\": {\"colorbar\": {\"outlinewidth\": 0, \"ticks\": \"\"}}, \"colorscale\": {\"diverging\": [[0, \"#8e0152\"], [0.1, \"#c51b7d\"], [0.2, \"#de77ae\"], [0.3, \"#f1b6da\"], [0.4, \"#fde0ef\"], [0.5, \"#f7f7f7\"], [0.6, \"#e6f5d0\"], [0.7, \"#b8e186\"], [0.8, \"#7fbc41\"], [0.9, \"#4d9221\"], [1, \"#276419\"]], \"sequential\": [[0.0, \"#0d0887\"], [0.1111111111111111, \"#46039f\"], [0.2222222222222222, \"#7201a8\"], [0.3333333333333333, \"#9c179e\"], [0.4444444444444444, \"#bd3786\"], [0.5555555555555556, \"#d8576b\"], [0.6666666666666666, \"#ed7953\"], [0.7777777777777778, \"#fb9f3a\"], [0.8888888888888888, \"#fdca26\"], [1.0, \"#f0f921\"]], \"sequentialminus\": [[0.0, \"#0d0887\"], [0.1111111111111111, \"#46039f\"], [0.2222222222222222, \"#7201a8\"], [0.3333333333333333, \"#9c179e\"], [0.4444444444444444, \"#bd3786\"], [0.5555555555555556, \"#d8576b\"], [0.6666666666666666, \"#ed7953\"], [0.7777777777777778, \"#fb9f3a\"], [0.8888888888888888, \"#fdca26\"], [1.0, \"#f0f921\"]]}, \"colorway\": [\"#636efa\", \"#EF553B\", \"#00cc96\", \"#ab63fa\", \"#FFA15A\", \"#19d3f3\", \"#FF6692\", \"#B6E880\", \"#FF97FF\", \"#FECB52\"], \"font\": {\"color\": \"#2a3f5f\"}, \"geo\": {\"bgcolor\": \"white\", \"lakecolor\": \"white\", \"landcolor\": \"#E5ECF6\", \"showlakes\": true, \"showland\": true, \"subunitcolor\": \"white\"}, \"hoverlabel\": {\"align\": \"left\"}, \"hovermode\": \"closest\", \"mapbox\": {\"style\": \"light\"}, \"paper_bgcolor\": \"white\", \"plot_bgcolor\": \"#E5ECF6\", \"polar\": {\"angularaxis\": {\"gridcolor\": \"white\", \"linecolor\": \"white\", \"ticks\": \"\"}, \"bgcolor\": \"#E5ECF6\", \"radialaxis\": {\"gridcolor\": \"white\", \"linecolor\": \"white\", \"ticks\": \"\"}}, \"scene\": {\"xaxis\": {\"backgroundcolor\": \"#E5ECF6\", \"gridcolor\": \"white\", \"gridwidth\": 2, \"linecolor\": \"white\", \"showbackground\": true, \"ticks\": \"\", \"zerolinecolor\": \"white\"}, \"yaxis\": {\"backgroundcolor\": \"#E5ECF6\", \"gridcolor\": \"white\", \"gridwidth\": 2, \"linecolor\": \"white\", \"showbackground\": true, \"ticks\": \"\", \"zerolinecolor\": \"white\"}, \"zaxis\": {\"backgroundcolor\": \"#E5ECF6\", \"gridcolor\": \"white\", \"gridwidth\": 2, \"linecolor\": \"white\", \"showbackground\": true, \"ticks\": \"\", \"zerolinecolor\": \"white\"}}, \"shapedefaults\": {\"line\": {\"color\": \"#2a3f5f\"}}, \"ternary\": {\"aaxis\": {\"gridcolor\": \"white\", \"linecolor\": \"white\", \"ticks\": \"\"}, \"baxis\": {\"gridcolor\": \"white\", \"linecolor\": \"white\", \"ticks\": \"\"}, \"bgcolor\": \"#E5ECF6\", \"caxis\": {\"gridcolor\": \"white\", \"linecolor\": \"white\", \"ticks\": \"\"}}, \"title\": {\"x\": 0.05}, \"xaxis\": {\"automargin\": true, \"gridcolor\": \"white\", \"linecolor\": \"white\", \"ticks\": \"\", \"title\": {\"standoff\": 15}, \"zerolinecolor\": \"white\", \"zerolinewidth\": 2}, \"yaxis\": {\"automargin\": true, \"gridcolor\": \"white\", \"linecolor\": \"white\", \"ticks\": \"\", \"title\": {\"standoff\": 15}, \"zerolinecolor\": \"white\", \"zerolinewidth\": 2}}}},\n",
              "                        {\"responsive\": true}\n",
              "                    ).then(function(){\n",
              "                            \n",
              "var gd = document.getElementById('f676805f-bce7-4ebd-a5a5-ec552e538a00');\n",
              "var x = new MutationObserver(function (mutations, observer) {{\n",
              "        var display = window.getComputedStyle(gd).display;\n",
              "        if (!display || display === 'none') {{\n",
              "            console.log([gd, 'removed!']);\n",
              "            Plotly.purge(gd);\n",
              "            observer.disconnect();\n",
              "        }}\n",
              "}});\n",
              "\n",
              "// Listen for the removal of the full notebook cells\n",
              "var notebookContainer = gd.closest('#notebook-container');\n",
              "if (notebookContainer) {{\n",
              "    x.observe(notebookContainer, {childList: true});\n",
              "}}\n",
              "\n",
              "// Listen for the clearing of the current output cell\n",
              "var outputEl = gd.closest('.output');\n",
              "if (outputEl) {{\n",
              "    x.observe(outputEl, {childList: true});\n",
              "}}\n",
              "\n",
              "                        })\n",
              "                };\n",
              "                \n",
              "            </script>\n",
              "        </div>\n",
              "</body>\n",
              "</html>"
            ]
          },
          "metadata": {
            "tags": []
          }
        }
      ]
    }
  ]
}