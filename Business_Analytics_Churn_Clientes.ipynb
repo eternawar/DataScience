{
 "cells": [
  {
   "cell_type": "markdown",
   "metadata": {},
   "source": [
    "# Business Analitycs - Churn de clientes\n",
    "\n",
    "<img src=\"https://images.unsplash.com/photo-1488043592575-e52654c070a7?ixlib=rb-1.2.1&ixid=eyJhcHBfaWQiOjEyMDd9&auto=format&fit=crop&w=1050&q=80\" width=400 />\n",
    "\n",
    "\n",
    "O churn é uma métrica que mede a rotatividade de clientes do negócio isso está relacionado com os índices de evasão dos clientes e cancelamento dos serviços do negócio. O churn pode ocorrer de diversas maneiras diferentes e identificando os motivos que fizeram o seu cliente cancelar os seus serviços cria-se a oportuidade de criar estratégias de retenção desses cliente.\n",
    "\n",
    "O foco desse notebook é usar dados passados para entendermos quais foram os motivos que fizeram o cliente cancelar os serviços dessa empresa, iremos utilizar de algumas técnicas de business analytics para tal e com esse estudo sobre esse caso será possível entender os motivos do churn e podemos levar aos tomadores de decisões informações valiosas sobre o negócio baseado em dados reais. "
   ]
  },
  {
   "cell_type": "markdown",
   "metadata": {},
   "source": [
    "## Dados"
   ]
  },
  {
   "cell_type": "markdown",
   "metadata": {},
   "source": [
    "Os dados foram obtidos atráves do site [Kaggle](www.kaggle.com). O conjunto de dados utilizados nesse estudo contém detalhes dos clientes de um banco e o churn se refere o fato de o cliente ter saído do banco, cancelou a sua conta, ou continua sendo cliente do banco."
   ]
  },
  {
   "cell_type": "markdown",
   "metadata": {},
   "source": [
    "### Descrição das variáveis\n",
    "\n",
    "Essa seção se refere aos nomes e descrições das variáveis encontradas no conjunto de dados.\n",
    "\n",
    "* Surname : Sobrenome do cliente\n",
    "* CreditScore : O score de crédito do cliente\n",
    "* Geography : O país do cliente\n",
    "* Gender : O sexo do cliente\n",
    "* Age : A idade do cliente\n",
    "* Tenure : Número que é referente à quantidade de anos que a pessoa é cliente no banco\n",
    "* Balance : O saldo da conta do cliente\n",
    "* NumOfProducts : Número de producos bancários que o cliente utiliza\n",
    "* HasCrCard : O cliente possui cartão de crédito, sendo 0 igual a não e 1 igual a sim.\n",
    "* IsActiveMember : O cliente possui uma empresa ativa, sendo 0 igual a não e 1 igual a sim.\n",
    "* EstimatedSalary : O valor do salário estimado do cliente\n",
    "* Exited : Variável alvo, representa se o cliente cancelou ou não a conta, sendo 0 igual a não e 1 igual a sim."
   ]
  },
  {
   "cell_type": "markdown",
   "metadata": {},
   "source": [
    "## Definição do objetivo\n",
    "\n",
    "O objetivo desse projeto é investigar as causas que fazem os clientes cancelarem as suas contas no banco. Para tal, iremos estudar o nosso conjunto de dados e respondendo a grande questão:\n",
    "\n",
    "1. Quais são os motivos mais importantes e que são decisivos para os clientes cancelarem as suas contas?\n",
    "\n",
    "Ao decorrer do processos iremos discutir sobre esses motivos."
   ]
  },
  {
   "cell_type": "markdown",
   "metadata": {},
   "source": [
    "## Preparando os dados"
   ]
  },
  {
   "cell_type": "code",
   "execution_count": 1,
   "metadata": {},
   "outputs": [],
   "source": [
    "# import das bibliotecas utilizadas no projeto\n",
    "import pandas as pd\n",
    "import numpy as np\n",
    "import matplotlib.pyplot as plt\n",
    "import seaborn as sns\n",
    "from sklearn.model_selection import train_test_split\n",
    "from sklearn.linear_model import LogisticRegression\n",
    "from sklearn.ensemble import RandomForestClassifier\n",
    "from sklearn.metrics import roc_auc_score, roc_curve\n",
    "import statsmodels.api as sm\n",
    "import statsmodels.formula.api as smf\n",
    "from sklearn.preprocessing import StandardScaler\n",
    "import category_encoders as ce"
   ]
  },
  {
   "cell_type": "code",
   "execution_count": 2,
   "metadata": {},
   "outputs": [],
   "source": [
    "# carregando os dados\n",
    "df = pd.read_csv('data.csv')"
   ]
  },
  {
   "cell_type": "code",
   "execution_count": 3,
   "metadata": {},
   "outputs": [
    {
     "data": {
      "text/html": [
       "<div>\n",
       "<style scoped>\n",
       "    .dataframe tbody tr th:only-of-type {\n",
       "        vertical-align: middle;\n",
       "    }\n",
       "\n",
       "    .dataframe tbody tr th {\n",
       "        vertical-align: top;\n",
       "    }\n",
       "\n",
       "    .dataframe thead th {\n",
       "        text-align: right;\n",
       "    }\n",
       "</style>\n",
       "<table border=\"1\" class=\"dataframe\">\n",
       "  <thead>\n",
       "    <tr style=\"text-align: right;\">\n",
       "      <th></th>\n",
       "      <th>RowNumber</th>\n",
       "      <th>CustomerId</th>\n",
       "      <th>Surname</th>\n",
       "      <th>CreditScore</th>\n",
       "      <th>Geography</th>\n",
       "      <th>Gender</th>\n",
       "      <th>Age</th>\n",
       "      <th>Tenure</th>\n",
       "      <th>Balance</th>\n",
       "      <th>NumOfProducts</th>\n",
       "      <th>HasCrCard</th>\n",
       "      <th>IsActiveMember</th>\n",
       "      <th>EstimatedSalary</th>\n",
       "      <th>Exited</th>\n",
       "    </tr>\n",
       "  </thead>\n",
       "  <tbody>\n",
       "    <tr>\n",
       "      <th>0</th>\n",
       "      <td>1</td>\n",
       "      <td>15634602</td>\n",
       "      <td>Hargrave</td>\n",
       "      <td>619</td>\n",
       "      <td>France</td>\n",
       "      <td>Female</td>\n",
       "      <td>42</td>\n",
       "      <td>2</td>\n",
       "      <td>0.00</td>\n",
       "      <td>1</td>\n",
       "      <td>1</td>\n",
       "      <td>1</td>\n",
       "      <td>101348.88</td>\n",
       "      <td>1</td>\n",
       "    </tr>\n",
       "    <tr>\n",
       "      <th>1</th>\n",
       "      <td>2</td>\n",
       "      <td>15647311</td>\n",
       "      <td>Hill</td>\n",
       "      <td>608</td>\n",
       "      <td>Spain</td>\n",
       "      <td>Female</td>\n",
       "      <td>41</td>\n",
       "      <td>1</td>\n",
       "      <td>83807.86</td>\n",
       "      <td>1</td>\n",
       "      <td>0</td>\n",
       "      <td>1</td>\n",
       "      <td>112542.58</td>\n",
       "      <td>0</td>\n",
       "    </tr>\n",
       "    <tr>\n",
       "      <th>2</th>\n",
       "      <td>3</td>\n",
       "      <td>15619304</td>\n",
       "      <td>Onio</td>\n",
       "      <td>502</td>\n",
       "      <td>France</td>\n",
       "      <td>Female</td>\n",
       "      <td>42</td>\n",
       "      <td>8</td>\n",
       "      <td>159660.80</td>\n",
       "      <td>3</td>\n",
       "      <td>1</td>\n",
       "      <td>0</td>\n",
       "      <td>113931.57</td>\n",
       "      <td>1</td>\n",
       "    </tr>\n",
       "    <tr>\n",
       "      <th>3</th>\n",
       "      <td>4</td>\n",
       "      <td>15701354</td>\n",
       "      <td>Boni</td>\n",
       "      <td>699</td>\n",
       "      <td>France</td>\n",
       "      <td>Female</td>\n",
       "      <td>39</td>\n",
       "      <td>1</td>\n",
       "      <td>0.00</td>\n",
       "      <td>2</td>\n",
       "      <td>0</td>\n",
       "      <td>0</td>\n",
       "      <td>93826.63</td>\n",
       "      <td>0</td>\n",
       "    </tr>\n",
       "    <tr>\n",
       "      <th>4</th>\n",
       "      <td>5</td>\n",
       "      <td>15737888</td>\n",
       "      <td>Mitchell</td>\n",
       "      <td>850</td>\n",
       "      <td>Spain</td>\n",
       "      <td>Female</td>\n",
       "      <td>43</td>\n",
       "      <td>2</td>\n",
       "      <td>125510.82</td>\n",
       "      <td>1</td>\n",
       "      <td>1</td>\n",
       "      <td>1</td>\n",
       "      <td>79084.10</td>\n",
       "      <td>0</td>\n",
       "    </tr>\n",
       "  </tbody>\n",
       "</table>\n",
       "</div>"
      ],
      "text/plain": [
       "   RowNumber  CustomerId   Surname  CreditScore Geography  Gender  Age  \\\n",
       "0          1    15634602  Hargrave          619    France  Female   42   \n",
       "1          2    15647311      Hill          608     Spain  Female   41   \n",
       "2          3    15619304      Onio          502    France  Female   42   \n",
       "3          4    15701354      Boni          699    France  Female   39   \n",
       "4          5    15737888  Mitchell          850     Spain  Female   43   \n",
       "\n",
       "   Tenure    Balance  NumOfProducts  HasCrCard  IsActiveMember  \\\n",
       "0       2       0.00              1          1               1   \n",
       "1       1   83807.86              1          0               1   \n",
       "2       8  159660.80              3          1               0   \n",
       "3       1       0.00              2          0               0   \n",
       "4       2  125510.82              1          1               1   \n",
       "\n",
       "   EstimatedSalary  Exited  \n",
       "0        101348.88       1  \n",
       "1        112542.58       0  \n",
       "2        113931.57       1  \n",
       "3         93826.63       0  \n",
       "4         79084.10       0  "
      ]
     },
     "execution_count": 3,
     "metadata": {},
     "output_type": "execute_result"
    }
   ],
   "source": [
    "df.head()"
   ]
  },
  {
   "cell_type": "markdown",
   "metadata": {},
   "source": [
    "## Iniciando o estudo\n",
    "\n",
    "Vamos começar a estudar os nosso dados e retirar insights sobre o churn da empresa.\n",
    "\n",
    "O esquema do estudo adiante será da seguinte forma:\n",
    "1. Primeiro vamos ter o código escrito;\n",
    "2. Segundo descrever o que foi extraído dos dados;"
   ]
  },
  {
   "cell_type": "code",
   "execution_count": 4,
   "metadata": {},
   "outputs": [
    {
     "data": {
      "text/html": [
       "<div>\n",
       "<style scoped>\n",
       "    .dataframe tbody tr th:only-of-type {\n",
       "        vertical-align: middle;\n",
       "    }\n",
       "\n",
       "    .dataframe tbody tr th {\n",
       "        vertical-align: top;\n",
       "    }\n",
       "\n",
       "    .dataframe thead th {\n",
       "        text-align: right;\n",
       "    }\n",
       "</style>\n",
       "<table border=\"1\" class=\"dataframe\">\n",
       "  <thead>\n",
       "    <tr style=\"text-align: right;\">\n",
       "      <th></th>\n",
       "      <th>RowNumber</th>\n",
       "      <th>CustomerId</th>\n",
       "      <th>CreditScore</th>\n",
       "      <th>Age</th>\n",
       "      <th>Tenure</th>\n",
       "      <th>Balance</th>\n",
       "      <th>NumOfProducts</th>\n",
       "      <th>HasCrCard</th>\n",
       "      <th>IsActiveMember</th>\n",
       "      <th>EstimatedSalary</th>\n",
       "      <th>Exited</th>\n",
       "    </tr>\n",
       "  </thead>\n",
       "  <tbody>\n",
       "    <tr>\n",
       "      <th>count</th>\n",
       "      <td>10000.00000</td>\n",
       "      <td>1.000000e+04</td>\n",
       "      <td>10000.000000</td>\n",
       "      <td>10000.000000</td>\n",
       "      <td>10000.000000</td>\n",
       "      <td>10000.000000</td>\n",
       "      <td>10000.000000</td>\n",
       "      <td>10000.00000</td>\n",
       "      <td>10000.000000</td>\n",
       "      <td>10000.000000</td>\n",
       "      <td>10000.000000</td>\n",
       "    </tr>\n",
       "    <tr>\n",
       "      <th>mean</th>\n",
       "      <td>5000.50000</td>\n",
       "      <td>1.569094e+07</td>\n",
       "      <td>650.528800</td>\n",
       "      <td>38.921800</td>\n",
       "      <td>5.012800</td>\n",
       "      <td>76485.889288</td>\n",
       "      <td>1.530200</td>\n",
       "      <td>0.70550</td>\n",
       "      <td>0.515100</td>\n",
       "      <td>100090.239881</td>\n",
       "      <td>0.203700</td>\n",
       "    </tr>\n",
       "    <tr>\n",
       "      <th>std</th>\n",
       "      <td>2886.89568</td>\n",
       "      <td>7.193619e+04</td>\n",
       "      <td>96.653299</td>\n",
       "      <td>10.487806</td>\n",
       "      <td>2.892174</td>\n",
       "      <td>62397.405202</td>\n",
       "      <td>0.581654</td>\n",
       "      <td>0.45584</td>\n",
       "      <td>0.499797</td>\n",
       "      <td>57510.492818</td>\n",
       "      <td>0.402769</td>\n",
       "    </tr>\n",
       "    <tr>\n",
       "      <th>min</th>\n",
       "      <td>1.00000</td>\n",
       "      <td>1.556570e+07</td>\n",
       "      <td>350.000000</td>\n",
       "      <td>18.000000</td>\n",
       "      <td>0.000000</td>\n",
       "      <td>0.000000</td>\n",
       "      <td>1.000000</td>\n",
       "      <td>0.00000</td>\n",
       "      <td>0.000000</td>\n",
       "      <td>11.580000</td>\n",
       "      <td>0.000000</td>\n",
       "    </tr>\n",
       "    <tr>\n",
       "      <th>25%</th>\n",
       "      <td>2500.75000</td>\n",
       "      <td>1.562853e+07</td>\n",
       "      <td>584.000000</td>\n",
       "      <td>32.000000</td>\n",
       "      <td>3.000000</td>\n",
       "      <td>0.000000</td>\n",
       "      <td>1.000000</td>\n",
       "      <td>0.00000</td>\n",
       "      <td>0.000000</td>\n",
       "      <td>51002.110000</td>\n",
       "      <td>0.000000</td>\n",
       "    </tr>\n",
       "    <tr>\n",
       "      <th>50%</th>\n",
       "      <td>5000.50000</td>\n",
       "      <td>1.569074e+07</td>\n",
       "      <td>652.000000</td>\n",
       "      <td>37.000000</td>\n",
       "      <td>5.000000</td>\n",
       "      <td>97198.540000</td>\n",
       "      <td>1.000000</td>\n",
       "      <td>1.00000</td>\n",
       "      <td>1.000000</td>\n",
       "      <td>100193.915000</td>\n",
       "      <td>0.000000</td>\n",
       "    </tr>\n",
       "    <tr>\n",
       "      <th>75%</th>\n",
       "      <td>7500.25000</td>\n",
       "      <td>1.575323e+07</td>\n",
       "      <td>718.000000</td>\n",
       "      <td>44.000000</td>\n",
       "      <td>7.000000</td>\n",
       "      <td>127644.240000</td>\n",
       "      <td>2.000000</td>\n",
       "      <td>1.00000</td>\n",
       "      <td>1.000000</td>\n",
       "      <td>149388.247500</td>\n",
       "      <td>0.000000</td>\n",
       "    </tr>\n",
       "    <tr>\n",
       "      <th>max</th>\n",
       "      <td>10000.00000</td>\n",
       "      <td>1.581569e+07</td>\n",
       "      <td>850.000000</td>\n",
       "      <td>92.000000</td>\n",
       "      <td>10.000000</td>\n",
       "      <td>250898.090000</td>\n",
       "      <td>4.000000</td>\n",
       "      <td>1.00000</td>\n",
       "      <td>1.000000</td>\n",
       "      <td>199992.480000</td>\n",
       "      <td>1.000000</td>\n",
       "    </tr>\n",
       "  </tbody>\n",
       "</table>\n",
       "</div>"
      ],
      "text/plain": [
       "         RowNumber    CustomerId   CreditScore           Age        Tenure  \\\n",
       "count  10000.00000  1.000000e+04  10000.000000  10000.000000  10000.000000   \n",
       "mean    5000.50000  1.569094e+07    650.528800     38.921800      5.012800   \n",
       "std     2886.89568  7.193619e+04     96.653299     10.487806      2.892174   \n",
       "min        1.00000  1.556570e+07    350.000000     18.000000      0.000000   \n",
       "25%     2500.75000  1.562853e+07    584.000000     32.000000      3.000000   \n",
       "50%     5000.50000  1.569074e+07    652.000000     37.000000      5.000000   \n",
       "75%     7500.25000  1.575323e+07    718.000000     44.000000      7.000000   \n",
       "max    10000.00000  1.581569e+07    850.000000     92.000000     10.000000   \n",
       "\n",
       "             Balance  NumOfProducts    HasCrCard  IsActiveMember  \\\n",
       "count   10000.000000   10000.000000  10000.00000    10000.000000   \n",
       "mean    76485.889288       1.530200      0.70550        0.515100   \n",
       "std     62397.405202       0.581654      0.45584        0.499797   \n",
       "min         0.000000       1.000000      0.00000        0.000000   \n",
       "25%         0.000000       1.000000      0.00000        0.000000   \n",
       "50%     97198.540000       1.000000      1.00000        1.000000   \n",
       "75%    127644.240000       2.000000      1.00000        1.000000   \n",
       "max    250898.090000       4.000000      1.00000        1.000000   \n",
       "\n",
       "       EstimatedSalary        Exited  \n",
       "count     10000.000000  10000.000000  \n",
       "mean     100090.239881      0.203700  \n",
       "std       57510.492818      0.402769  \n",
       "min          11.580000      0.000000  \n",
       "25%       51002.110000      0.000000  \n",
       "50%      100193.915000      0.000000  \n",
       "75%      149388.247500      0.000000  \n",
       "max      199992.480000      1.000000  "
      ]
     },
     "execution_count": 4,
     "metadata": {},
     "output_type": "execute_result"
    }
   ],
   "source": [
    "df.describe()"
   ]
  },
  {
   "cell_type": "markdown",
   "metadata": {},
   "source": [
    "O comando acima mostra informações sobre os nossos dados, com isso temos que:\n",
    "* A média do score dos clientes é de 650;\n",
    "* A média de idade dos clientes é de aproximadamente 39 anos, sendo que existe um cliente com 92 anos de idade;\n",
    "* A média do saldo em conta dos clientes é de \\\\$76485,89; \n",
    "* A média do valor estimado do salário dos cliente é de \\\\$100090.24;\n",
    "* Temos 10000 registros no conjunto de dados;"
   ]
  },
  {
   "cell_type": "code",
   "execution_count": 5,
   "metadata": {},
   "outputs": [
    {
     "data": {
      "text/plain": [
       "0    7963\n",
       "1    2037\n",
       "Name: Exited, dtype: int64"
      ]
     },
     "execution_count": 5,
     "metadata": {},
     "output_type": "execute_result"
    }
   ],
   "source": [
    "df['Exited'].value_counts()"
   ]
  },
  {
   "cell_type": "markdown",
   "metadata": {},
   "source": [
    "O resultado acima nós mostra a quantidade de clientes que cancelaram a conta e também os que não cancelaram a conta. Portanto temos que, para esse conjunto de dados, 7963 clientes de 10000 ainda são clientes do banco e 2037 clientes foram os clientes que cancelaram a conta do banco."
   ]
  },
  {
   "cell_type": "code",
   "execution_count": 6,
   "metadata": {},
   "outputs": [
    {
     "data": {
      "image/png": "[encoded data removed]",
      "text/plain": [
       "<Figure size 576x216 with 1 Axes>"
      ]
     },
     "metadata": {
      "needs_background": "light"
     },
     "output_type": "display_data"
    }
   ],
   "source": [
    "fig, ax = plt.subplots(figsize = (8,3))\n",
    "\n",
    "df['Exited'].value_counts().plot(kind='bar', ax = ax)\n",
    "ax.set_title('Distribuição da variável alvo')\n",
    "ax.set_xlabel('Variável')\n",
    "ax.set_ylabel('Quantidade')\n",
    "plt.xticks(rotation=0)\n",
    "plt.tight_layout()"
   ]
  },
  {
   "cell_type": "markdown",
   "metadata": {},
   "source": [
    "Temos a mesma visão do que foi escrito acima, mas agora de forma gráfica em um gráfico de barras, evidenciando que existe mais dados referentes aos clientes que continuam sendo clientes do banco."
   ]
  },
  {
   "cell_type": "code",
   "execution_count": 7,
   "metadata": {},
   "outputs": [
    {
     "data": {
      "text/html": [
       "<div>\n",
       "<style scoped>\n",
       "    .dataframe tbody tr th:only-of-type {\n",
       "        vertical-align: middle;\n",
       "    }\n",
       "\n",
       "    .dataframe tbody tr th {\n",
       "        vertical-align: top;\n",
       "    }\n",
       "\n",
       "    .dataframe thead th {\n",
       "        text-align: right;\n",
       "    }\n",
       "</style>\n",
       "<table border=\"1\" class=\"dataframe\">\n",
       "  <thead>\n",
       "    <tr style=\"text-align: right;\">\n",
       "      <th>Gender</th>\n",
       "      <th>Female</th>\n",
       "      <th>Male</th>\n",
       "    </tr>\n",
       "  </thead>\n",
       "  <tbody>\n",
       "    <tr>\n",
       "      <th>Cliente</th>\n",
       "      <td>3404</td>\n",
       "      <td>4559</td>\n",
       "    </tr>\n",
       "    <tr>\n",
       "      <th>Deixou de ser cliente</th>\n",
       "      <td>1139</td>\n",
       "      <td>898</td>\n",
       "    </tr>\n",
       "  </tbody>\n",
       "</table>\n",
       "</div>"
      ],
      "text/plain": [
       "Gender                 Female  Male\n",
       "Cliente                  3404  4559\n",
       "Deixou de ser cliente    1139   898"
      ]
     },
     "execution_count": 7,
     "metadata": {},
     "output_type": "execute_result"
    }
   ],
   "source": [
    "gender_exited = pd.crosstab(index=df[\"Exited\"], \n",
    "             columns=df[\"Gender\"])\n",
    "\n",
    "gender_exited.index= [\"Cliente\",\"Deixou de ser cliente\"]\n",
    "gender_exited"
   ]
  },
  {
   "cell_type": "markdown",
   "metadata": {},
   "source": [
    "A tabela de frequência acima nos mostra a quantidade de clientes do banco por genêro e se o cliente deixou ou não de ser cliente. \n",
    "\n",
    "Analisando a tabela temos que a maioria dos clientes que deixaram de ser cliente são do sexo Feminino."
   ]
  },
  {
   "cell_type": "code",
   "execution_count": 8,
   "metadata": {},
   "outputs": [
    {
     "data": {
      "text/html": [
       "<div>\n",
       "<style scoped>\n",
       "    .dataframe tbody tr th:only-of-type {\n",
       "        vertical-align: middle;\n",
       "    }\n",
       "\n",
       "    .dataframe tbody tr th {\n",
       "        vertical-align: top;\n",
       "    }\n",
       "\n",
       "    .dataframe thead th {\n",
       "        text-align: right;\n",
       "    }\n",
       "</style>\n",
       "<table border=\"1\" class=\"dataframe\">\n",
       "  <thead>\n",
       "    <tr style=\"text-align: right;\">\n",
       "      <th>Geography</th>\n",
       "      <th>France</th>\n",
       "      <th>Germany</th>\n",
       "      <th>Spain</th>\n",
       "    </tr>\n",
       "  </thead>\n",
       "  <tbody>\n",
       "    <tr>\n",
       "      <th>Cliente</th>\n",
       "      <td>4204</td>\n",
       "      <td>1695</td>\n",
       "      <td>2064</td>\n",
       "    </tr>\n",
       "    <tr>\n",
       "      <th>Deixou de ser cliente</th>\n",
       "      <td>810</td>\n",
       "      <td>814</td>\n",
       "      <td>413</td>\n",
       "    </tr>\n",
       "  </tbody>\n",
       "</table>\n",
       "</div>"
      ],
      "text/plain": [
       "Geography              France  Germany  Spain\n",
       "Cliente                  4204     1695   2064\n",
       "Deixou de ser cliente     810      814    413"
      ]
     },
     "execution_count": 8,
     "metadata": {},
     "output_type": "execute_result"
    }
   ],
   "source": [
    "geo_exited = pd.crosstab(index=df[\"Exited\"], \n",
    "             columns=df[\"Geography\"])\n",
    "\n",
    "geo_exited.index= [\"Cliente\",\"Deixou de ser cliente\"]\n",
    "geo_exited"
   ]
  },
  {
   "cell_type": "markdown",
   "metadata": {},
   "source": [
    "A tabela de frequência acima nos mostra a quantidade de clientes do banco por país e se o cliente deixou ou não de ser cliente.\n",
    "\n",
    "A tabela nos mostra que há dois países com grande quantidade de clientes que deixaram o banco, sendo eles França e Alemanha."
   ]
  },
  {
   "cell_type": "code",
   "execution_count": 9,
   "metadata": {},
   "outputs": [
    {
     "data": {
      "text/html": [
       "<div>\n",
       "<style scoped>\n",
       "    .dataframe tbody tr th:only-of-type {\n",
       "        vertical-align: middle;\n",
       "    }\n",
       "\n",
       "    .dataframe tbody tr th {\n",
       "        vertical-align: top;\n",
       "    }\n",
       "\n",
       "    .dataframe thead th {\n",
       "        text-align: right;\n",
       "    }\n",
       "</style>\n",
       "<table border=\"1\" class=\"dataframe\">\n",
       "  <thead>\n",
       "    <tr style=\"text-align: right;\">\n",
       "      <th>HasCrCard</th>\n",
       "      <th>0</th>\n",
       "      <th>1</th>\n",
       "    </tr>\n",
       "  </thead>\n",
       "  <tbody>\n",
       "    <tr>\n",
       "      <th>Cliente</th>\n",
       "      <td>2332</td>\n",
       "      <td>5631</td>\n",
       "    </tr>\n",
       "    <tr>\n",
       "      <th>Deixou de ser cliente</th>\n",
       "      <td>613</td>\n",
       "      <td>1424</td>\n",
       "    </tr>\n",
       "  </tbody>\n",
       "</table>\n",
       "</div>"
      ],
      "text/plain": [
       "HasCrCard                 0     1\n",
       "Cliente                2332  5631\n",
       "Deixou de ser cliente   613  1424"
      ]
     },
     "execution_count": 9,
     "metadata": {},
     "output_type": "execute_result"
    }
   ],
   "source": [
    "card_exited = pd.crosstab(index=df[\"Exited\"], \n",
    "             columns=df[\"HasCrCard\"])\n",
    "\n",
    "card_exited.index= [\"Cliente\",\"Deixou de ser cliente\"]\n",
    "card_exited"
   ]
  },
  {
   "cell_type": "markdown",
   "metadata": {},
   "source": [
    "A tabela de frequência acima nos mostra a quantidade de clientes do banco que possui ou não cartão de crédito e se ele deixou ou não de ser cliente.\n",
    "\n",
    "A tabela nos mostra que os cliente que possuem cartão de crédito são a maioria que deixaram de ser clientes do banco."
   ]
  },
  {
   "cell_type": "code",
   "execution_count": 10,
   "metadata": {},
   "outputs": [
    {
     "data": {
      "text/html": [
       "<div>\n",
       "<style scoped>\n",
       "    .dataframe tbody tr th:only-of-type {\n",
       "        vertical-align: middle;\n",
       "    }\n",
       "\n",
       "    .dataframe tbody tr th {\n",
       "        vertical-align: top;\n",
       "    }\n",
       "\n",
       "    .dataframe thead th {\n",
       "        text-align: right;\n",
       "    }\n",
       "</style>\n",
       "<table border=\"1\" class=\"dataframe\">\n",
       "  <thead>\n",
       "    <tr style=\"text-align: right;\">\n",
       "      <th>NumOfProducts</th>\n",
       "      <th>1</th>\n",
       "      <th>2</th>\n",
       "      <th>3</th>\n",
       "      <th>4</th>\n",
       "    </tr>\n",
       "  </thead>\n",
       "  <tbody>\n",
       "    <tr>\n",
       "      <th>Cliente</th>\n",
       "      <td>3675</td>\n",
       "      <td>4242</td>\n",
       "      <td>46</td>\n",
       "      <td>0</td>\n",
       "    </tr>\n",
       "    <tr>\n",
       "      <th>Deixou de ser cliente</th>\n",
       "      <td>1409</td>\n",
       "      <td>348</td>\n",
       "      <td>220</td>\n",
       "      <td>60</td>\n",
       "    </tr>\n",
       "  </tbody>\n",
       "</table>\n",
       "</div>"
      ],
      "text/plain": [
       "NumOfProducts             1     2    3   4\n",
       "Cliente                3675  4242   46   0\n",
       "Deixou de ser cliente  1409   348  220  60"
      ]
     },
     "execution_count": 10,
     "metadata": {},
     "output_type": "execute_result"
    }
   ],
   "source": [
    "prods_exited = pd.crosstab(index=df[\"Exited\"], \n",
    "             columns=df[\"NumOfProducts\"])\n",
    "\n",
    "prods_exited.index= [\"Cliente\",\"Deixou de ser cliente\"]\n",
    "prods_exited"
   ]
  },
  {
   "cell_type": "markdown",
   "metadata": {},
   "source": [
    "A tabela de frequência acima nos mostra a quantidade de clientes do banco e a quantidade de produtos possíveis do banco e se ele deixou ou não de ser cliente.\n",
    "\n",
    "A tabela indica que a os clientes que deixaram o banco são os clientes que tinham somente um produto do banco."
   ]
  },
  {
   "cell_type": "code",
   "execution_count": 11,
   "metadata": {},
   "outputs": [
    {
     "data": {
      "text/html": [
       "<div>\n",
       "<style scoped>\n",
       "    .dataframe tbody tr th:only-of-type {\n",
       "        vertical-align: middle;\n",
       "    }\n",
       "\n",
       "    .dataframe tbody tr th {\n",
       "        vertical-align: top;\n",
       "    }\n",
       "\n",
       "    .dataframe thead th {\n",
       "        text-align: right;\n",
       "    }\n",
       "</style>\n",
       "<table border=\"1\" class=\"dataframe\">\n",
       "  <thead>\n",
       "    <tr style=\"text-align: right;\">\n",
       "      <th>Tenure</th>\n",
       "      <th>0</th>\n",
       "      <th>1</th>\n",
       "      <th>2</th>\n",
       "      <th>3</th>\n",
       "      <th>4</th>\n",
       "      <th>5</th>\n",
       "      <th>6</th>\n",
       "      <th>7</th>\n",
       "      <th>8</th>\n",
       "      <th>9</th>\n",
       "      <th>10</th>\n",
       "    </tr>\n",
       "  </thead>\n",
       "  <tbody>\n",
       "    <tr>\n",
       "      <th>Cliente</th>\n",
       "      <td>318</td>\n",
       "      <td>803</td>\n",
       "      <td>847</td>\n",
       "      <td>796</td>\n",
       "      <td>786</td>\n",
       "      <td>803</td>\n",
       "      <td>771</td>\n",
       "      <td>851</td>\n",
       "      <td>828</td>\n",
       "      <td>771</td>\n",
       "      <td>389</td>\n",
       "    </tr>\n",
       "    <tr>\n",
       "      <th>Deixou de ser cliente</th>\n",
       "      <td>95</td>\n",
       "      <td>232</td>\n",
       "      <td>201</td>\n",
       "      <td>213</td>\n",
       "      <td>203</td>\n",
       "      <td>209</td>\n",
       "      <td>196</td>\n",
       "      <td>177</td>\n",
       "      <td>197</td>\n",
       "      <td>213</td>\n",
       "      <td>101</td>\n",
       "    </tr>\n",
       "  </tbody>\n",
       "</table>\n",
       "</div>"
      ],
      "text/plain": [
       "Tenure                  0    1    2    3    4    5    6    7    8    9    10\n",
       "Cliente                318  803  847  796  786  803  771  851  828  771  389\n",
       "Deixou de ser cliente   95  232  201  213  203  209  196  177  197  213  101"
      ]
     },
     "execution_count": 11,
     "metadata": {},
     "output_type": "execute_result"
    }
   ],
   "source": [
    "ten_exited = pd.crosstab(index=df[\"Exited\"], \n",
    "             columns=df[\"Tenure\"])\n",
    "\n",
    "ten_exited.index= [\"Cliente\",\"Deixou de ser cliente\"]\n",
    "ten_exited"
   ]
  },
  {
   "cell_type": "markdown",
   "metadata": {},
   "source": [
    "A tabela de frequência nos mostra a quantidade de cliente e a quantidade de anos que ele é cliente do banco e se ele deixou ou não de ser cliente.\n",
    "\n",
    "A tabela nos mostra uma concentração maior de clientes que deixaram de ser clientes entre 1 e 5 anos fazendo parte do banco, mas também temos uma quantidade de clientes com 9 anos de casa deixando de cliente."
   ]
  },
  {
   "cell_type": "code",
   "execution_count": 12,
   "metadata": {},
   "outputs": [
    {
     "data": {
      "text/html": [
       "<div>\n",
       "<style scoped>\n",
       "    .dataframe tbody tr th:only-of-type {\n",
       "        vertical-align: middle;\n",
       "    }\n",
       "\n",
       "    .dataframe tbody tr th {\n",
       "        vertical-align: top;\n",
       "    }\n",
       "\n",
       "    .dataframe thead th {\n",
       "        text-align: right;\n",
       "    }\n",
       "</style>\n",
       "<table border=\"1\" class=\"dataframe\">\n",
       "  <thead>\n",
       "    <tr style=\"text-align: right;\">\n",
       "      <th>IsActiveMember</th>\n",
       "      <th>0</th>\n",
       "      <th>1</th>\n",
       "    </tr>\n",
       "  </thead>\n",
       "  <tbody>\n",
       "    <tr>\n",
       "      <th>Cliente</th>\n",
       "      <td>3547</td>\n",
       "      <td>4416</td>\n",
       "    </tr>\n",
       "    <tr>\n",
       "      <th>Deixou de ser cliente</th>\n",
       "      <td>1302</td>\n",
       "      <td>735</td>\n",
       "    </tr>\n",
       "  </tbody>\n",
       "</table>\n",
       "</div>"
      ],
      "text/plain": [
       "IsActiveMember            0     1\n",
       "Cliente                3547  4416\n",
       "Deixou de ser cliente  1302   735"
      ]
     },
     "execution_count": 12,
     "metadata": {},
     "output_type": "execute_result"
    }
   ],
   "source": [
    "active_exited = pd.crosstab(index=df[\"Exited\"], \n",
    "             columns=df[\"IsActiveMember\"])\n",
    "\n",
    "active_exited.index= [\"Cliente\",\"Deixou de ser cliente\"]\n",
    "active_exited"
   ]
  },
  {
   "cell_type": "markdown",
   "metadata": {},
   "source": [
    "A tabela de frequência acima nos mostra a quantidade de clientes do banco que tem ou não empresa ativa no banco e se ele deixou ou não de ser cliente.\n",
    "\n",
    "A tabela nos mostra que os cliente que não possuem empresa são a maioria que deixaram de ser clientes do banco."
   ]
  },
  {
   "cell_type": "code",
   "execution_count": 13,
   "metadata": {},
   "outputs": [
    {
     "data": {
      "image/png": "[encoded data removed]",
      "text/plain": [
       "<Figure size 864x288 with 2 Axes>"
      ]
     },
     "metadata": {
      "needs_background": "light"
     },
     "output_type": "display_data"
    }
   ],
   "source": [
    "df[['Balance', 'EstimatedSalary']].hist(bins = 100, figsize= (12,4))\n",
    "plt.tight_layout()"
   ]
  },
  {
   "cell_type": "markdown",
   "metadata": {},
   "source": [
    "Nos histogramas acima percebemos que existe uma grande quantidade de clientes que estão com saldo em conta igual a 0, será importante dar uma olhada mais afundo sobre esses clientes.\n",
    "\n",
    "Vou considerar aqui que a estimativa de salário dos clientes sejam anual. O histograma nos mostra que temos dados multimodais, pois há presença de mais de um pico. Poderemos criar grupos para agrupar os clientes com os salários para uma melhor visualização."
   ]
  },
  {
   "cell_type": "code",
   "execution_count": 14,
   "metadata": {},
   "outputs": [
    {
     "data": {
      "text/plain": [
       "0    3117\n",
       "1     500\n",
       "Name: Exited, dtype: int64"
      ]
     },
     "execution_count": 14,
     "metadata": {},
     "output_type": "execute_result"
    }
   ],
   "source": [
    "df_balance = df.loc[df['Balance']==0]\n",
    "df_balance['Exited'].value_counts()"
   ]
  },
  {
   "cell_type": "markdown",
   "metadata": {},
   "source": [
    "Como dito anteriormente, se fez necessário olhar mais de perto os clientes que tem 0 no saldo da conta, com isso fiz a tabela acima para ver a quantidade de clientes com saldo 0 para a variável alvo. Vemos que a grande maioria dos clientes que tem saldo igual a zero ainda são clientes do banco e somente 500 clientes deixaram o banco."
   ]
  },
  {
   "cell_type": "code",
   "execution_count": 15,
   "metadata": {},
   "outputs": [],
   "source": [
    "df['group_salary'] = df.EstimatedSalary.apply(lambda x: 'group1' if x <= 50000 \n",
    "                                              else ('group2' if x >= 50001 and x <= 100000\n",
    "                                                   else ('group3' if x>= 100001 and x<= 150000 else 'group4')))"
   ]
  },
  {
   "cell_type": "code",
   "execution_count": 16,
   "metadata": {},
   "outputs": [
    {
     "data": {
      "text/html": [
       "<div>\n",
       "<style scoped>\n",
       "    .dataframe tbody tr th:only-of-type {\n",
       "        vertical-align: middle;\n",
       "    }\n",
       "\n",
       "    .dataframe tbody tr th {\n",
       "        vertical-align: top;\n",
       "    }\n",
       "\n",
       "    .dataframe thead th {\n",
       "        text-align: right;\n",
       "    }\n",
       "</style>\n",
       "<table border=\"1\" class=\"dataframe\">\n",
       "  <thead>\n",
       "    <tr style=\"text-align: right;\">\n",
       "      <th>group_salary</th>\n",
       "      <th>group1</th>\n",
       "      <th>group2</th>\n",
       "      <th>group3</th>\n",
       "      <th>group4</th>\n",
       "    </tr>\n",
       "  </thead>\n",
       "  <tbody>\n",
       "    <tr>\n",
       "      <th>Cliente</th>\n",
       "      <td>1964</td>\n",
       "      <td>2033</td>\n",
       "      <td>2038</td>\n",
       "      <td>1928</td>\n",
       "    </tr>\n",
       "    <tr>\n",
       "      <th>Deixou de ser cliente</th>\n",
       "      <td>489</td>\n",
       "      <td>504</td>\n",
       "      <td>517</td>\n",
       "      <td>527</td>\n",
       "    </tr>\n",
       "  </tbody>\n",
       "</table>\n",
       "</div>"
      ],
      "text/plain": [
       "group_salary           group1  group2  group3  group4\n",
       "Cliente                  1964    2033    2038    1928\n",
       "Deixou de ser cliente     489     504     517     527"
      ]
     },
     "execution_count": 16,
     "metadata": {},
     "output_type": "execute_result"
    }
   ],
   "source": [
    "salary_exited = pd.crosstab(index=df[\"Exited\"], \n",
    "             columns=df[\"group_salary\"])\n",
    "\n",
    "salary_exited.index= [\"Cliente\",\"Deixou de ser cliente\"]\n",
    "salary_exited"
   ]
  },
  {
   "cell_type": "markdown",
   "metadata": {},
   "source": [
    "Para uma melhor análise dos salários foi definido quatro grupos, sendo eles:\n",
    "- O grupo um serão os cliente que tenham estimativa de salários de até \\\\$50.000,00 anual.\n",
    "- O grupo dois serão os cliente que tenham estimativa de salários de entre \\\\$50.000,00 e \\\\$100.000,00 anual.\n",
    "- O grupo três serão os cliente que tenham estimativa de salários de entre \\\\$100.000,00 e \\\\$150.000,00 anual.\n",
    "- O grupo quatro serão os cliente que tenham estimativa de salários de maior que \\\\$150.000,00 anual.\n",
    "\n",
    "A partir disso temos o seguinte, a maioria dos clientes do que estão no grupo três e os clientes que deixaram de ser clientes estão no grupo quatro. O banco tem menos clientes ativos nesse grupo também, em comparação com os outros grupos."
   ]
  },
  {
   "cell_type": "code",
   "execution_count": 17,
   "metadata": {},
   "outputs": [
    {
     "data": {
      "image/png": "[encoded data removed]",
      "text/plain": [
       "<Figure size 1152x432 with 2 Axes>"
      ]
     },
     "metadata": {
      "needs_background": "light"
     },
     "output_type": "display_data"
    }
   ],
   "source": [
    "fig, ax = plt.subplots(figsize = (16,6))\n",
    "\n",
    "sns.heatmap(df.corr(), cmap='RdBu', fmt='.2f',  linecolor='white', annot=True)\n",
    "plt.tight_layout()"
   ]
  },
  {
   "cell_type": "markdown",
   "metadata": {},
   "source": [
    "O gráfico acima mostra as correlações entre as variáveis. A maioria das correlações são bem fracas entre as variáveis.\n",
    "Podemos ver uma correlação entre as variáveis o saldo da conta corrente e o número de produtos. Interessante ver que existe uma correlação, mesmo que sendo fraca, entre a idade e a variável alvo."
   ]
  },
  {
   "cell_type": "code",
   "execution_count": 18,
   "metadata": {},
   "outputs": [
    {
     "data": {
      "text/html": [
       "<div>\n",
       "<style scoped>\n",
       "    .dataframe tbody tr th:only-of-type {\n",
       "        vertical-align: middle;\n",
       "    }\n",
       "\n",
       "    .dataframe tbody tr th {\n",
       "        vertical-align: top;\n",
       "    }\n",
       "\n",
       "    .dataframe thead th {\n",
       "        text-align: right;\n",
       "    }\n",
       "</style>\n",
       "<table border=\"1\" class=\"dataframe\">\n",
       "  <thead>\n",
       "    <tr style=\"text-align: right;\">\n",
       "      <th></th>\n",
       "      <th>Age</th>\n",
       "      <th>Balance</th>\n",
       "      <th>EstimatedSalary</th>\n",
       "      <th>CreditScore</th>\n",
       "    </tr>\n",
       "  </thead>\n",
       "  <tbody>\n",
       "    <tr>\n",
       "      <th>Cliente</th>\n",
       "      <td>37.408389</td>\n",
       "      <td>72745.296779</td>\n",
       "      <td>99738.391772</td>\n",
       "      <td>651.853196</td>\n",
       "    </tr>\n",
       "    <tr>\n",
       "      <th>Deixou de ser cliente</th>\n",
       "      <td>44.837997</td>\n",
       "      <td>91108.539337</td>\n",
       "      <td>101465.677531</td>\n",
       "      <td>645.351497</td>\n",
       "    </tr>\n",
       "  </tbody>\n",
       "</table>\n",
       "</div>"
      ],
      "text/plain": [
       "                             Age       Balance  EstimatedSalary  CreditScore\n",
       "Cliente                37.408389  72745.296779     99738.391772   651.853196\n",
       "Deixou de ser cliente  44.837997  91108.539337    101465.677531   645.351497"
      ]
     },
     "execution_count": 18,
     "metadata": {},
     "output_type": "execute_result"
    }
   ],
   "source": [
    "num_scores_exited = df.groupby('Exited')[['Age', 'Balance', 'EstimatedSalary', 'CreditScore']].agg('mean')\n",
    "num_scores_exited.index= [\"Cliente\",\"Deixou de ser cliente\"]\n",
    "num_scores_exited"
   ]
  },
  {
   "cell_type": "markdown",
   "metadata": {},
   "source": [
    "A tabela é exibido a média entre algumas variáveis para cada uma variável alvo. Portanto, podemos perceber que os clientes que tenham, em média, idade acima de 44 anos, saldo em conta acima de \\\\$90.000,00, salário anual acima de \\\\$100.000,00 e um score de crédito de 645 são clientes que tem probabilidade de deixarem de ser clientes do banco."
   ]
  },
  {
   "cell_type": "markdown",
   "metadata": {},
   "source": [
    "## Algoritmo de machine learning\n",
    "\n",
    "Vamos utilizar de algoritmos de machine learning para auxiliar na resolução do nosso problema. Sabemos que se trata de um problema de classificação, portanto vamos utilizar os algoritmos com essa finalidade."
   ]
  },
  {
   "cell_type": "code",
   "execution_count": 19,
   "metadata": {},
   "outputs": [],
   "source": [
    "df = pd.read_csv('data.csv')\n",
    "X = df.drop(['RowNumber', 'CustomerId', 'Surname', 'Exited'], axis = 1)\n",
    "\n",
    "vars_numerical = X.select_dtypes(include=['int64', 'float64']).columns\n",
    "vars_categorical = list(X.select_dtypes(include=['object', 'bool']).columns)\n",
    "\n",
    "y = df.Exited.values"
   ]
  },
  {
   "cell_type": "markdown",
   "metadata": {},
   "source": [
    "Os códigos acima redefine o nosso conjunto de dados para o original. Selecionamos os nosso dados para o X e o y, onde o X serão todas as variáveis retirando a variável alvo e também o RowNumber, CustomerId e Surname, que são dados irrelevantes, já que são códigos sequenciais.\n",
    "\n",
    "É dividido também entre númericas e categóricas, pois será necessário algumas transformações para esses tipos."
   ]
  },
  {
   "cell_type": "markdown",
   "metadata": {},
   "source": [
    "### Pré processamento"
   ]
  },
  {
   "cell_type": "code",
   "execution_count": 20,
   "metadata": {},
   "outputs": [],
   "source": [
    "scaler = StandardScaler()\n",
    "X[vars_numerical] = scaler.fit_transform(X[vars_numerical])"
   ]
  },
  {
   "cell_type": "markdown",
   "metadata": {},
   "source": [
    "Para as variáveis númericas será aplicada a transformação StandardScaler. Alguns algoritmos esperam que os dados estejam padronizados, para isso vamos aplicar essa transformação.\n",
    "\n",
    "A padronização é uma re-escala dos dados númericos dentro de uma faixa, e a função StandardScaler faz isso para gente. Essa técina transforma o dado para forma com média próxima de zero e um desvião padrão próximo de um, normalizandos esses dados."
   ]
  },
  {
   "cell_type": "code",
   "execution_count": 21,
   "metadata": {},
   "outputs": [],
   "source": [
    "encoder = ce.OrdinalEncoder(cols = X[vars_categorical])\n",
    "X = encoder.fit_transform(X)"
   ]
  },
  {
   "cell_type": "markdown",
   "metadata": {},
   "source": [
    "Seguindo a mesma técnica de aplicar transformação dos dados, vamos para as variáveis categóricas. Os algoritmos esperam que os dados sejam números e não nominais ou ordinais, assim se faz necessário transformar esses dados.\n",
    "\n",
    "O OneHotEnconding se encarrega de transformar esses dados de categóricos para numéricos, mas de uma forma diferente. Para cada valor de uma variável ele irá criar uma nova coluna e para cada dessa coluna ele cria um binário."
   ]
  },
  {
   "cell_type": "code",
   "execution_count": 22,
   "metadata": {},
   "outputs": [],
   "source": [
    "X_train, X_valid, y_train, y_valid = train_test_split(X, y, test_size = 0.3, random_state = 42, shuffle = True)"
   ]
  },
  {
   "cell_type": "code",
   "execution_count": 23,
   "metadata": {},
   "outputs": [
    {
     "data": {
      "text/plain": [
       "((7000, 10), (7000,), (3000, 10), (3000,))"
      ]
     },
     "execution_count": 23,
     "metadata": {},
     "output_type": "execute_result"
    }
   ],
   "source": [
    "X_train.shape, y_train.shape, X_valid.shape, y_valid.shape"
   ]
  },
  {
   "cell_type": "markdown",
   "metadata": {},
   "source": [
    "É de suma importância dividir os dados em dados de treino e validação. Para que o algoritmo treine com os dados de treino e que possamos validar o modelo criado nos dados de validação.\n",
    "\n",
    "Com isso vamos dividir os dados, sendo para os dados de treino 70% e para os dados de validação 30%."
   ]
  },
  {
   "cell_type": "markdown",
   "metadata": {},
   "source": [
    "### Regressão Logística\n",
    "\n",
    "Vamos estimar uma regressão logística e analisar os resultados estatístico usando statsmodels aqui no Python. Vamos investigar a chance do cliente deixar de ser clientes para as variáveis:\n",
    "\n",
    "* CreditScore : O score de crédito do cliente\n",
    "* Geography : O país do cliente\n",
    "* Gender : O sexo do cliente\n",
    "* Age : A idade do cliente\n",
    "* Tenure : Número que é referente à quantidade de anos que a pessoa é cliente no banco\n",
    "* Balance : O saldo da conta do cliente\n",
    "* NumOfProducts : Número de producos bancários que o cliente utiliza\n",
    "* HasCrCard : O cliente possui cartão de crédito, sendo 0 igual a não e 1 igual a sim.\n",
    "* IsActiveMember : O cliente possui uma empresa ativa, sendo 0 igual a não e 1 igual a sim.\n",
    "* EstimatedSalary : O valor do salário estimado do cliente\n",
    "\n",
    "Para esse modelo, por enquanto, não será utilizado os dados transformados, retiramos as variáveis RowNumber, CustomerID e Surname."
   ]
  },
  {
   "cell_type": "code",
   "execution_count": 24,
   "metadata": {},
   "outputs": [
    {
     "name": "stdout",
     "output_type": "stream",
     "text": [
      "                 Generalized Linear Model Regression Results                  \n",
      "==============================================================================\n",
      "Dep. Variable:                 Exited   No. Observations:                10000\n",
      "Model:                            GLM   Df Residuals:                     9988\n",
      "Model Family:                Binomial   Df Model:                           11\n",
      "Link Function:                  logit   Scale:                          1.0000\n",
      "Method:                          IRLS   Log-Likelihood:                -4280.7\n",
      "Date:                Fri, 03 Jul 2020   Deviance:                       8561.4\n",
      "Time:                        22:02:02   Pearson chi2:                 1.01e+04\n",
      "No. Iterations:                     5                                         \n",
      "Covariance Type:            nonrobust                                         \n",
      "========================================================================================\n",
      "                           coef    std err          z      P>|z|      [0.025      0.975]\n",
      "----------------------------------------------------------------------------------------\n",
      "Intercept               -3.3923      0.245    -13.857      0.000      -3.872      -2.912\n",
      "Geography[T.Germany]     0.7747      0.068     11.448      0.000       0.642       0.907\n",
      "Geography[T.Spain]       0.0352      0.071      0.499      0.618      -0.103       0.174\n",
      "Gender[T.Male]          -0.5285      0.054     -9.699      0.000      -0.635      -0.422\n",
      "CreditScore             -0.0007      0.000     -2.384      0.017      -0.001      -0.000\n",
      "Age                      0.0727      0.003     28.230      0.000       0.068       0.078\n",
      "Tenure                  -0.0159      0.009     -1.705      0.088      -0.034       0.002\n",
      "Balance               2.637e-06   5.14e-07      5.128      0.000    1.63e-06    3.64e-06\n",
      "NumOfProducts           -0.1015      0.047     -2.154      0.031      -0.194      -0.009\n",
      "HasCrCard               -0.0447      0.059     -0.753      0.452      -0.161       0.072\n",
      "IsActiveMember          -1.0754      0.058    -18.643      0.000      -1.189      -0.962\n",
      "EstimatedSalary       4.807e-07   4.74e-07      1.015      0.310   -4.48e-07    1.41e-06\n",
      "========================================================================================\n"
     ]
    }
   ],
   "source": [
    "model_logic = smf.glm(formula = 'Exited ~  CreditScore + Geography + Gender + Age + Tenure + Balance + NumOfProducts + HasCrCard +IsActiveMember + EstimatedSalary', data = df, family = sm.families.Binomial())\n",
    "results = model_logic.fit()\n",
    "print(results.summary())"
   ]
  },
  {
   "cell_type": "markdown",
   "metadata": {},
   "source": [
    "Para um intervalo de confiança de 95%, temos que alguns coeficientes não foram estaticamente significativos, poderiam ser removidos do modelo. Esses coeficientes podem ser intepretados em termos de aumento ou diminuição da chance do cliente deixarem ou não de ser cliente, pois estão em escala logarítmica.\n",
    "\n",
    "Interpretando alguns dados temos que, os clientes do sexo Male possuem menos chances de deixarem de ser clientes do que do sexo Feminino. Os clientes que são mais velhos tem mais chances de deixarem de ser clientes do banco. Quanto mais tempo sendo cliente do banco menor serão as chances do cliente deixar de ter conta no banco. Os clientes da Alemanha são os que tem mais chances de deixarem de ser cliente do banco.\n",
    "\n",
    "Temos que para esse modelo algumas variáveis importantes, sendo elas **Geography, Gender, Age, Balance e IsActiveMember**."
   ]
  },
  {
   "cell_type": "code",
   "execution_count": 25,
   "metadata": {},
   "outputs": [
    {
     "data": {
      "image/png": "[encoded data removed]",
      "text/plain": [
       "<Figure size 432x288 with 1 Axes>"
      ]
     },
     "metadata": {
      "needs_background": "light"
     },
     "output_type": "display_data"
    }
   ],
   "source": [
    "y_preds = results.predict(df)\n",
    "\n",
    "## Calcular a especificidade e a sensibilidade\n",
    "S = np.linspace(min(y_preds), max(y_preds), 100)\n",
    "Sens = np.zeros(len(S), dtype=np.float64)\n",
    "Spec = np.zeros(len(S), dtype=np.float64)\n",
    "i1 = np.flatnonzero(df['Exited'] == 1)\n",
    "i0 = np.flatnonzero(df['Exited'] == 0)\n",
    "for i,s in enumerate(S):\n",
    "    Sens[i] = np.mean(y_preds[i1] > s)\n",
    "    Spec[i] = np.mean(y_preds[i0] <= s)\n",
    "    \n",
    "# Calcular a AUC\n",
    "auc = 0.\n",
    "for i in range(1,len(Sens)):\n",
    "    auc += (Spec[i]-Spec[i-1]) * (Sens[i] + Sens[i-1])/2\n",
    "    \n",
    "#plotar a  ROC curve\n",
    "plt.clf()\n",
    "plt.plot([0,1], [0,1], '-', color='black', lw=2)\n",
    "plt.plot(1-Spec, Sens, '-', color='blue', lw=2)\n",
    "plt.title(\"AUC=%.2f\" % auc)\n",
    "plt.show()"
   ]
  },
  {
   "cell_type": "markdown",
   "metadata": {},
   "source": [
    "Para validar o modelo vamos utilizar a ROC curve, o código acima é feito o cálculo da sensibilidade e especificidade para que possamos fazer o cálculo da AUC e plotar a curva ROC. A curva ROC é uma forma de representar a relação entre a sensibilidade e a especificidade, podemos interpretar que quanto mais perto do lado superior esquerdo do gráfico melhor é o poder da regressão com os dados. Alcançamos uma escala de 0.77, que é __aceitável__."
   ]
  },
  {
   "cell_type": "markdown",
   "metadata": {},
   "source": [
    "### Random Forest Classifier"
   ]
  },
  {
   "cell_type": "code",
   "execution_count": 26,
   "metadata": {},
   "outputs": [
    {
     "data": {
      "text/plain": [
       "RandomForestClassifier(bootstrap=True, ccp_alpha=0.0, class_weight=None,\n",
       "                       criterion='gini', max_depth=None, max_features='auto',\n",
       "                       max_leaf_nodes=None, max_samples=None,\n",
       "                       min_impurity_decrease=0.0, min_impurity_split=None,\n",
       "                       min_samples_leaf=1, min_samples_split=2,\n",
       "                       min_weight_fraction_leaf=0.0, n_estimators=100,\n",
       "                       n_jobs=-1, oob_score=False, random_state=42, verbose=0,\n",
       "                       warm_start=False)"
      ]
     },
     "execution_count": 26,
     "metadata": {},
     "output_type": "execute_result"
    }
   ],
   "source": [
    "rf = RandomForestClassifier(n_jobs = -1, random_state = 42)\n",
    "\n",
    "rf.fit(X_train, y_train)"
   ]
  },
  {
   "cell_type": "code",
   "execution_count": 27,
   "metadata": {},
   "outputs": [],
   "source": [
    "features_labels = X_train.columns\n",
    "features_importance = []\n",
    "for feature in zip(features_labels, rf.feature_importances_):\n",
    "    features_importance.append(feature)\n",
    "    \n",
    "df_features = pd.DataFrame(features_importance, columns = ['Feature Name', 'Score'])"
   ]
  },
  {
   "cell_type": "code",
   "execution_count": 32,
   "metadata": {},
   "outputs": [
    {
     "data": {
      "image/png": "[encoded data removed]",
      "text/plain": [
       "<Figure size 1008x432 with 1 Axes>"
      ]
     },
     "metadata": {
      "needs_background": "light"
     },
     "output_type": "display_data"
    }
   ],
   "source": [
    "fig, ax = plt.subplots(figsize = [14,6])\n",
    "sns.barplot(x = 'Feature Name', y = 'Score' , data = df_features.sort_values(by='Score', ascending = False), palette='rocket')\n",
    "\n",
    "plt.tight_layout()"
   ]
  },
  {
   "cell_type": "markdown",
   "metadata": {},
   "source": [
    "Para comparar com a Regressão Logística usaremos o Random Forest Classifier, que é um algoritmo baseado em árvores. Para tal, o modelo, de acordo com o gráfico acima, tivemos que as variáveis importantes foram: **Age, EstimatedSalary, Balance e CreditScore**"
   ]
  },
  {
   "cell_type": "code",
   "execution_count": 29,
   "metadata": {},
   "outputs": [
    {
     "data": {
      "image/png": "[encoded data removed]",
      "text/plain": [
       "<Figure size 432x288 with 1 Axes>"
      ]
     },
     "metadata": {
      "needs_background": "light"
     },
     "output_type": "display_data"
    }
   ],
   "source": [
    "scores = rf.predict_proba(X_valid)[:,1]\n",
    "fpr, tpr, thresholds = roc_curve(y_valid, scores)\n",
    "\n",
    "roc_auc = roc_auc_score(y_valid, scores)\n",
    "plt.plot(fpr, tpr, '-', color='blue', lw=2)\n",
    "plt.plot([0,1], [0,1], '-', color='black', lw=2)\n",
    "plt.title(\"AUC=%.2f\" % roc_auc)\n",
    "plt.show()"
   ]
  },
  {
   "cell_type": "markdown",
   "metadata": {},
   "source": [
    "Para validarmos o modelo, vamos utilizar os dados de validação, aquele que o algoritmo não teve contato, para assim plotar um gráfico da ROC curve. Alcançamos uma escala de 0.86, que é um valor definido como bom. "
   ]
  },
  {
   "cell_type": "markdown",
   "metadata": {},
   "source": [
    "## Conclusão\n",
    "\n",
    "Fizemos uma longa análise do nosso problema, desde o entendimentos dos dados com a análise exploratória dos dados, onde tivemos alguns insights interessantes até a utilização de algoritmos para auxiliar na resolução do problema e agora podemos voltar na pergunta de negócio, definida anteriormente, e asso, podemos responder com mais convicção e baseado nos dados.\n",
    "\n",
    "1. Quais são os motivos mais importantes e que são decisivos para os clientes cancelarem as suas contas?\n",
    "\n",
    "Fizemos dois modelos, onde os dois tiveram resultados um pouco diferente, qual está certo? Os dois estão certos, ainda há um grande trabalho a ser feito, mas podemos responder à essa pergunta com:\n",
    "\n",
    "**R. A idade é de fato uma variável decisiva, o saldo em conta também tem uma importância. Outros resultados foram interessante levar em conta que a localização, gênero, score do cartão de crédito e empresa ativa também devem ser levadas em conta. Essas são os motivos mais decisivos que levam os clientes a cancelarem as contas.**\n",
    "\n",
    "Todo o trabalho foi feito pautado em dados, portanto pode ser que seja necessário a aquisição de mais dados, criação de mais variáveis e trabalhar melhor com as transformações, aqui o estudo foi feito com intuito de rapidamente entregar um resultado que irá trazer benefício ao banco."
   ]
  }
 ],
 "metadata": {
  "kernelspec": {
   "display_name": "Python 3",
   "language": "python",
   "name": "python3"
  },
  "language_info": {
   "codemirror_mode": {
    "name": "ipython",
    "version": 3
   },
   "file_extension": ".py",
   "mimetype": "text/x-python",
   "name": "python",
   "nbconvert_exporter": "python",
   "pygments_lexer": "ipython3",
   "version": "3.7.6"
  }
 },
 "nbformat": 4,
 "nbformat_minor": 4
}
