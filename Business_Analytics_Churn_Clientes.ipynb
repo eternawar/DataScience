{
 "cells": [
  {
   "cell_type": "markdown",
   "metadata": {},
   "source": [
    "# Business Analitycs - Churn de clientes\n",
    "\n",
    "<img src=\"https://images.unsplash.com/photo-1488043592575-e52654c070a7?ixlib=rb-1.2.1&ixid=eyJhcHBfaWQiOjEyMDd9&auto=format&fit=crop&w=1050&q=80\" width=400 />\n",
    "\n",
    "\n",
    "O churn é uma métrica que mede à rotatividade de clientes do negócio isso está relacionado com os índices de evasão dos clientes e cancelamento dos serviços do negócio. O churn pode ocorrer de diversas maneiras diferentes e identificando os motivos que fizeram o seu cliente cancelar os seus serviços cria-se a oportuidade de criar estratégias de retenção desses cliente.\n",
    "\n",
    "O foco desse notebook é usar dados passados para entendermos quais foram os motivos que fizeram o cliente cancelar os serviços dessa empresa, iremos utilizar de algumas técnicas de business analytics para tal e com esse estudo sobre esse caso será possível entender os motivos do churn e podemos levar aos tomadores de decisões informações valiosas sobre o negócio baseado em dados reais. "
   ]
  },
  {
   "cell_type": "markdown",
   "metadata": {},
   "source": [
    "## Dados"
   ]
  },
  {
   "cell_type": "markdown",
   "metadata": {},
   "source": [
    "Os dados foram obtidos atráves do site [Kaggle](www.kaggle.com). O conjunto de dados utilizados nesse estudo contém detalhes dos clientes de um banco e o churn se refere o fato de o cliente ter saído do banco, cancelou a sua conta, ou continua sendo cliente do banco."
   ]
  },
  {
   "cell_type": "markdown",
   "metadata": {},
   "source": [
    "### Descrição das variáveis\n",
    "\n",
    "Essa seção se refere aos nomes e descrições das variáveis encontradas no conjunto de dados.\n",
    "\n",
    "* Surname : Sobrenome do cliente\n",
    "* CreditScore : O score de crédito do cliente\n",
    "* Geography : O país do cliente\n",
    "* Gender : O sexo do cliente\n",
    "* Age : A idade do cliente\n",
    "* Tenure : Número que é referente à quantidade de anos que a pessoa é cliente no banco\n",
    "* Balance : O saldo da conta do cliente\n",
    "* NumOfProducts : Número de producos bancários que o cliente utiliza\n",
    "* HasCrCard : O cliente possui cartão de crédito, sendo 0 igual a não e 1 igual a sim.\n",
    "* IsActiveMember : O cliente possui uma empresa ativa, sendo 0 igual a não e 1 igual a sim.\n",
    "* EstimatedSalary : O valor do salário estimado do cliente\n",
    "* Exited : Variável alvo, representa se o cliente cancelou ou não a conta, sendo 0 igual a não e 1 igual a sim."
   ]
  },
  {
   "cell_type": "markdown",
   "metadata": {},
   "source": [
    "## Definição do objetivo\n",
    "\n",
    "O objetivo desse projeto é investigar as causas que fazem os clientes cancelarem as suas contas no banco. Para tal, iremos estudar o nosso conjunto de dados e respondendo a grande questão:\n",
    "\n",
    "1. Quais são os motivos mais importantes e que são decisivos para os clientes cancelarem as suas contas?\n",
    "\n",
    "Ao decorrer do processos iremos discutir sobre esses motivos."
   ]
  },
  {
   "cell_type": "markdown",
   "metadata": {},
   "source": [
    "## Preparando os dados"
   ]
  },
  {
   "cell_type": "code",
   "execution_count": 118,
   "metadata": {},
   "outputs": [],
   "source": [
    "# import das bibliotecas utilizadas no projeto\n",
    "import pandas as pd\n",
    "import numpy as np\n",
    "import matplotlib.pyplot as plt\n",
    "import seaborn as sns\n",
    "from sklearn.model_selection import train_test_split\n",
    "import statsmodels.api as sm\n",
    "from sklearn.preprocessing import StandardScaler\n",
    "import category_encoders as ce"
   ]
  },
  {
   "cell_type": "code",
   "execution_count": 2,
   "metadata": {},
   "outputs": [],
   "source": [
    "# carregando os dados\n",
    "df = pd.read_csv('data/datasets_729058_1265963_Churn_Modelling.csv')"
   ]
  },
  {
   "cell_type": "code",
   "execution_count": 3,
   "metadata": {},
   "outputs": [
    {
     "data": {
      "text/html": [
       "<div>\n",
       "<style scoped>\n",
       "    .dataframe tbody tr th:only-of-type {\n",
       "        vertical-align: middle;\n",
       "    }\n",
       "\n",
       "    .dataframe tbody tr th {\n",
       "        vertical-align: top;\n",
       "    }\n",
       "\n",
       "    .dataframe thead th {\n",
       "        text-align: right;\n",
       "    }\n",
       "</style>\n",
       "<table border=\"1\" class=\"dataframe\">\n",
       "  <thead>\n",
       "    <tr style=\"text-align: right;\">\n",
       "      <th></th>\n",
       "      <th>RowNumber</th>\n",
       "      <th>CustomerId</th>\n",
       "      <th>Surname</th>\n",
       "      <th>CreditScore</th>\n",
       "      <th>Geography</th>\n",
       "      <th>Gender</th>\n",
       "      <th>Age</th>\n",
       "      <th>Tenure</th>\n",
       "      <th>Balance</th>\n",
       "      <th>NumOfProducts</th>\n",
       "      <th>HasCrCard</th>\n",
       "      <th>IsActiveMember</th>\n",
       "      <th>EstimatedSalary</th>\n",
       "      <th>Exited</th>\n",
       "    </tr>\n",
       "  </thead>\n",
       "  <tbody>\n",
       "    <tr>\n",
       "      <th>0</th>\n",
       "      <td>1</td>\n",
       "      <td>15634602</td>\n",
       "      <td>Hargrave</td>\n",
       "      <td>619</td>\n",
       "      <td>France</td>\n",
       "      <td>Female</td>\n",
       "      <td>42</td>\n",
       "      <td>2</td>\n",
       "      <td>0.00</td>\n",
       "      <td>1</td>\n",
       "      <td>1</td>\n",
       "      <td>1</td>\n",
       "      <td>101348.88</td>\n",
       "      <td>1</td>\n",
       "    </tr>\n",
       "    <tr>\n",
       "      <th>1</th>\n",
       "      <td>2</td>\n",
       "      <td>15647311</td>\n",
       "      <td>Hill</td>\n",
       "      <td>608</td>\n",
       "      <td>Spain</td>\n",
       "      <td>Female</td>\n",
       "      <td>41</td>\n",
       "      <td>1</td>\n",
       "      <td>83807.86</td>\n",
       "      <td>1</td>\n",
       "      <td>0</td>\n",
       "      <td>1</td>\n",
       "      <td>112542.58</td>\n",
       "      <td>0</td>\n",
       "    </tr>\n",
       "    <tr>\n",
       "      <th>2</th>\n",
       "      <td>3</td>\n",
       "      <td>15619304</td>\n",
       "      <td>Onio</td>\n",
       "      <td>502</td>\n",
       "      <td>France</td>\n",
       "      <td>Female</td>\n",
       "      <td>42</td>\n",
       "      <td>8</td>\n",
       "      <td>159660.80</td>\n",
       "      <td>3</td>\n",
       "      <td>1</td>\n",
       "      <td>0</td>\n",
       "      <td>113931.57</td>\n",
       "      <td>1</td>\n",
       "    </tr>\n",
       "    <tr>\n",
       "      <th>3</th>\n",
       "      <td>4</td>\n",
       "      <td>15701354</td>\n",
       "      <td>Boni</td>\n",
       "      <td>699</td>\n",
       "      <td>France</td>\n",
       "      <td>Female</td>\n",
       "      <td>39</td>\n",
       "      <td>1</td>\n",
       "      <td>0.00</td>\n",
       "      <td>2</td>\n",
       "      <td>0</td>\n",
       "      <td>0</td>\n",
       "      <td>93826.63</td>\n",
       "      <td>0</td>\n",
       "    </tr>\n",
       "    <tr>\n",
       "      <th>4</th>\n",
       "      <td>5</td>\n",
       "      <td>15737888</td>\n",
       "      <td>Mitchell</td>\n",
       "      <td>850</td>\n",
       "      <td>Spain</td>\n",
       "      <td>Female</td>\n",
       "      <td>43</td>\n",
       "      <td>2</td>\n",
       "      <td>125510.82</td>\n",
       "      <td>1</td>\n",
       "      <td>1</td>\n",
       "      <td>1</td>\n",
       "      <td>79084.10</td>\n",
       "      <td>0</td>\n",
       "    </tr>\n",
       "  </tbody>\n",
       "</table>\n",
       "</div>"
      ],
      "text/plain": [
       "   RowNumber  CustomerId   Surname  CreditScore Geography  Gender  Age  \\\n",
       "0          1    15634602  Hargrave          619    France  Female   42   \n",
       "1          2    15647311      Hill          608     Spain  Female   41   \n",
       "2          3    15619304      Onio          502    France  Female   42   \n",
       "3          4    15701354      Boni          699    France  Female   39   \n",
       "4          5    15737888  Mitchell          850     Spain  Female   43   \n",
       "\n",
       "   Tenure    Balance  NumOfProducts  HasCrCard  IsActiveMember  \\\n",
       "0       2       0.00              1          1               1   \n",
       "1       1   83807.86              1          0               1   \n",
       "2       8  159660.80              3          1               0   \n",
       "3       1       0.00              2          0               0   \n",
       "4       2  125510.82              1          1               1   \n",
       "\n",
       "   EstimatedSalary  Exited  \n",
       "0        101348.88       1  \n",
       "1        112542.58       0  \n",
       "2        113931.57       1  \n",
       "3         93826.63       0  \n",
       "4         79084.10       0  "
      ]
     },
     "execution_count": 3,
     "metadata": {},
     "output_type": "execute_result"
    }
   ],
   "source": [
    "df.head()"
   ]
  },
  {
   "cell_type": "markdown",
   "metadata": {},
   "source": [
    "## Iniciando o estudo\n",
    "\n",
    "Vamos começar a estudar os nosso dados e retirar insights sobre o churn da empresa.\n",
    "\n",
    "O esquema do estudo adiante será da seguinte forma:\n",
    "1. Primeiro vamos ter o código escrito;\n",
    "2. Segundo descrever o que foi extraído dos dados;"
   ]
  },
  {
   "cell_type": "code",
   "execution_count": 4,
   "metadata": {},
   "outputs": [
    {
     "data": {
      "text/html": [
       "<div>\n",
       "<style scoped>\n",
       "    .dataframe tbody tr th:only-of-type {\n",
       "        vertical-align: middle;\n",
       "    }\n",
       "\n",
       "    .dataframe tbody tr th {\n",
       "        vertical-align: top;\n",
       "    }\n",
       "\n",
       "    .dataframe thead th {\n",
       "        text-align: right;\n",
       "    }\n",
       "</style>\n",
       "<table border=\"1\" class=\"dataframe\">\n",
       "  <thead>\n",
       "    <tr style=\"text-align: right;\">\n",
       "      <th></th>\n",
       "      <th>RowNumber</th>\n",
       "      <th>CustomerId</th>\n",
       "      <th>CreditScore</th>\n",
       "      <th>Age</th>\n",
       "      <th>Tenure</th>\n",
       "      <th>Balance</th>\n",
       "      <th>NumOfProducts</th>\n",
       "      <th>HasCrCard</th>\n",
       "      <th>IsActiveMember</th>\n",
       "      <th>EstimatedSalary</th>\n",
       "      <th>Exited</th>\n",
       "    </tr>\n",
       "  </thead>\n",
       "  <tbody>\n",
       "    <tr>\n",
       "      <th>count</th>\n",
       "      <td>10000.00000</td>\n",
       "      <td>1.000000e+04</td>\n",
       "      <td>10000.000000</td>\n",
       "      <td>10000.000000</td>\n",
       "      <td>10000.000000</td>\n",
       "      <td>10000.000000</td>\n",
       "      <td>10000.000000</td>\n",
       "      <td>10000.00000</td>\n",
       "      <td>10000.000000</td>\n",
       "      <td>10000.000000</td>\n",
       "      <td>10000.000000</td>\n",
       "    </tr>\n",
       "    <tr>\n",
       "      <th>mean</th>\n",
       "      <td>5000.50000</td>\n",
       "      <td>1.569094e+07</td>\n",
       "      <td>650.528800</td>\n",
       "      <td>38.921800</td>\n",
       "      <td>5.012800</td>\n",
       "      <td>76485.889288</td>\n",
       "      <td>1.530200</td>\n",
       "      <td>0.70550</td>\n",
       "      <td>0.515100</td>\n",
       "      <td>100090.239881</td>\n",
       "      <td>0.203700</td>\n",
       "    </tr>\n",
       "    <tr>\n",
       "      <th>std</th>\n",
       "      <td>2886.89568</td>\n",
       "      <td>7.193619e+04</td>\n",
       "      <td>96.653299</td>\n",
       "      <td>10.487806</td>\n",
       "      <td>2.892174</td>\n",
       "      <td>62397.405202</td>\n",
       "      <td>0.581654</td>\n",
       "      <td>0.45584</td>\n",
       "      <td>0.499797</td>\n",
       "      <td>57510.492818</td>\n",
       "      <td>0.402769</td>\n",
       "    </tr>\n",
       "    <tr>\n",
       "      <th>min</th>\n",
       "      <td>1.00000</td>\n",
       "      <td>1.556570e+07</td>\n",
       "      <td>350.000000</td>\n",
       "      <td>18.000000</td>\n",
       "      <td>0.000000</td>\n",
       "      <td>0.000000</td>\n",
       "      <td>1.000000</td>\n",
       "      <td>0.00000</td>\n",
       "      <td>0.000000</td>\n",
       "      <td>11.580000</td>\n",
       "      <td>0.000000</td>\n",
       "    </tr>\n",
       "    <tr>\n",
       "      <th>25%</th>\n",
       "      <td>2500.75000</td>\n",
       "      <td>1.562853e+07</td>\n",
       "      <td>584.000000</td>\n",
       "      <td>32.000000</td>\n",
       "      <td>3.000000</td>\n",
       "      <td>0.000000</td>\n",
       "      <td>1.000000</td>\n",
       "      <td>0.00000</td>\n",
       "      <td>0.000000</td>\n",
       "      <td>51002.110000</td>\n",
       "      <td>0.000000</td>\n",
       "    </tr>\n",
       "    <tr>\n",
       "      <th>50%</th>\n",
       "      <td>5000.50000</td>\n",
       "      <td>1.569074e+07</td>\n",
       "      <td>652.000000</td>\n",
       "      <td>37.000000</td>\n",
       "      <td>5.000000</td>\n",
       "      <td>97198.540000</td>\n",
       "      <td>1.000000</td>\n",
       "      <td>1.00000</td>\n",
       "      <td>1.000000</td>\n",
       "      <td>100193.915000</td>\n",
       "      <td>0.000000</td>\n",
       "    </tr>\n",
       "    <tr>\n",
       "      <th>75%</th>\n",
       "      <td>7500.25000</td>\n",
       "      <td>1.575323e+07</td>\n",
       "      <td>718.000000</td>\n",
       "      <td>44.000000</td>\n",
       "      <td>7.000000</td>\n",
       "      <td>127644.240000</td>\n",
       "      <td>2.000000</td>\n",
       "      <td>1.00000</td>\n",
       "      <td>1.000000</td>\n",
       "      <td>149388.247500</td>\n",
       "      <td>0.000000</td>\n",
       "    </tr>\n",
       "    <tr>\n",
       "      <th>max</th>\n",
       "      <td>10000.00000</td>\n",
       "      <td>1.581569e+07</td>\n",
       "      <td>850.000000</td>\n",
       "      <td>92.000000</td>\n",
       "      <td>10.000000</td>\n",
       "      <td>250898.090000</td>\n",
       "      <td>4.000000</td>\n",
       "      <td>1.00000</td>\n",
       "      <td>1.000000</td>\n",
       "      <td>199992.480000</td>\n",
       "      <td>1.000000</td>\n",
       "    </tr>\n",
       "  </tbody>\n",
       "</table>\n",
       "</div>"
      ],
      "text/plain": [
       "         RowNumber    CustomerId   CreditScore           Age        Tenure  \\\n",
       "count  10000.00000  1.000000e+04  10000.000000  10000.000000  10000.000000   \n",
       "mean    5000.50000  1.569094e+07    650.528800     38.921800      5.012800   \n",
       "std     2886.89568  7.193619e+04     96.653299     10.487806      2.892174   \n",
       "min        1.00000  1.556570e+07    350.000000     18.000000      0.000000   \n",
       "25%     2500.75000  1.562853e+07    584.000000     32.000000      3.000000   \n",
       "50%     5000.50000  1.569074e+07    652.000000     37.000000      5.000000   \n",
       "75%     7500.25000  1.575323e+07    718.000000     44.000000      7.000000   \n",
       "max    10000.00000  1.581569e+07    850.000000     92.000000     10.000000   \n",
       "\n",
       "             Balance  NumOfProducts    HasCrCard  IsActiveMember  \\\n",
       "count   10000.000000   10000.000000  10000.00000    10000.000000   \n",
       "mean    76485.889288       1.530200      0.70550        0.515100   \n",
       "std     62397.405202       0.581654      0.45584        0.499797   \n",
       "min         0.000000       1.000000      0.00000        0.000000   \n",
       "25%         0.000000       1.000000      0.00000        0.000000   \n",
       "50%     97198.540000       1.000000      1.00000        1.000000   \n",
       "75%    127644.240000       2.000000      1.00000        1.000000   \n",
       "max    250898.090000       4.000000      1.00000        1.000000   \n",
       "\n",
       "       EstimatedSalary        Exited  \n",
       "count     10000.000000  10000.000000  \n",
       "mean     100090.239881      0.203700  \n",
       "std       57510.492818      0.402769  \n",
       "min          11.580000      0.000000  \n",
       "25%       51002.110000      0.000000  \n",
       "50%      100193.915000      0.000000  \n",
       "75%      149388.247500      0.000000  \n",
       "max      199992.480000      1.000000  "
      ]
     },
     "execution_count": 4,
     "metadata": {},
     "output_type": "execute_result"
    }
   ],
   "source": [
    "df.describe()"
   ]
  },
  {
   "cell_type": "markdown",
   "metadata": {},
   "source": [
    "O comando acima mostra informações sobre os nossos dados, com isso temos que:\n",
    "* A média do score dos clientes é de 650;\n",
    "* A média de idade dos clientes é de aproximadamente 39 anos, sendo que existe um cliente com 92 anos de idade;\n",
    "* A média do saldo em conta dos clientes é de \\\\$76485,89; \n",
    "* A média do valor estimado do salário dos cliente é de \\\\$100090.24;\n",
    "* Temos 10000 registros no conjunto de dados;"
   ]
  },
  {
   "cell_type": "code",
   "execution_count": 5,
   "metadata": {},
   "outputs": [
    {
     "data": {
      "text/plain": [
       "0    7963\n",
       "1    2037\n",
       "Name: Exited, dtype: int64"
      ]
     },
     "execution_count": 5,
     "metadata": {},
     "output_type": "execute_result"
    }
   ],
   "source": [
    "df['Exited'].value_counts()"
   ]
  },
  {
   "cell_type": "markdown",
   "metadata": {},
   "source": [
    "O resultado acima nós mostra a quantidade de clientes que cancelaram a conta e também os que não cancelaram a conta. Portanto temos que, para esse conjunto de dados, 7963 clientes de 10000 ainda são clientes do banco e 2037 clientes foram os clientes que cancelaram a conta do banco."
   ]
  },
  {
   "cell_type": "code",
   "execution_count": 6,
   "metadata": {},
   "outputs": [
    {
     "data": {
      "image/png": "[encoded data removed]",
      "text/plain": [
       "<Figure size 576x216 with 1 Axes>"
      ]
     },
     "metadata": {
      "needs_background": "light"
     },
     "output_type": "display_data"
    }
   ],
   "source": [
    "fig, ax = plt.subplots(figsize = (8,3))\n",
    "\n",
    "df['Exited'].value_counts().plot(kind='bar', ax = ax)\n",
    "ax.set_title('Distribuição da variável alvo')\n",
    "ax.set_xlabel('Variável')\n",
    "ax.set_ylabel('Quantidade')\n",
    "plt.xticks(rotation=0)\n",
    "plt.tight_layout()"
   ]
  },
  {
   "cell_type": "markdown",
   "metadata": {},
   "source": [
    "Temos a mesma visão do que foi escrito acima, mas agora de forma gráfica em um gráfico de barras, evidenciando que existe mais dados referentes aos clientes que continuam sendo clientes do banco."
   ]
  },
  {
   "cell_type": "code",
   "execution_count": 7,
   "metadata": {},
   "outputs": [
    {
     "data": {
      "text/html": [
       "<div>\n",
       "<style scoped>\n",
       "    .dataframe tbody tr th:only-of-type {\n",
       "        vertical-align: middle;\n",
       "    }\n",
       "\n",
       "    .dataframe tbody tr th {\n",
       "        vertical-align: top;\n",
       "    }\n",
       "\n",
       "    .dataframe thead th {\n",
       "        text-align: right;\n",
       "    }\n",
       "</style>\n",
       "<table border=\"1\" class=\"dataframe\">\n",
       "  <thead>\n",
       "    <tr style=\"text-align: right;\">\n",
       "      <th>Gender</th>\n",
       "      <th>Female</th>\n",
       "      <th>Male</th>\n",
       "    </tr>\n",
       "  </thead>\n",
       "  <tbody>\n",
       "    <tr>\n",
       "      <th>Cliente</th>\n",
       "      <td>3404</td>\n",
       "      <td>4559</td>\n",
       "    </tr>\n",
       "    <tr>\n",
       "      <th>Deixou de ser cliente</th>\n",
       "      <td>1139</td>\n",
       "      <td>898</td>\n",
       "    </tr>\n",
       "  </tbody>\n",
       "</table>\n",
       "</div>"
      ],
      "text/plain": [
       "Gender                 Female  Male\n",
       "Cliente                  3404  4559\n",
       "Deixou de ser cliente    1139   898"
      ]
     },
     "execution_count": 7,
     "metadata": {},
     "output_type": "execute_result"
    }
   ],
   "source": [
    "gender_exited = pd.crosstab(index=df[\"Exited\"], \n",
    "             columns=df[\"Gender\"])\n",
    "\n",
    "gender_exited.index= [\"Cliente\",\"Deixou de ser cliente\"]\n",
    "gender_exited"
   ]
  },
  {
   "cell_type": "markdown",
   "metadata": {},
   "source": [
    "A tabela de frequência acima nos mostra a quantidade de clientes do banco por genêro e se o cliente deixou ou não de ser cliente. \n",
    "\n",
    "Analisando a tabela temos que a maioria dos clientes que deixaram de ser cliente são do sexo Feminino."
   ]
  },
  {
   "cell_type": "code",
   "execution_count": 8,
   "metadata": {},
   "outputs": [
    {
     "data": {
      "text/html": [
       "<div>\n",
       "<style scoped>\n",
       "    .dataframe tbody tr th:only-of-type {\n",
       "        vertical-align: middle;\n",
       "    }\n",
       "\n",
       "    .dataframe tbody tr th {\n",
       "        vertical-align: top;\n",
       "    }\n",
       "\n",
       "    .dataframe thead th {\n",
       "        text-align: right;\n",
       "    }\n",
       "</style>\n",
       "<table border=\"1\" class=\"dataframe\">\n",
       "  <thead>\n",
       "    <tr style=\"text-align: right;\">\n",
       "      <th>Geography</th>\n",
       "      <th>France</th>\n",
       "      <th>Germany</th>\n",
       "      <th>Spain</th>\n",
       "    </tr>\n",
       "  </thead>\n",
       "  <tbody>\n",
       "    <tr>\n",
       "      <th>Cliente</th>\n",
       "      <td>4204</td>\n",
       "      <td>1695</td>\n",
       "      <td>2064</td>\n",
       "    </tr>\n",
       "    <tr>\n",
       "      <th>Deixou de ser cliente</th>\n",
       "      <td>810</td>\n",
       "      <td>814</td>\n",
       "      <td>413</td>\n",
       "    </tr>\n",
       "  </tbody>\n",
       "</table>\n",
       "</div>"
      ],
      "text/plain": [
       "Geography              France  Germany  Spain\n",
       "Cliente                  4204     1695   2064\n",
       "Deixou de ser cliente     810      814    413"
      ]
     },
     "execution_count": 8,
     "metadata": {},
     "output_type": "execute_result"
    }
   ],
   "source": [
    "geo_exited = pd.crosstab(index=df[\"Exited\"], \n",
    "             columns=df[\"Geography\"])\n",
    "\n",
    "geo_exited.index= [\"Cliente\",\"Deixou de ser cliente\"]\n",
    "geo_exited"
   ]
  },
  {
   "cell_type": "markdown",
   "metadata": {},
   "source": [
    "A tabela de frequência acima nos mostra a quantidade de clientes do banco por país e se o cliente deixou ou não de ser cliente.\n",
    "\n",
    "A tabela nos mostra que há dois países com grande quantidade de clientes que deixaram o banco, sendo eles França e Alemanha."
   ]
  },
  {
   "cell_type": "code",
   "execution_count": 9,
   "metadata": {},
   "outputs": [
    {
     "data": {
      "text/html": [
       "<div>\n",
       "<style scoped>\n",
       "    .dataframe tbody tr th:only-of-type {\n",
       "        vertical-align: middle;\n",
       "    }\n",
       "\n",
       "    .dataframe tbody tr th {\n",
       "        vertical-align: top;\n",
       "    }\n",
       "\n",
       "    .dataframe thead th {\n",
       "        text-align: right;\n",
       "    }\n",
       "</style>\n",
       "<table border=\"1\" class=\"dataframe\">\n",
       "  <thead>\n",
       "    <tr style=\"text-align: right;\">\n",
       "      <th>HasCrCard</th>\n",
       "      <th>0</th>\n",
       "      <th>1</th>\n",
       "    </tr>\n",
       "  </thead>\n",
       "  <tbody>\n",
       "    <tr>\n",
       "      <th>Cliente</th>\n",
       "      <td>2332</td>\n",
       "      <td>5631</td>\n",
       "    </tr>\n",
       "    <tr>\n",
       "      <th>Deixou de ser cliente</th>\n",
       "      <td>613</td>\n",
       "      <td>1424</td>\n",
       "    </tr>\n",
       "  </tbody>\n",
       "</table>\n",
       "</div>"
      ],
      "text/plain": [
       "HasCrCard                 0     1\n",
       "Cliente                2332  5631\n",
       "Deixou de ser cliente   613  1424"
      ]
     },
     "execution_count": 9,
     "metadata": {},
     "output_type": "execute_result"
    }
   ],
   "source": [
    "card_exited = pd.crosstab(index=df[\"Exited\"], \n",
    "             columns=df[\"HasCrCard\"])\n",
    "\n",
    "card_exited.index= [\"Cliente\",\"Deixou de ser cliente\"]\n",
    "card_exited"
   ]
  },
  {
   "cell_type": "markdown",
   "metadata": {},
   "source": [
    "A tabela de frequência acima nos mostra a quantidade de clientes do banco que possui ou não cartão de crédito e se ele deixou ou não de ser cliente.\n",
    "\n",
    "A tabela nos mostra que os cliente que possuem cartão de crédito são a maioria que deixaram de ser clientes do banco."
   ]
  },
  {
   "cell_type": "code",
   "execution_count": 10,
   "metadata": {},
   "outputs": [
    {
     "data": {
      "text/html": [
       "<div>\n",
       "<style scoped>\n",
       "    .dataframe tbody tr th:only-of-type {\n",
       "        vertical-align: middle;\n",
       "    }\n",
       "\n",
       "    .dataframe tbody tr th {\n",
       "        vertical-align: top;\n",
       "    }\n",
       "\n",
       "    .dataframe thead th {\n",
       "        text-align: right;\n",
       "    }\n",
       "</style>\n",
       "<table border=\"1\" class=\"dataframe\">\n",
       "  <thead>\n",
       "    <tr style=\"text-align: right;\">\n",
       "      <th>NumOfProducts</th>\n",
       "      <th>1</th>\n",
       "      <th>2</th>\n",
       "      <th>3</th>\n",
       "      <th>4</th>\n",
       "    </tr>\n",
       "  </thead>\n",
       "  <tbody>\n",
       "    <tr>\n",
       "      <th>Cliente</th>\n",
       "      <td>3675</td>\n",
       "      <td>4242</td>\n",
       "      <td>46</td>\n",
       "      <td>0</td>\n",
       "    </tr>\n",
       "    <tr>\n",
       "      <th>Deixou de ser cliente</th>\n",
       "      <td>1409</td>\n",
       "      <td>348</td>\n",
       "      <td>220</td>\n",
       "      <td>60</td>\n",
       "    </tr>\n",
       "  </tbody>\n",
       "</table>\n",
       "</div>"
      ],
      "text/plain": [
       "NumOfProducts             1     2    3   4\n",
       "Cliente                3675  4242   46   0\n",
       "Deixou de ser cliente  1409   348  220  60"
      ]
     },
     "execution_count": 10,
     "metadata": {},
     "output_type": "execute_result"
    }
   ],
   "source": [
    "prods_exited = pd.crosstab(index=df[\"Exited\"], \n",
    "             columns=df[\"NumOfProducts\"])\n",
    "\n",
    "prods_exited.index= [\"Cliente\",\"Deixou de ser cliente\"]\n",
    "prods_exited"
   ]
  },
  {
   "cell_type": "markdown",
   "metadata": {},
   "source": [
    "A tabela de frequência acima nos mostra a quantidade de clientes do banco e a quantidade de produtos possíveis do banco e se ele deixou ou não de ser cliente.\n",
    "\n",
    "A tabela indica que a os clientes que deixaram o banco são os clientes que tinham somente um produto do banco."
   ]
  },
  {
   "cell_type": "code",
   "execution_count": 11,
   "metadata": {},
   "outputs": [
    {
     "data": {
      "text/html": [
       "<div>\n",
       "<style scoped>\n",
       "    .dataframe tbody tr th:only-of-type {\n",
       "        vertical-align: middle;\n",
       "    }\n",
       "\n",
       "    .dataframe tbody tr th {\n",
       "        vertical-align: top;\n",
       "    }\n",
       "\n",
       "    .dataframe thead th {\n",
       "        text-align: right;\n",
       "    }\n",
       "</style>\n",
       "<table border=\"1\" class=\"dataframe\">\n",
       "  <thead>\n",
       "    <tr style=\"text-align: right;\">\n",
       "      <th>Tenure</th>\n",
       "      <th>0</th>\n",
       "      <th>1</th>\n",
       "      <th>2</th>\n",
       "      <th>3</th>\n",
       "      <th>4</th>\n",
       "      <th>5</th>\n",
       "      <th>6</th>\n",
       "      <th>7</th>\n",
       "      <th>8</th>\n",
       "      <th>9</th>\n",
       "      <th>10</th>\n",
       "    </tr>\n",
       "  </thead>\n",
       "  <tbody>\n",
       "    <tr>\n",
       "      <th>Cliente</th>\n",
       "      <td>318</td>\n",
       "      <td>803</td>\n",
       "      <td>847</td>\n",
       "      <td>796</td>\n",
       "      <td>786</td>\n",
       "      <td>803</td>\n",
       "      <td>771</td>\n",
       "      <td>851</td>\n",
       "      <td>828</td>\n",
       "      <td>771</td>\n",
       "      <td>389</td>\n",
       "    </tr>\n",
       "    <tr>\n",
       "      <th>Deixou de ser cliente</th>\n",
       "      <td>95</td>\n",
       "      <td>232</td>\n",
       "      <td>201</td>\n",
       "      <td>213</td>\n",
       "      <td>203</td>\n",
       "      <td>209</td>\n",
       "      <td>196</td>\n",
       "      <td>177</td>\n",
       "      <td>197</td>\n",
       "      <td>213</td>\n",
       "      <td>101</td>\n",
       "    </tr>\n",
       "  </tbody>\n",
       "</table>\n",
       "</div>"
      ],
      "text/plain": [
       "Tenure                  0    1    2    3    4    5    6    7    8    9    10\n",
       "Cliente                318  803  847  796  786  803  771  851  828  771  389\n",
       "Deixou de ser cliente   95  232  201  213  203  209  196  177  197  213  101"
      ]
     },
     "execution_count": 11,
     "metadata": {},
     "output_type": "execute_result"
    }
   ],
   "source": [
    "ten_exited = pd.crosstab(index=df[\"Exited\"], \n",
    "             columns=df[\"Tenure\"])\n",
    "\n",
    "ten_exited.index= [\"Cliente\",\"Deixou de ser cliente\"]\n",
    "ten_exited"
   ]
  },
  {
   "cell_type": "markdown",
   "metadata": {},
   "source": [
    "A tabela de frequência nos mostra a quantidade de cliente e a quantidade de anos que ele é cliente do banco e se ele deixou ou não de ser cliente.\n",
    "\n",
    "A tabela nos mostra uma concentração maior de clientes que deixaram de ser clientes entre 1 e 5 anos fazendo parte do banco, mas também temos uma quantidade de clientes com 9 anos de casa deixando de cliente."
   ]
  },
  {
   "cell_type": "code",
   "execution_count": 12,
   "metadata": {},
   "outputs": [
    {
     "data": {
      "text/html": [
       "<div>\n",
       "<style scoped>\n",
       "    .dataframe tbody tr th:only-of-type {\n",
       "        vertical-align: middle;\n",
       "    }\n",
       "\n",
       "    .dataframe tbody tr th {\n",
       "        vertical-align: top;\n",
       "    }\n",
       "\n",
       "    .dataframe thead th {\n",
       "        text-align: right;\n",
       "    }\n",
       "</style>\n",
       "<table border=\"1\" class=\"dataframe\">\n",
       "  <thead>\n",
       "    <tr style=\"text-align: right;\">\n",
       "      <th>IsActiveMember</th>\n",
       "      <th>0</th>\n",
       "      <th>1</th>\n",
       "    </tr>\n",
       "  </thead>\n",
       "  <tbody>\n",
       "    <tr>\n",
       "      <th>Cliente</th>\n",
       "      <td>3547</td>\n",
       "      <td>4416</td>\n",
       "    </tr>\n",
       "    <tr>\n",
       "      <th>Deixou de ser cliente</th>\n",
       "      <td>1302</td>\n",
       "      <td>735</td>\n",
       "    </tr>\n",
       "  </tbody>\n",
       "</table>\n",
       "</div>"
      ],
      "text/plain": [
       "IsActiveMember            0     1\n",
       "Cliente                3547  4416\n",
       "Deixou de ser cliente  1302   735"
      ]
     },
     "execution_count": 12,
     "metadata": {},
     "output_type": "execute_result"
    }
   ],
   "source": [
    "active_exited = pd.crosstab(index=df[\"Exited\"], \n",
    "             columns=df[\"IsActiveMember\"])\n",
    "\n",
    "active_exited.index= [\"Cliente\",\"Deixou de ser cliente\"]\n",
    "active_exited"
   ]
  },
  {
   "cell_type": "markdown",
   "metadata": {},
   "source": [
    "A tabela de frequência acima nos mostra a quantidade de clientes do banco que tem ou não empresa ativa no banco e se ele deixou ou não de ser cliente.\n",
    "\n",
    "A tabela nos mostra que os cliente que não possuem empresa são a maioria que deixaram de ser clientes do banco."
   ]
  },
  {
   "cell_type": "code",
   "execution_count": 13,
   "metadata": {},
   "outputs": [
    {
     "data": {
      "image/png": "[encoded data removed]",
      "text/plain": [
       "<Figure size 864x288 with 2 Axes>"
      ]
     },
     "metadata": {
      "needs_background": "light"
     },
     "output_type": "display_data"
    }
   ],
   "source": [
    "df[['Balance', 'EstimatedSalary']].hist(bins = 100, figsize= (12,4))\n",
    "plt.tight_layout()"
   ]
  },
  {
   "cell_type": "markdown",
   "metadata": {},
   "source": [
    "Nos histogramas acima percebemos que existe uma grande quantidade de clientes que estão com saldo em conta igual a 0, será importante dar uma olhada mais afundo sobre esses clientes.\n",
    "\n",
    "Vou considerar aqui que a estimativa de salário dos clientes sejam anual. O histograma nos mostra que temos dados multimodais, pois há presença de mais de um pico. Poderemos criar grupos para agrupar os clientes com os salários para uma melhor visualização."
   ]
  },
  {
   "cell_type": "code",
   "execution_count": 14,
   "metadata": {},
   "outputs": [
    {
     "data": {
      "text/plain": [
       "0    3117\n",
       "1     500\n",
       "Name: Exited, dtype: int64"
      ]
     },
     "execution_count": 14,
     "metadata": {},
     "output_type": "execute_result"
    }
   ],
   "source": [
    "df_balance = df.loc[df['Balance']==0]\n",
    "df_balance['Exited'].value_counts()"
   ]
  },
  {
   "cell_type": "markdown",
   "metadata": {},
   "source": [
    "Como dito anteriormente, se fez necessário olhar mais de perto os clientes que tem 0 no saldo da conta, com isso fiz a tabela acima para ver a quantidade de clientes com saldo 0 para a variável alvo. Vemos que a grande maioria dos clientes que tem saldo igual a zero ainda são clientes do banco e somente 500 clientes deixaram o banco."
   ]
  },
  {
   "cell_type": "code",
   "execution_count": 15,
   "metadata": {},
   "outputs": [],
   "source": [
    "df['group_salary'] = df.EstimatedSalary.apply(lambda x: 'group1' if x <= 50000 \n",
    "                                              else ('group2' if x >= 50001 and x <= 100000\n",
    "                                                   else ('group3' if x>= 100001 and x<= 150000 else 'group4')))"
   ]
  },
  {
   "cell_type": "code",
   "execution_count": 16,
   "metadata": {},
   "outputs": [
    {
     "data": {
      "text/html": [
       "<div>\n",
       "<style scoped>\n",
       "    .dataframe tbody tr th:only-of-type {\n",
       "        vertical-align: middle;\n",
       "    }\n",
       "\n",
       "    .dataframe tbody tr th {\n",
       "        vertical-align: top;\n",
       "    }\n",
       "\n",
       "    .dataframe thead th {\n",
       "        text-align: right;\n",
       "    }\n",
       "</style>\n",
       "<table border=\"1\" class=\"dataframe\">\n",
       "  <thead>\n",
       "    <tr style=\"text-align: right;\">\n",
       "      <th>group_salary</th>\n",
       "      <th>group1</th>\n",
       "      <th>group2</th>\n",
       "      <th>group3</th>\n",
       "      <th>group4</th>\n",
       "    </tr>\n",
       "  </thead>\n",
       "  <tbody>\n",
       "    <tr>\n",
       "      <th>Cliente</th>\n",
       "      <td>1964</td>\n",
       "      <td>2033</td>\n",
       "      <td>2038</td>\n",
       "      <td>1928</td>\n",
       "    </tr>\n",
       "    <tr>\n",
       "      <th>Deixou de ser cliente</th>\n",
       "      <td>489</td>\n",
       "      <td>504</td>\n",
       "      <td>517</td>\n",
       "      <td>527</td>\n",
       "    </tr>\n",
       "  </tbody>\n",
       "</table>\n",
       "</div>"
      ],
      "text/plain": [
       "group_salary           group1  group2  group3  group4\n",
       "Cliente                  1964    2033    2038    1928\n",
       "Deixou de ser cliente     489     504     517     527"
      ]
     },
     "execution_count": 16,
     "metadata": {},
     "output_type": "execute_result"
    }
   ],
   "source": [
    "salary_exited = pd.crosstab(index=df[\"Exited\"], \n",
    "             columns=df[\"group_salary\"])\n",
    "\n",
    "salary_exited.index= [\"Cliente\",\"Deixou de ser cliente\"]\n",
    "salary_exited"
   ]
  },
  {
   "cell_type": "markdown",
   "metadata": {},
   "source": [
    "Para uma melhor análise dos salários foi definido quatro grupos, sendo eles:\n",
    "- O grupo um serão os cliente que tenham estimativa de salários de até \\\\$50.000,00 anual.\n",
    "- O grupo dois serão os cliente que tenham estimativa de salários de entre \\\\$50.000,00 e \\\\$100.000,00 anual.\n",
    "- O grupo três serão os cliente que tenham estimativa de salários de entre \\\\$100.000,00 e \\\\$150.000,00 anual.\n",
    "- O grupo quatro serão os cliente que tenham estimativa de salários de maior que \\\\$150.000,00 anual.\n",
    "\n",
    "A partir disso temos o seguinte, a maioria dos clientes do que estão no grupo três e os clientes que deixaram de ser clientes estão no grupo quatro. O banco tem menos clientes ativos nesse grupo também, em comparação com os outros grupos."
   ]
  },
  {
   "cell_type": "code",
   "execution_count": 17,
   "metadata": {},
   "outputs": [
    {
     "data": {
      "image/png": "[encoded data removed]",
      "text/plain": [
       "<Figure size 1152x432 with 2 Axes>"
      ]
     },
     "metadata": {
      "needs_background": "light"
     },
     "output_type": "display_data"
    }
   ],
   "source": [
    "fig, ax = plt.subplots(figsize = (16,6))\n",
    "\n",
    "sns.heatmap(df.corr(), cmap='RdBu', fmt='.2f',  linecolor='white', annot=True)\n",
    "plt.tight_layout()"
   ]
  },
  {
   "cell_type": "markdown",
   "metadata": {},
   "source": [
    "O gráfico acima mostra as correlações entre as variáveis. A maioria das correlações são bem fracas entre as variáveis.\n",
    "Podemos ver uma correlação entre as variáveis o saldo da conta corrente e o número de produtos. Interessante ver que existe uma correlação, mesmo que sendo fraca, entre a idade e a variável alvo."
   ]
  },
  {
   "cell_type": "code",
   "execution_count": 18,
   "metadata": {},
   "outputs": [
    {
     "data": {
      "text/html": [
       "<div>\n",
       "<style scoped>\n",
       "    .dataframe tbody tr th:only-of-type {\n",
       "        vertical-align: middle;\n",
       "    }\n",
       "\n",
       "    .dataframe tbody tr th {\n",
       "        vertical-align: top;\n",
       "    }\n",
       "\n",
       "    .dataframe thead th {\n",
       "        text-align: right;\n",
       "    }\n",
       "</style>\n",
       "<table border=\"1\" class=\"dataframe\">\n",
       "  <thead>\n",
       "    <tr style=\"text-align: right;\">\n",
       "      <th></th>\n",
       "      <th>Age</th>\n",
       "      <th>Balance</th>\n",
       "      <th>EstimatedSalary</th>\n",
       "      <th>CreditScore</th>\n",
       "    </tr>\n",
       "  </thead>\n",
       "  <tbody>\n",
       "    <tr>\n",
       "      <th>Cliente</th>\n",
       "      <td>37.408389</td>\n",
       "      <td>72745.296779</td>\n",
       "      <td>99738.391772</td>\n",
       "      <td>651.853196</td>\n",
       "    </tr>\n",
       "    <tr>\n",
       "      <th>Deixou de ser cliente</th>\n",
       "      <td>44.837997</td>\n",
       "      <td>91108.539337</td>\n",
       "      <td>101465.677531</td>\n",
       "      <td>645.351497</td>\n",
       "    </tr>\n",
       "  </tbody>\n",
       "</table>\n",
       "</div>"
      ],
      "text/plain": [
       "                             Age       Balance  EstimatedSalary  CreditScore\n",
       "Cliente                37.408389  72745.296779     99738.391772   651.853196\n",
       "Deixou de ser cliente  44.837997  91108.539337    101465.677531   645.351497"
      ]
     },
     "execution_count": 18,
     "metadata": {},
     "output_type": "execute_result"
    }
   ],
   "source": [
    "num_scores_exited = df.groupby('Exited')[['Age', 'Balance', 'EstimatedSalary', 'CreditScore']].agg('mean')\n",
    "num_scores_exited.index= [\"Cliente\",\"Deixou de ser cliente\"]\n",
    "num_scores_exited"
   ]
  },
  {
   "cell_type": "markdown",
   "metadata": {},
   "source": [
    "A tabela é exibido a média entre algumas variáveis para cada uma variável alvo. Portanto, podemos perceber que os clientes que tenham, em média, idade acima de 44 anos, saldo em conta acima de \\\\$90.000,00, salário anual acima de \\\\$100.000,00 e um score de crédito de 645 são clientes que tem probabilidade de deixarem de ser clientes do banco."
   ]
  },
  {
   "cell_type": "markdown",
   "metadata": {},
   "source": [
    "## Algoritmo de machine learning\n",
    "\n",
    "Vamos utilizar de algoritmos de machine learning para auxiliar na resolução do nosso problema. Sabemos que se trata de um problema de classificação, portanto vamos utilizar os algoritmos com essa finalidade."
   ]
  },
  {
   "cell_type": "code",
   "execution_count": 177,
   "metadata": {},
   "outputs": [],
   "source": [
    "df = pd.read_csv('data/datasets_729058_1265963_Churn_Modelling.csv')\n",
    "X = df.drop(['RowNumber', 'CustomerId', 'Exited'], axis = 1)\n",
    "\n",
    "vars_numerical = X.select_dtypes(include=['int64', 'float64']).columns\n",
    "vars_categorical = list(X.select_dtypes(include=['object', 'bool']).columns)\n",
    "\n",
    "y = df.Exited.values"
   ]
  },
  {
   "cell_type": "code",
   "execution_count": 178,
   "metadata": {},
   "outputs": [],
   "source": [
    "scaler = StandardScaler()\n",
    "X[vars_numerical] = scaler.fit_transform(X[vars_numerical])"
   ]
  },
  {
   "cell_type": "code",
   "execution_count": 179,
   "metadata": {},
   "outputs": [],
   "source": [
    "encoder = ce.OrdinalEncoder(cols = X[vars_categorical])\n",
    "X = encoder.fit_transform(X)\n",
    "\n",
    "X = sm.add_constant(X)"
   ]
  },
  {
   "cell_type": "code",
   "execution_count": 180,
   "metadata": {},
   "outputs": [],
   "source": [
    "X_train, X_valid, y_train, y_valid = train_test_split(X, y, test_size = 0.3, random_state = 42, shuffle = True)"
   ]
  },
  {
   "cell_type": "code",
   "execution_count": 181,
   "metadata": {},
   "outputs": [
    {
     "data": {
      "text/plain": [
       "((7000, 12), (7000,), (3000, 12), (3000,))"
      ]
     },
     "execution_count": 181,
     "metadata": {},
     "output_type": "execute_result"
    }
   ],
   "source": [
    "X_train.shape, y_train.shape, X_valid.shape, y_valid.shape"
   ]
  },
  {
   "cell_type": "code",
   "execution_count": 182,
   "metadata": {},
   "outputs": [
    {
     "name": "stdout",
     "output_type": "stream",
     "text": [
      "Optimization terminated successfully.\n",
      "         Current function value: 0.434698\n",
      "         Iterations 6\n",
      "                           Logit Regression Results                           \n",
      "==============================================================================\n",
      "Dep. Variable:                      y   No. Observations:                 7000\n",
      "Model:                          Logit   Df Residuals:                     6988\n",
      "Method:                           MLE   Df Model:                           11\n",
      "Date:                Thu, 02 Jul 2020   Pseudo R-squ.:                  0.1489\n",
      "Time:                        22:12:05   Log-Likelihood:                -3042.9\n",
      "converged:                       True   LL-Null:                       -3575.0\n",
      "Covariance Type:            nonrobust   LLR p-value:                2.737e-221\n",
      "===================================================================================\n",
      "                      coef    std err          z      P>|z|      [0.025      0.975]\n",
      "-----------------------------------------------------------------------------------\n",
      "const              -1.3860      0.132    -10.528      0.000      -1.644      -1.128\n",
      "Surname         -4.189e-05   4.32e-05     -0.970      0.332      -0.000    4.27e-05\n",
      "CreditScore        -0.0751      0.032     -2.328      0.020      -0.138      -0.012\n",
      "Geography           0.3653      0.040      9.134      0.000       0.287       0.444\n",
      "Gender             -0.5382      0.065     -8.343      0.000      -0.665      -0.412\n",
      "Age                 0.7477      0.032     23.445      0.000       0.685       0.810\n",
      "Tenure             -0.0617      0.032     -1.919      0.055      -0.125       0.001\n",
      "Balance             0.2023      0.037      5.518      0.000       0.130       0.274\n",
      "NumOfProducts      -0.0384      0.033     -1.181      0.238      -0.102       0.025\n",
      "HasCrCard          -0.0276      0.032     -0.865      0.387      -0.090       0.035\n",
      "IsActiveMember     -0.5263      0.034    -15.477      0.000      -0.593      -0.460\n",
      "EstimatedSalary     0.0035      0.032      0.107      0.915      -0.060       0.067\n",
      "===================================================================================\n"
     ]
    }
   ],
   "source": [
    "model_logic = sm.Logit(y_train, X_train)\n",
    "results = model_logic.fit()\n",
    "print(results.summary())"
   ]
  },
  {
   "cell_type": "code",
   "execution_count": 188,
   "metadata": {},
   "outputs": [
    {
     "name": "stdout",
     "output_type": "stream",
     "text": [
      "accuracy = 81.66666666666667%\n"
     ]
    }
   ],
   "source": [
    "def logPredict(modelParams, X):  \n",
    "    probabilities = modelParams.predict(X)\n",
    "    return [1 if x >= 0.5 else 0 for x in probabilities]\n",
    "\n",
    "predictions = logPredict(results, X_valid)\n",
    "\n",
    "accuracy = np.mean(predictions == y_valid)\n",
    "print ('accuracy = {0}%'.format(accuracy*100)  )"
   ]
  }
 ],
 "metadata": {
  "kernelspec": {
   "display_name": "Python [conda env:churn] *",
   "language": "python",
   "name": "conda-env-churn-py"
  },
  "language_info": {
   "codemirror_mode": {
    "name": "ipython",
    "version": 3
   },
   "file_extension": ".py",
   "mimetype": "text/x-python",
   "name": "python",
   "nbconvert_exporter": "python",
   "pygments_lexer": "ipython3",
   "version": "3.8.3"
  }
 },
 "nbformat": 4,
 "nbformat_minor": 4
}
