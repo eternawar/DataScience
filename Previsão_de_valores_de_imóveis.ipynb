{
  "nbformat": 4,
  "nbformat_minor": 0,
  "metadata": {
    "colab": {
      "name": "Previsão de valores de imóveis.ipynb",
      "provenance": [],
      "collapsed_sections": [],
      "authorship_tag": "ABX9TyPRscdBWRfKKD9rzVO0Z2Pp",
      "include_colab_link": true
    },
    "kernelspec": {
      "name": "python3",
      "display_name": "Python 3"
    }
  },
  "cells": [
    {
      "cell_type": "markdown",
      "metadata": {
        "id": "view-in-github",
        "colab_type": "text"
      },
      "source": [
        "<a href=\"https://colab.research.google.com/github/mathdeoliveira/Portfolio_DataScience/blob/master/Previs%C3%A3o_de_valores_de_im%C3%B3veis.ipynb\" target=\"_parent\"><img src=\"https://colab.research.google.com/assets/colab-badge.svg\" alt=\"Open In Colab\"/></a>"
      ]
    },
    {
      "cell_type": "markdown",
      "metadata": {
        "id": "7bwCB_vFTMLG",
        "colab_type": "text"
      },
      "source": [
        "# Prever o preço de imóveis de São Paulo\n",
        "\n",
        "Neste projeto iremos usar Machine Learning para prever os preços de imóveis para a cidade de São Paulo, para isso vamos usar um conjunto de dados compartilhado no [Kaggle](www.kaggle.com).\n",
        "\n",
        "<p align=center>\n",
        "<img src=\"https://i.imgur.com/a04myX9.jpg\" width=\"40%\"></p>\n",
        "<p align=center>Design by: Chubarovalexandr</p>\n",
        "\n",
        "\n",
        "Aqui nesse notebook iremos fazer a importação dos dados e a explicação sobre eles, um análise exploratória dos dados e aplicação de algoritmos de Machine Learning.\n",
        "\n",
        "Após isso vamos criar um webapp e subir a aplicação para um ambiente de produção, onde vamos usar o Flask.\n",
        "\n"
      ]
    },
    {
      "cell_type": "markdown",
      "metadata": {
        "id": "m5xYmQe3UM_j",
        "colab_type": "text"
      },
      "source": [
        "## Dados dos Imóveis\n",
        "\n",
        "Os dados utilizado neste projeto foram obtidos [neste link](https://www.kaggle.com/argonalyst/sao-paulo-real-estate-sale-rent-april-2019).\n",
        "\n",
        "Esse conjunto de dados contém aproximadamente 13000 apartamentos para venda e aluguel para cidade de São Paulo, e só tem dados para a data de Abril de 2019."
      ]
    },
    {
      "cell_type": "markdown",
      "metadata": {
        "id": "LQBnuNBZVytX",
        "colab_type": "text"
      },
      "source": [
        "### Importação dos dados"
      ]
    },
    {
      "cell_type": "code",
      "metadata": {
        "id": "2DygzQg6em50",
        "colab_type": "code",
        "colab": {}
      },
      "source": [
        "import pandas as pd\n",
        "import seaborn as sns\n",
        "import matplotlib.pyplot as plt\n",
        "\n",
        "pd.set_option('mode.chained_assignment', None)"
      ],
      "execution_count": 0,
      "outputs": []
    },
    {
      "cell_type": "code",
      "metadata": {
        "id": "wGfgtZUbRgX_",
        "colab_type": "code",
        "colab": {}
      },
      "source": [
        "# importar dados\n",
        "df = pd.read_csv('https://raw.githubusercontent.com/mathdeoliveira/files/master/sao-paulo-properties-april-2019.csv')\n",
        "df.columns = df.columns.str.lower().str.replace(\" \",\"_\")"
      ],
      "execution_count": 0,
      "outputs": []
    },
    {
      "cell_type": "markdown",
      "metadata": {
        "id": "a47STCHrYTnx",
        "colab_type": "text"
      },
      "source": [
        "### Análise Exploratória dos Dados\n",
        "\n",
        "Esta etapa tem por objetivo criar uma consciência situacional inicial e permitir um entendimento de como os dados estão estruturados, primeiramente vamos criar um dicionário para cada variável do nosso conjunto de dados, retirado do Kaggle.\n",
        "\n",
        "Dicionário das variáveis\n",
        "\n",
        "* Price - Preço final anunciado em reais (R$)\n",
        "* Condo - Preço do condomínio\n",
        "* Size - Tamanho da propriedade em m²\n",
        "* Rooms - Número de quartos\n",
        "* Toilets - Número de banheiros\n",
        "* Suites - Número de quartos com banheiro privativo\n",
        "* Parking - Número de vagas de garagem\n",
        "* Elevator - Se tem ou não elevador\n",
        "* Furnished - Se a propriedade é mobiliada ou não\n",
        "* Swimming Pool - Se a propriedade tem ou não piscina\n",
        "* New - Se a propriedade é nova ou não\n",
        "* District - Nome do bairro e cidade onde a propriedade está localizada\n",
        "* Negotiation Type - Se a propriedade está para venda ou aluguel\n",
        "* Property Type - Tipo da propriedade\n",
        "* Latitude - Localização geográfica\n",
        "* Longitude - Localização geográfica\n",
        "\n"
      ]
    },
    {
      "cell_type": "code",
      "metadata": {
        "id": "wcnt7NudV6oY",
        "colab_type": "code",
        "outputId": "b7e29d86-1088-4bd6-ae60-3c23aaf1cb99",
        "colab": {
          "base_uri": "https://localhost:8080/",
          "height": 314
        }
      },
      "source": [
        "# vamos usar a função describe para visualizarmos dados estatísticos sobre os nosso dados\n",
        "df.describe()"
      ],
      "execution_count": 0,
      "outputs": [
        {
          "output_type": "execute_result",
          "data": {
            "text/html": [
              "<div>\n",
              "<style scoped>\n",
              "    .dataframe tbody tr th:only-of-type {\n",
              "        vertical-align: middle;\n",
              "    }\n",
              "\n",
              "    .dataframe tbody tr th {\n",
              "        vertical-align: top;\n",
              "    }\n",
              "\n",
              "    .dataframe thead th {\n",
              "        text-align: right;\n",
              "    }\n",
              "</style>\n",
              "<table border=\"1\" class=\"dataframe\">\n",
              "  <thead>\n",
              "    <tr style=\"text-align: right;\">\n",
              "      <th></th>\n",
              "      <th>price</th>\n",
              "      <th>condo</th>\n",
              "      <th>size</th>\n",
              "      <th>rooms</th>\n",
              "      <th>toilets</th>\n",
              "      <th>suites</th>\n",
              "      <th>parking</th>\n",
              "      <th>elevator</th>\n",
              "      <th>furnished</th>\n",
              "      <th>swimming_pool</th>\n",
              "      <th>new</th>\n",
              "      <th>latitude</th>\n",
              "      <th>longitude</th>\n",
              "    </tr>\n",
              "  </thead>\n",
              "  <tbody>\n",
              "    <tr>\n",
              "      <th>count</th>\n",
              "      <td>1.364000e+04</td>\n",
              "      <td>13640.000000</td>\n",
              "      <td>13640.000000</td>\n",
              "      <td>13640.000000</td>\n",
              "      <td>13640.000000</td>\n",
              "      <td>13640.000000</td>\n",
              "      <td>13640.000000</td>\n",
              "      <td>13640.000000</td>\n",
              "      <td>13640.000000</td>\n",
              "      <td>13640.00000</td>\n",
              "      <td>13640.000000</td>\n",
              "      <td>13640.000000</td>\n",
              "      <td>13640.000000</td>\n",
              "    </tr>\n",
              "    <tr>\n",
              "      <th>mean</th>\n",
              "      <td>2.877378e+05</td>\n",
              "      <td>689.882331</td>\n",
              "      <td>84.373900</td>\n",
              "      <td>2.312023</td>\n",
              "      <td>2.073680</td>\n",
              "      <td>0.980792</td>\n",
              "      <td>1.393182</td>\n",
              "      <td>0.354179</td>\n",
              "      <td>0.146774</td>\n",
              "      <td>0.51217</td>\n",
              "      <td>0.015616</td>\n",
              "      <td>-22.077047</td>\n",
              "      <td>-43.597088</td>\n",
              "    </tr>\n",
              "    <tr>\n",
              "      <th>std</th>\n",
              "      <td>5.908214e+05</td>\n",
              "      <td>757.649363</td>\n",
              "      <td>58.435676</td>\n",
              "      <td>0.777461</td>\n",
              "      <td>0.961803</td>\n",
              "      <td>0.834891</td>\n",
              "      <td>0.829932</td>\n",
              "      <td>0.478281</td>\n",
              "      <td>0.353894</td>\n",
              "      <td>0.49987</td>\n",
              "      <td>0.123988</td>\n",
              "      <td>5.866633</td>\n",
              "      <td>11.487288</td>\n",
              "    </tr>\n",
              "    <tr>\n",
              "      <th>min</th>\n",
              "      <td>4.800000e+02</td>\n",
              "      <td>0.000000</td>\n",
              "      <td>30.000000</td>\n",
              "      <td>1.000000</td>\n",
              "      <td>1.000000</td>\n",
              "      <td>0.000000</td>\n",
              "      <td>0.000000</td>\n",
              "      <td>0.000000</td>\n",
              "      <td>0.000000</td>\n",
              "      <td>0.00000</td>\n",
              "      <td>0.000000</td>\n",
              "      <td>-46.749039</td>\n",
              "      <td>-58.364352</td>\n",
              "    </tr>\n",
              "    <tr>\n",
              "      <th>25%</th>\n",
              "      <td>1.858750e+03</td>\n",
              "      <td>290.000000</td>\n",
              "      <td>50.000000</td>\n",
              "      <td>2.000000</td>\n",
              "      <td>2.000000</td>\n",
              "      <td>1.000000</td>\n",
              "      <td>1.000000</td>\n",
              "      <td>0.000000</td>\n",
              "      <td>0.000000</td>\n",
              "      <td>0.00000</td>\n",
              "      <td>0.000000</td>\n",
              "      <td>-23.594552</td>\n",
              "      <td>-46.681671</td>\n",
              "    </tr>\n",
              "    <tr>\n",
              "      <th>50%</th>\n",
              "      <td>8.100000e+03</td>\n",
              "      <td>500.000000</td>\n",
              "      <td>65.000000</td>\n",
              "      <td>2.000000</td>\n",
              "      <td>2.000000</td>\n",
              "      <td>1.000000</td>\n",
              "      <td>1.000000</td>\n",
              "      <td>0.000000</td>\n",
              "      <td>0.000000</td>\n",
              "      <td>1.00000</td>\n",
              "      <td>0.000000</td>\n",
              "      <td>-23.552813</td>\n",
              "      <td>-46.637255</td>\n",
              "    </tr>\n",
              "    <tr>\n",
              "      <th>75%</th>\n",
              "      <td>3.600000e+05</td>\n",
              "      <td>835.000000</td>\n",
              "      <td>94.000000</td>\n",
              "      <td>3.000000</td>\n",
              "      <td>2.000000</td>\n",
              "      <td>1.000000</td>\n",
              "      <td>2.000000</td>\n",
              "      <td>1.000000</td>\n",
              "      <td>0.000000</td>\n",
              "      <td>1.00000</td>\n",
              "      <td>0.000000</td>\n",
              "      <td>-23.517640</td>\n",
              "      <td>-46.560040</td>\n",
              "    </tr>\n",
              "    <tr>\n",
              "      <th>max</th>\n",
              "      <td>1.000000e+07</td>\n",
              "      <td>9500.000000</td>\n",
              "      <td>880.000000</td>\n",
              "      <td>10.000000</td>\n",
              "      <td>8.000000</td>\n",
              "      <td>6.000000</td>\n",
              "      <td>9.000000</td>\n",
              "      <td>1.000000</td>\n",
              "      <td>1.000000</td>\n",
              "      <td>1.00000</td>\n",
              "      <td>1.000000</td>\n",
              "      <td>0.000000</td>\n",
              "      <td>0.000000</td>\n",
              "    </tr>\n",
              "  </tbody>\n",
              "</table>\n",
              "</div>"
            ],
            "text/plain": [
              "              price         condo  ...      latitude     longitude\n",
              "count  1.364000e+04  13640.000000  ...  13640.000000  13640.000000\n",
              "mean   2.877378e+05    689.882331  ...    -22.077047    -43.597088\n",
              "std    5.908214e+05    757.649363  ...      5.866633     11.487288\n",
              "min    4.800000e+02      0.000000  ...    -46.749039    -58.364352\n",
              "25%    1.858750e+03    290.000000  ...    -23.594552    -46.681671\n",
              "50%    8.100000e+03    500.000000  ...    -23.552813    -46.637255\n",
              "75%    3.600000e+05    835.000000  ...    -23.517640    -46.560040\n",
              "max    1.000000e+07   9500.000000  ...      0.000000      0.000000\n",
              "\n",
              "[8 rows x 13 columns]"
            ]
          },
          "metadata": {
            "tags": []
          },
          "execution_count": 3
        }
      ]
    },
    {
      "cell_type": "markdown",
      "metadata": {
        "id": "BlksyPez5yqm",
        "colab_type": "text"
      },
      "source": [
        "Com as informações acima podemos retirar alguns insights sobre os dados, como por exemplo:\n",
        "\n",
        "1.   O maior tamanho de apartamentos anunciados é de 880m² e o menor é de 30m² e a média é de aproximademente 84,37m².\n",
        "2.   Existe um apartamento que tem 9 vagas de garagem disponível, um com 10 quartos e outro com 8 banheiros.\n",
        "\n"
      ]
    },
    {
      "cell_type": "markdown",
      "metadata": {
        "id": "RAiYFLOAbrXK",
        "colab_type": "text"
      },
      "source": [
        "#### Quantos atributos (variáveis) e quantas entradas o nosso conjunto de dados possui? Quais os tipos das variáveis?\n"
      ]
    },
    {
      "cell_type": "code",
      "metadata": {
        "id": "ILov8KRwatNY",
        "colab_type": "code",
        "outputId": "e7191eee-c57f-4531-aa96-d97ee093e324",
        "colab": {
          "base_uri": "https://localhost:8080/",
          "height": 364
        }
      },
      "source": [
        "# identificar o volume de dados do DataFrame\n",
        "print(\"Entradas:\\t {}\".format(df.shape[0]))\n",
        "print(\"Variáveis:\\t {}\\n\".format(df.shape[1]))\n",
        "\n",
        "# verificar as 5 primeiras entradas do dataset\n",
        "display(df.dtypes)"
      ],
      "execution_count": 0,
      "outputs": [
        {
          "output_type": "stream",
          "text": [
            "Entradas:\t 13640\n",
            "Variáveis:\t 16\n",
            "\n"
          ],
          "name": "stdout"
        },
        {
          "output_type": "display_data",
          "data": {
            "text/plain": [
              "price                 int64\n",
              "condo                 int64\n",
              "size                  int64\n",
              "rooms                 int64\n",
              "toilets               int64\n",
              "suites                int64\n",
              "parking               int64\n",
              "elevator              int64\n",
              "furnished             int64\n",
              "swimming_pool         int64\n",
              "new                   int64\n",
              "district             object\n",
              "negotiation_type     object\n",
              "property_type        object\n",
              "latitude            float64\n",
              "longitude           float64\n",
              "dtype: object"
            ]
          },
          "metadata": {
            "tags": []
          }
        }
      ]
    },
    {
      "cell_type": "markdown",
      "metadata": {
        "id": "4HCig0qSbtpL",
        "colab_type": "text"
      },
      "source": [
        "####Qual a porcentagem de valores ausentes no dataset?"
      ]
    },
    {
      "cell_type": "code",
      "metadata": {
        "id": "0cVw_aIrax11",
        "colab_type": "code",
        "outputId": "bd889511-cc95-42a6-eec0-851f05478433",
        "colab": {
          "base_uri": "https://localhost:8080/",
          "height": 312
        }
      },
      "source": [
        "# ordenar em ordem decrescente as variáveis por seus valores ausentes\n",
        "(df.isnull().sum() / df.shape[0]).sort_values(ascending = False)"
      ],
      "execution_count": 0,
      "outputs": [
        {
          "output_type": "execute_result",
          "data": {
            "text/plain": [
              "longitude           0.0\n",
              "latitude            0.0\n",
              "property_type       0.0\n",
              "negotiation_type    0.0\n",
              "district            0.0\n",
              "new                 0.0\n",
              "swimming_pool       0.0\n",
              "furnished           0.0\n",
              "elevator            0.0\n",
              "parking             0.0\n",
              "suites              0.0\n",
              "toilets             0.0\n",
              "rooms               0.0\n",
              "size                0.0\n",
              "condo               0.0\n",
              "price               0.0\n",
              "dtype: float64"
            ]
          },
          "metadata": {
            "tags": []
          },
          "execution_count": 5
        }
      ]
    },
    {
      "cell_type": "markdown",
      "metadata": {
        "id": "IWxylqwic3V9",
        "colab_type": "text"
      },
      "source": [
        "#### Análise sobre cada coluna do nosso dataset"
      ]
    },
    {
      "cell_type": "code",
      "metadata": {
        "id": "-zK1b_JCcFu7",
        "colab_type": "code",
        "outputId": "ca588c53-9e60-4acd-93ca-e286deca57b2",
        "colab": {
          "base_uri": "https://localhost:8080/",
          "height": 1000
        }
      },
      "source": [
        "def check_df_columns(df):\n",
        "    for col in df.columns:\n",
        "\n",
        "        print(f\" ----- {col} ----- \")\n",
        "        print(100 * (df[col].value_counts() / df.shape[0]))\n",
        "        \n",
        "check_df_columns(df)"
      ],
      "execution_count": 0,
      "outputs": [
        {
          "output_type": "stream",
          "text": [
            " ----- price ----- \n",
            "1500       2.690616\n",
            "1200       2.653959\n",
            "2500       2.192082\n",
            "2000       2.023460\n",
            "1300       2.023460\n",
            "             ...   \n",
            "309900     0.007331\n",
            "613000     0.007331\n",
            "2325000    0.007331\n",
            "495900     0.007331\n",
            "802800     0.007331\n",
            "Name: price, Length: 1881, dtype: float64\n",
            " ----- condo ----- \n",
            "0       14.494135\n",
            "400      2.221408\n",
            "500      2.199413\n",
            "350      1.972141\n",
            "600      1.957478\n",
            "          ...    \n",
            "4050     0.007331\n",
            "1995     0.007331\n",
            "1939     0.007331\n",
            "1923     0.007331\n",
            "7800     0.007331\n",
            "Name: condo, Length: 1415, dtype: float64\n",
            " ----- size ----- \n",
            "50     5.337243\n",
            "60     3.768328\n",
            "70     3.548387\n",
            "48     3.020528\n",
            "65     2.895894\n",
            "         ...   \n",
            "317    0.007331\n",
            "309    0.007331\n",
            "283    0.007331\n",
            "307    0.007331\n",
            "415    0.007331\n",
            "Name: size, Length: 339, dtype: float64\n",
            " ----- rooms ----- \n",
            "2     49.604106\n",
            "3     31.576246\n",
            "1     12.756598\n",
            "4      5.879765\n",
            "5      0.146628\n",
            "6      0.021994\n",
            "7      0.007331\n",
            "10     0.007331\n",
            "Name: rooms, dtype: float64\n",
            " ----- toilets ----- \n",
            "2    60.043988\n",
            "1    23.365103\n",
            "3     6.891496\n",
            "4     5.997067\n",
            "5     3.093842\n",
            "6     0.491202\n",
            "7     0.102639\n",
            "8     0.014663\n",
            "Name: toilets, dtype: float64\n",
            " ----- suites ----- \n",
            "1    63.555718\n",
            "0    24.083578\n",
            "3     6.063050\n",
            "2     4.450147\n",
            "4     1.810850\n",
            "5     0.029326\n",
            "6     0.007331\n",
            "Name: suites, dtype: float64\n",
            " ----- parking ----- \n",
            "1    65.241935\n",
            "2    21.803519\n",
            "3     5.549853\n",
            "0     4.178886\n",
            "4     2.543988\n",
            "5     0.527859\n",
            "6     0.102639\n",
            "7     0.029326\n",
            "8     0.014663\n",
            "9     0.007331\n",
            "Name: parking, dtype: float64\n",
            " ----- elevator ----- \n",
            "0    64.582111\n",
            "1    35.417889\n",
            "Name: elevator, dtype: float64\n",
            " ----- furnished ----- \n",
            "0    85.322581\n",
            "1    14.677419\n",
            "Name: furnished, dtype: float64\n",
            " ----- swimming_pool ----- \n",
            "1    51.217009\n",
            "0    48.782991\n",
            "Name: swimming_pool, dtype: float64\n",
            " ----- new ----- \n",
            "0    98.438416\n",
            "1     1.561584\n",
            "Name: new, dtype: float64\n",
            " ----- district ----- \n",
            "Moema/São Paulo              2.148094\n",
            "Mooca/São Paulo              2.111437\n",
            "Brás/São Paulo               1.869501\n",
            "Brooklin/São Paulo           1.832845\n",
            "Bela Vista/São Paulo         1.832845\n",
            "                               ...   \n",
            "Jardim São Luis/São Paulo    0.322581\n",
            "São Rafael/São Paulo         0.322581\n",
            "Grajaú/São Paulo             0.271261\n",
            "São Domingos/São Paulo       0.256598\n",
            "Perus/São Paulo              0.219941\n",
            "Name: district, Length: 96, dtype: float64\n",
            " ----- negotiation_type ----- \n",
            "rent    52.991202\n",
            "sale    47.008798\n",
            "Name: negotiation_type, dtype: float64\n",
            " ----- property_type ----- \n",
            "apartment    100.0\n",
            "Name: property_type, dtype: float64\n",
            " ----- latitude ----- \n",
            " 0.000000     6.458944\n",
            "-23.505391    0.417889\n",
            "-23.604294    0.315249\n",
            "-26.922512    0.234604\n",
            "-23.714221    0.183284\n",
            "                ...   \n",
            "-23.549950    0.007331\n",
            "-23.709521    0.007331\n",
            "-23.588046    0.007331\n",
            "-23.648277    0.007331\n",
            "-23.552082    0.007331\n",
            "Name: latitude, Length: 8405, dtype: float64\n",
            " ----- longitude ----- \n",
            " 0.000000     6.458944\n",
            "-46.622783    0.417889\n",
            "-46.518325    0.315249\n",
            "-49.060707    0.234604\n",
            "-46.533612    0.190616\n",
            "                ...   \n",
            "-46.640676    0.007331\n",
            "-46.397772    0.007331\n",
            "-46.538700    0.007331\n",
            "-46.621514    0.007331\n",
            "-46.562182    0.007331\n",
            "Name: longitude, Length: 8451, dtype: float64\n"
          ],
          "name": "stdout"
        }
      ]
    },
    {
      "cell_type": "markdown",
      "metadata": {
        "id": "9lAR668Ttw1o",
        "colab_type": "text"
      },
      "source": [
        "As informações acima mostra bastante insights, ela nós mostra a distribuição da quantidade dos valores para cada uma das variáveis, então por exemplo, 5% dos aptos anunciados são de 50m², 60% dos aptos têm dois banheiros, 63% dos aptos tem pelo menos 1 suíte, 51% dos aptos tem piscina e 98% dos aptos não são aptos novos."
      ]
    },
    {
      "cell_type": "markdown",
      "metadata": {
        "id": "Q360bh7c6225",
        "colab_type": "text"
      },
      "source": [
        "#### Vimos que existe apartamentos com números expressivos, vamos verificar sobre a quantidade de quartos"
      ]
    },
    {
      "cell_type": "code",
      "metadata": {
        "id": "g4G1el6062fM",
        "colab_type": "code",
        "outputId": "f0fbf6be-c1ca-4587-c10f-48ebc1fb3aa2",
        "colab": {
          "base_uri": "https://localhost:8080/",
          "height": 369
        }
      },
      "source": [
        "fig, ax = plt.subplots(figsize=(8,5))\n",
        "\n",
        "df['rooms'].value_counts().plot(kind='bar')\n",
        "plt.title('Números de quartos')\n",
        "plt.xlabel('Quantidade de quartos')\n",
        "plt.ylabel('Quantidade de apartamentos')\n",
        "\n",
        "plt.tight_layout()"
      ],
      "execution_count": 0,
      "outputs": [
        {
          "output_type": "display_data",
          "data": {
            "image/png": "[encoded data removed]",
            "text/plain": [
              "<Figure size 576x360 with 1 Axes>"
            ]
          },
          "metadata": {
            "tags": []
          }
        }
      ]
    },
    {
      "cell_type": "markdown",
      "metadata": {
        "id": "KoF18lR0-bSy",
        "colab_type": "text"
      },
      "source": [
        "Com o gráfico acima podemos evidenciar que a grande maioria dos aptos anunciados tem dois quartos. É interessante sabermos disso pois assim sabemos que a maioria dos aptos são construídos com dois quartos estão à venda, com essa informação podemos levar às construtoras dizendo que com esse número de quartos podem atrair mais compradores. Claro que, não podemos fixar essa informação como verdade única, temos outras variáveis que vão levar ou não a compra e não podemos deixar de lado."
      ]
    },
    {
      "cell_type": "markdown",
      "metadata": {
        "id": "QKwG7mEzitjo",
        "colab_type": "text"
      },
      "source": [
        "#### Localização dos imóveis pela cidade de São Paulo"
      ]
    },
    {
      "cell_type": "code",
      "metadata": {
        "id": "sivvGk1he3O1",
        "colab_type": "code",
        "outputId": "101946dd-7426-42fd-a48e-f51897c144fe",
        "colab": {
          "base_uri": "https://localhost:8080/",
          "height": 621
        }
      },
      "source": [
        "mask = (df.longitude < -46) & (df.longitude > -46.9) & (df.latitude < -23) & (df.latitude > -24)\n",
        "df = df[mask]\n",
        "sale = df.negotiation_type == \"sale\"\n",
        "df_sale = df[sale]\n",
        "plt.figure(figsize=(10, 10))\n",
        "sns.scatterplot(data=df_sale, x=\"longitude\", y=\"latitude\", hue=\"price\", size=\"price\").set_title('Imóveis para venda');"
      ],
      "execution_count": 0,
      "outputs": [
        {
          "output_type": "display_data",
          "data": {
            "image/png": "[encoded data removed]",
            "text/plain": [
              "<Figure size 720x720 with 1 Axes>"
            ]
          },
          "metadata": {
            "tags": []
          }
        }
      ]
    },
    {
      "cell_type": "markdown",
      "metadata": {
        "id": "3Ru9iR39ByWJ",
        "colab_type": "text"
      },
      "source": [
        "Sabemos que os imóveis anunciados são somente da cidade de São Paulo, com o gráfico acima, podemos descobrir a localização de cada um dos aptos anunciado, e vamos evidenciar no gráfico o preço de cada um deles, onde as cores mais escura dos pontos tem o maior preço e os pontos com cores mais claras tem o menor preço.\n",
        "\n",
        "Ainda fica pendente colocar por baixo desses pontos o mapa da cidade para a melhor visualização."
      ]
    },
    {
      "cell_type": "markdown",
      "metadata": {
        "id": "I4g3rkAJj0oo",
        "colab_type": "text"
      },
      "source": [
        "Média do preço de venda para cada bairro da cidade de São Paulo"
      ]
    },
    {
      "cell_type": "code",
      "metadata": {
        "id": "MsJ-qS7hiQhP",
        "colab_type": "code",
        "outputId": "bd8ccd15-cbb1-40fd-f3c8-ce28d641aa50",
        "colab": {
          "base_uri": "https://localhost:8080/",
          "height": 621
        }
      },
      "source": [
        "df_sale['district'] = df_sale['district'].apply(lambda x: x.split('/')[0])\n",
        "df_sale.groupby('district')['price'].mean().sort_values(ascending=False).plot(kind='bar', figsize=(20,8), title='Bairros por média de preço')\n",
        "plt.xlabel('Bairro')\n",
        "plt.ylabel('Preço')\n",
        "plt.show()"
      ],
      "execution_count": 0,
      "outputs": [
        {
          "output_type": "display_data",
          "data": {
            "image/png": "[encoded data removed]",
            "text/plain": [
              "<Figure size 1440x576 with 1 Axes>"
            ]
          },
          "metadata": {
            "tags": []
          }
        }
      ]
    },
    {
      "cell_type": "markdown",
      "metadata": {
        "id": "5VISQneLCeO_",
        "colab_type": "text"
      },
      "source": [
        "Temos a localização de todos os apartamentos para venda na cidade, mas queria ver quais são os bairros que tem a maior média de preço, temos que Iguatemi tem o maior preço de venda de apartamentos.\n",
        "\n",
        "Não sou de São Paulo, então é uma boa prática seria validar se esse resultado está de acordo com a realidade do bairro."
      ]
    },
    {
      "cell_type": "markdown",
      "metadata": {
        "id": "flaS0eRxsHf8",
        "colab_type": "text"
      },
      "source": [
        "# Modelos de Machine Learning\n",
        "\n",
        "Para esse projeto iremos usar algumas variáveis númericas para prever a variável target `price`. "
      ]
    },
    {
      "cell_type": "code",
      "metadata": {
        "id": "4ObcghS_h8gV",
        "colab_type": "code",
        "colab": {}
      },
      "source": [
        "from xgboost import XGBRegressor\n",
        "from sklearn import linear_model\n",
        "from sklearn.linear_model import LinearRegression\n",
        "from sklearn.ensemble import RandomForestRegressor\n",
        "from sklearn import ensemble\n",
        "from sklearn import preprocessing\n",
        "from sklearn.model_selection import train_test_split\n",
        "from sklearn.metrics import r2_score, mean_squared_error, mean_absolute_error"
      ],
      "execution_count": 0,
      "outputs": []
    },
    {
      "cell_type": "markdown",
      "metadata": {
        "id": "q06SdBhPJiHV",
        "colab_type": "text"
      },
      "source": [
        "## Pre-processing\n",
        "\n",
        "Vamos iniciar um pré-processamento, vamos retirar algumas variáveis que não me interessa para o nosso modelo, já fiz alguns testes e essas variáveis não faz com que o nosso modelo seja mais eficiente, mas para o futuro seria interessante adicionar as variáveis `elevator`, `furnished`, `swimming_pool` e `new`. Nesse primeiro projeto iremos manter mais simples.\n",
        "\n",
        "Após isso, vamos usar o LabelEncoder para transformar a variável `district` de categórica para númerica. Então, esse processo transforma, por exemplo, o valor categórico 'Carrão' será transformado para o valor número '19', e o nosso modelo de ML irá usar isso para poder prever os futuros dados."
      ]
    },
    {
      "cell_type": "code",
      "metadata": {
        "id": "OuwbkcHNKpUF",
        "colab_type": "code",
        "colab": {}
      },
      "source": [
        "# retirar toda a coluna das variáveis\n",
        "df_sale.drop(['property_type', 'latitude', 'longitude','negotiation_type', 'elevator', 'furnished', 'swimming_pool', 'new'], axis=1, inplace=True)"
      ],
      "execution_count": 0,
      "outputs": []
    },
    {
      "cell_type": "code",
      "metadata": {
        "id": "ZTxtVgd7cdhy",
        "colab_type": "code",
        "colab": {}
      },
      "source": [
        "# instanciar o LabelEncoder e treinar ele com os dados de 'district'\n",
        "le = preprocessing.LabelEncoder()\n",
        "df_sale['district'] = le.fit_transform(df_sale['district'])"
      ],
      "execution_count": 0,
      "outputs": []
    },
    {
      "cell_type": "markdown",
      "metadata": {
        "id": "upgTNA-6K27X",
        "colab_type": "text"
      },
      "source": [
        "Feito isso, vamos agora partir pro processo de dividir os nossos dados de teste e treino."
      ]
    },
    {
      "cell_type": "code",
      "metadata": {
        "id": "nCJIGilSK2PT",
        "colab_type": "code",
        "colab": {}
      },
      "source": [
        "# separar entre variáveis X e y\n",
        "X = df_sale[['condo', 'size', 'rooms', 'toilets', 'suites', 'parking','district']]\n",
        "y = df_sale['price']\n",
        "\n",
        "# split entre datasets de treino e teste\n",
        "X_train, X_test, y_train, y_test = train_test_split(X, y, test_size=0.3, random_state=42)"
      ],
      "execution_count": 0,
      "outputs": []
    },
    {
      "cell_type": "markdown",
      "metadata": {
        "id": "5qV-oZ0jLHGt",
        "colab_type": "text"
      },
      "source": [
        "O intuito do modelo é a previsão do valor do preço de venda de um imóvel, com isso já sei que vamos usar os algoritmos de regressão, existe vários algoritmos de regressão, vou escolher alguns para ver como eles se saem com os nosso dados. As métricas de avaliação dos modelos que escolhi, foram: r2_score, mean_squared_erros e mean_absolute_erros.\n",
        "\n",
        "A explicação do funcionamento de cada modelo e dos parâmetros fica para um próximo momento, ficaria bastante extenso o notebook. Não entrei também no processo de tunning dos parâmetros, em um projeto real devemos fazer todo esse processo, mas aqui o projeto é tem como intuito o treino/estudo, vamos manter um pouco mais simples."
      ]
    },
    {
      "cell_type": "markdown",
      "metadata": {
        "id": "q-qlarKicV1R",
        "colab_type": "text"
      },
      "source": [
        "## XGBoost"
      ]
    },
    {
      "cell_type": "markdown",
      "metadata": {
        "id": "WGFj1T1gNFJz",
        "colab_type": "text"
      },
      "source": [
        "Os parâmetros desse modelo foram retirados de alguns artigos que li sobre, e fui testando até chegar nesses."
      ]
    },
    {
      "cell_type": "code",
      "metadata": {
        "id": "W72XilAwsFyJ",
        "colab_type": "code",
        "outputId": "2169699a-fcb0-47ce-ca28-47b88e4cc121",
        "colab": {
          "base_uri": "https://localhost:8080/",
          "height": 104
        }
      },
      "source": [
        "# instanciar e treinar o modelo\n",
        "model_xgboost = XGBRegressor(max_depth=3,\n",
        "                         min_child_weight=1.7817, n_estimators=2200,\n",
        "                         reg_alpha=0.4640, reg_lambda=0.8571,\n",
        "                         subsample=0.5213, silent=1,\n",
        "                         random_state =42, nthread = -1)\n",
        "model_xgboost.fit(X_train, y_train)\n",
        "\n",
        "# fazer as previsões em cima do dataset de teste\n",
        "y_pred_xgboost = model_xgboost.predict(X_test)\n",
        "\n",
        "# métricas de avaliação\n",
        "print(\"r2: \\t{:.4f}\".format(r2_score(y_test, y_pred_xgboost)))\n",
        "print(\"MAE: \\t{:.4f}\".format(mean_absolute_error(y_test, y_pred_xgboost)))\n",
        "print(\"MSE: \\t{:.4f}\".format(mean_squared_error(y_test, y_pred_xgboost)))"
      ],
      "execution_count": 0,
      "outputs": [
        {
          "output_type": "stream",
          "text": [
            "/usr/local/lib/python3.6/dist-packages/xgboost/core.py:587: FutureWarning: Series.base is deprecated and will be removed in a future version\n",
            "  if getattr(data, 'base', None) is not None and \\\n"
          ],
          "name": "stderr"
        },
        {
          "output_type": "stream",
          "text": [
            "r2: \t0.8700\n",
            "MAE: \t110700.3328\n",
            "MSE: \t58292344560.5136\n"
          ],
          "name": "stdout"
        }
      ]
    },
    {
      "cell_type": "markdown",
      "metadata": {
        "id": "_-GkN8RqcYFe",
        "colab_type": "text"
      },
      "source": [
        "## LASSO Regression"
      ]
    },
    {
      "cell_type": "code",
      "metadata": {
        "id": "weaDdRqmcaas",
        "colab_type": "code",
        "outputId": "c5f6015f-78ac-4c3f-857f-5eb80aabc2cc",
        "colab": {
          "base_uri": "https://localhost:8080/",
          "height": 69
        }
      },
      "source": [
        "# instanciar e treinar o modelo\n",
        "model_lasso = linear_model.Lasso(alpha=0.1,random_state =42)\n",
        "model_lasso.fit(X_train, y_train)\n",
        "\n",
        "# fazer as previsões em cima do dataset de teste\n",
        "y_pred_lasso = model_lasso.predict(X_test)\n",
        "\n",
        "# métricas de avaliação\n",
        "print(\"r2: \\t{:.4f}\".format(r2_score(y_test, y_pred_lasso)))\n",
        "print(\"MAE: \\t{:.4f}\".format(mean_absolute_error(y_test, y_pred_lasso)))\n",
        "print(\"MSE: \\t{:.4f}\".format(mean_squared_error(y_test, y_pred_lasso)))"
      ],
      "execution_count": 0,
      "outputs": [
        {
          "output_type": "stream",
          "text": [
            "r2: \t0.7293\n",
            "MAE: \t187141.8827\n",
            "MSE: \t121425743047.0754\n"
          ],
          "name": "stdout"
        }
      ]
    },
    {
      "cell_type": "markdown",
      "metadata": {
        "id": "qlRuww6CcrbT",
        "colab_type": "text"
      },
      "source": [
        "## Random Forest Regression"
      ]
    },
    {
      "cell_type": "code",
      "metadata": {
        "id": "QgWZk6TycvYl",
        "colab_type": "code",
        "outputId": "7321f42a-8f9c-4a68-ad99-c0ba7c2126e4",
        "colab": {
          "base_uri": "https://localhost:8080/",
          "height": 69
        }
      },
      "source": [
        "# instanciar e treinar o modelo\n",
        "model_rfr = RandomForestRegressor(random_state =42)\n",
        "model_rfr.fit(X_train, y_train)\n",
        "\n",
        "# fazer as previsões em cima do dataset de teste\n",
        "y_pred_rfr = model_rfr.predict(X_test)\n",
        "\n",
        "# métricas de avaliação\n",
        "print(\"r2: \\t{:.4f}\".format(r2_score(y_test, y_pred_rfr)))\n",
        "print(\"MAE: \\t{:.4f}\".format(mean_absolute_error(y_test, y_pred_rfr)))\n",
        "print(\"MSE: \\t{:.4f}\".format(mean_squared_error(y_test, y_pred_rfr)))"
      ],
      "execution_count": 0,
      "outputs": [
        {
          "output_type": "stream",
          "text": [
            "r2: \t0.8619\n",
            "MAE: \t118208.1299\n",
            "MSE: \t61952392489.0035\n"
          ],
          "name": "stdout"
        }
      ]
    },
    {
      "cell_type": "markdown",
      "metadata": {
        "id": "m1OPmo1bcu4k",
        "colab_type": "text"
      },
      "source": [
        "## Linear Regression"
      ]
    },
    {
      "cell_type": "code",
      "metadata": {
        "id": "5w6C5XlVdNnv",
        "colab_type": "code",
        "outputId": "2499951c-52ff-4808-abb6-92c4a81ab0ab",
        "colab": {
          "base_uri": "https://localhost:8080/",
          "height": 69
        }
      },
      "source": [
        "# instanciar e treinar o modelo\n",
        "model_lr = LinearRegression()\n",
        "model_lr.fit(X_train, y_train)\n",
        "\n",
        "# fazer as previsões em cima do dataset de teste\n",
        "y_pred_lr = model_lr.predict(X_test)\n",
        "\n",
        "# métricas de avaliação\n",
        "print(\"r2: \\t{:.4f}\".format(r2_score(y_test, y_pred_lr)))\n",
        "print(\"MAE: \\t{:.4f}\".format(mean_absolute_error(y_test, y_pred_lr)))\n",
        "print(\"MSE: \\t{:.4f}\".format(mean_squared_error(y_test, y_pred_lr)))"
      ],
      "execution_count": 0,
      "outputs": [
        {
          "output_type": "stream",
          "text": [
            "r2: \t0.7293\n",
            "MAE: \t187141.9543\n",
            "MSE: \t121425749997.6168\n"
          ],
          "name": "stdout"
        }
      ]
    },
    {
      "cell_type": "markdown",
      "metadata": {
        "id": "JD4VlZtgj6oU",
        "colab_type": "text"
      },
      "source": [
        "## Ensemble Gradient Boosting Regressor"
      ]
    },
    {
      "cell_type": "markdown",
      "metadata": {
        "id": "3MHZ5YNJNQMt",
        "colab_type": "text"
      },
      "source": [
        "Os parâmetros desse modelo foram retirados de alguns artigos que li sobre, e fui testando até chegar nesses."
      ]
    },
    {
      "cell_type": "code",
      "metadata": {
        "id": "RiilqULXj1Af",
        "colab_type": "code",
        "outputId": "4fea4c30-f7e9-48bf-af57-02344870207c",
        "colab": {
          "base_uri": "https://localhost:8080/",
          "height": 69
        }
      },
      "source": [
        "# instanciar e treinar o modelo\n",
        "model_en = ensemble.GradientBoostingRegressor(n_estimators=400, max_depth=4, learning_rate=0.1, loss='ls', min_samples_split=2,random_state =42)\n",
        "model_en.fit(X_train, y_train)\n",
        "\n",
        "# fazer previsões em cima do dataset de teste\n",
        "y_pred_en = model_en.predict(X_test)\n",
        "\n",
        "# métricas de avaliação\n",
        "print(\"r2: \\t{:.4f}\".format(r2_score(y_test, y_pred_en)))\n",
        "print(\"MAE: \\t{:.4f}\".format(mean_absolute_error(y_test, y_pred_en)))\n",
        "print(\"MSE: \\t{:.4f}\".format(mean_squared_error(y_test, y_pred_en)))"
      ],
      "execution_count": 0,
      "outputs": [
        {
          "output_type": "stream",
          "text": [
            "r2: \t0.8876\n",
            "MAE: \t109500.7608\n",
            "MSE: \t50424357753.2230\n"
          ],
          "name": "stdout"
        }
      ]
    },
    {
      "cell_type": "markdown",
      "metadata": {
        "id": "6vi_W4pvN2NR",
        "colab_type": "text"
      },
      "source": [
        "De todos esses modelos, temos que o Ensemble é modelo que deve as melhores métricas, vamos comparar:\n",
        "\n",
        "| Modelo | r2   | MAE   | MSE   |\n",
        "|------|------|------|------|\n",
        "|   XGBoost  | 0.8694|   112452.1951  | 58576833361.0457|\n",
        "|   LASSO  | 0.7293|   187141.8827  | 121425743047.0754|\n",
        "|   Random Forest  | 0.8513|   119049.1746  | 66709406068.8176|\n",
        "|   Linear  | 0.7293|   187141.9543  | 121425749997.6168|\n",
        "|   Ensemble  | 0.8890|   109087.3486  | 49808094192.0536 |"
      ]
    },
    {
      "cell_type": "markdown",
      "metadata": {
        "id": "6It_0G_LPSLB",
        "colab_type": "text"
      },
      "source": [
        "Com a estatística mostrada na tabela acima, podemos comparar a performance dos modelos. O r2_score é uma métrica importante, ela nós diz a acurácia do modelo, vamos partir dela para escolher o modelo.\n",
        "\n",
        "Para o nosso conjunto de dados, o algoritmo Ensemble teve um score de previsão de 88.90%, que é um bom resultado, no futuro podemos incluir mais variáveis para melhorar o modelo e também começar o processo de tunning dos parâmetros. Mas por hora, esse modelo será escolhido pois teve uma melhor performance em comparação com os outros."
      ]
    },
    {
      "cell_type": "markdown",
      "metadata": {
        "id": "MUSgJfsZQS3t",
        "colab_type": "text"
      },
      "source": [
        "# Conclusão"
      ]
    },
    {
      "cell_type": "markdown",
      "metadata": {
        "id": "84hMsvTTQUzQ",
        "colab_type": "text"
      },
      "source": [
        "O conjunto de dados aqui estudado é um bastante conhecido e com isso podemos aplicar vários modelos para aprender sobre eles, fizemos uma rápida análise de exploração dos dados e descobrimos algumas coisas interessantes, por exemplo, tem apartamento com nove vagas de garagem. Partimos para criar modelos de Machine Learning onde o intuito é conseguir criar um modelo que possa prever o valor de um apartamento na cidade de São Paulo.\n",
        "\n",
        "Então  escolhemos que os algoritmos de Regressão são os melhores para esse fim, e o que se saiu melhor em comparação com outros, foi o Ensemble, dado a quantidade de dados, temos somente dados de Abril de 2019, ele teve um score de 88.90% de previsão, assim esse modelo tem uma alta possibilidade de prever o resultado de futuros dados. "
      ]
    },
    {
      "cell_type": "markdown",
      "metadata": {
        "id": "3_qRt3AOajvy",
        "colab_type": "text"
      },
      "source": [
        "<p align=center>\n",
        "<img src=\"https://i.imgur.com/5dXR97c.png\" width=\"70%\"></p>"
      ]
    },
    {
      "cell_type": "markdown",
      "metadata": {
        "id": "HmX17mKfRiVf",
        "colab_type": "text"
      },
      "source": [
        "Para ver o funcionamento desse modelo, eu criei de forma bem simples, um WebApp que podemos entrar com valores reais e com isso prever o valor com os dados de entrada, usando o modelo Ensemble treinado. A imagem acima mostra uma forma de como podemos implantar um modelo de Machine Learning, assim o usuário entra com os dados das características do apartamento e ele conseguir calcular a previsão do preço do imóvel.\n",
        "\n",
        "Para testar, [Clique aqui](https://datascience-mathdeoliveira.herokuapp.com/)"
      ]
    },
    {
      "cell_type": "markdown",
      "metadata": {
        "id": "DRXWpTgucZLD",
        "colab_type": "text"
      },
      "source": [
        "Os tópicos abaixo mostram como podemos salvar o modelo treinado e como podemos fazer uma aplicação de teste para ver o resultado do modelo."
      ]
    },
    {
      "cell_type": "markdown",
      "metadata": {
        "id": "Ta8awWn4yt9A",
        "colab_type": "text"
      },
      "source": [
        "# Salvando o modelo\n",
        "\n",
        "Vamos exportar o modelo treinado acima por meio da biblioteca `pickle` e usar ele no nosso webapp."
      ]
    },
    {
      "cell_type": "code",
      "metadata": {
        "colab_type": "code",
        "id": "wcv6awOs7ZnF",
        "colab": {}
      },
      "source": [
        "# salvar o modelo em formato pkl\n",
        "\n",
        "import pickle\n",
        "\n",
        "with open('modelo.pkl', 'wb') as file:\n",
        "  pickle.dump(model_en,file)"
      ],
      "execution_count": 0,
      "outputs": []
    },
    {
      "cell_type": "markdown",
      "metadata": {
        "id": "BGD7d1RKzJos",
        "colab_type": "text"
      },
      "source": [
        "É importante também salvar as nomes das features que o modelo espera receber."
      ]
    },
    {
      "cell_type": "code",
      "metadata": {
        "id": "qhU2ecDZzAjp",
        "colab_type": "code",
        "colab": {}
      },
      "source": [
        "# salvar os nomes das features do modelo simples\n",
        "features = X_train.columns.values\n",
        "\n",
        "with open('features.names', 'wb') as file:\n",
        "    pickle.dump(features, file)"
      ],
      "execution_count": 0,
      "outputs": []
    },
    {
      "cell_type": "markdown",
      "metadata": {
        "id": "AuuokEkwjWGP",
        "colab_type": "text"
      },
      "source": [
        "Deve-se também salvar o LabelEncoder treinado."
      ]
    },
    {
      "cell_type": "code",
      "metadata": {
        "id": "gzhFlTGNjWQ8",
        "colab_type": "code",
        "colab": {}
      },
      "source": [
        "with open('district_encoder.pkl', 'wb') as file:\n",
        "  pickle.dump(le, file)"
      ],
      "execution_count": 0,
      "outputs": []
    },
    {
      "cell_type": "markdown",
      "metadata": {
        "id": "2c-ugfPXzY5K",
        "colab_type": "text"
      },
      "source": [
        "# Carregar o modelo\n",
        "\n",
        "Vamos carregar aqui o modelo treinado para testar o funcionamento"
      ]
    },
    {
      "cell_type": "code",
      "metadata": {
        "id": "bg27VNfNzdiR",
        "colab_type": "code",
        "colab": {}
      },
      "source": [
        "# importar modelo e feature names\n",
        "with open('/content/modelo.pkl', 'rb') as file:\n",
        "  model = pickle.load(file)\n",
        "with open('/content/features.names', 'rb') as file:\n",
        "  features_names = pickle.load(file)\n",
        "with open('/content/district_encoder.pkl', 'rb') as file:\n",
        "  district_encoder = pickle.load(file)"
      ],
      "execution_count": 0,
      "outputs": []
    },
    {
      "cell_type": "code",
      "metadata": {
        "id": "g13tF7zLzlAd",
        "colab_type": "code",
        "colab": {}
      },
      "source": [
        "# ver o tipo da nova variável\n",
        "type(model)"
      ],
      "execution_count": 0,
      "outputs": []
    },
    {
      "cell_type": "code",
      "metadata": {
        "id": "63BGOGHm3YkK",
        "colab_type": "code",
        "colab": {}
      },
      "source": [
        "features_names"
      ],
      "execution_count": 0,
      "outputs": []
    },
    {
      "cell_type": "markdown",
      "metadata": {
        "id": "wOAxlhLa07WN",
        "colab_type": "text"
      },
      "source": [
        "# Testando o modelo"
      ]
    },
    {
      "cell_type": "markdown",
      "metadata": {
        "id": "4cFFk-stR-8X",
        "colab_type": "text"
      },
      "source": [
        "Vamos entrar com dados fictícios para simular uma entrada real das características de um apartamento feita por um usuário e com isso mostrar a previsão feita pelo nosos modelo."
      ]
    },
    {
      "cell_type": "code",
      "metadata": {
        "id": "L-9-WTS30-iQ",
        "colab_type": "code",
        "colab": {}
      },
      "source": [
        "# entradas do usuário\n",
        "entrada_dados= {\n",
        "    'condo': '300',\n",
        "    'size' :  '45',\n",
        "    'rooms' : '2',\n",
        "    'toilets': '2',\n",
        "    'suites' : '1',\n",
        "    'parking' : '1',\n",
        "    'district' : district_encoder.transform(['Carrão'])[0]\n",
        "}"
      ],
      "execution_count": 0,
      "outputs": []
    },
    {
      "cell_type": "code",
      "metadata": {
        "id": "WbQKphmr2N1C",
        "colab_type": "code",
        "colab": {}
      },
      "source": [
        "# input para dataframe\n",
        "df_teste = pd.DataFrame(index=[0], columns=features_names)\n",
        "df_teste = df_teste.fillna(value=0)\n",
        "\n",
        "for i in entrada_dados.items():\n",
        "  df_teste[i[0]] = i[1]\n",
        " \n",
        "  df_teste = df_teste.astype(float)"
      ],
      "execution_count": 0,
      "outputs": []
    },
    {
      "cell_type": "code",
      "metadata": {
        "id": "r_WSxVRT8m-c",
        "colab_type": "code",
        "colab": {}
      },
      "source": [
        "df_teste"
      ],
      "execution_count": 0,
      "outputs": []
    },
    {
      "cell_type": "markdown",
      "metadata": {
        "id": "qdTIxGoA2vNZ",
        "colab_type": "text"
      },
      "source": [
        "## Previsão com o modelo treinado"
      ]
    },
    {
      "cell_type": "code",
      "metadata": {
        "id": "ufM121_L2pBT",
        "colab_type": "code",
        "colab": {}
      },
      "source": [
        "y_pred_test = model.predict(df_teste)[0]"
      ],
      "execution_count": 0,
      "outputs": []
    },
    {
      "cell_type": "code",
      "metadata": {
        "id": "7P--jRyj20wu",
        "colab_type": "code",
        "colab": {}
      },
      "source": [
        "print('Temos que para os dados de entrada, o valor previsto pelo nosso modelo foi de: R${:,.2f}'.format(y_pred_test))"
      ],
      "execution_count": 0,
      "outputs": []
    }
  ]
}